{
 "cells": [
  {
   "cell_type": "code",
   "execution_count": 1,
   "metadata": {},
   "outputs": [],
   "source": [
    "from pygbif import species as species_api"
   ]
  },
  {
   "cell_type": "code",
   "execution_count": 8,
   "metadata": {},
   "outputs": [
    {
     "data": {
      "text/plain": [
       "{'usageKey': 5115818,\n",
       " 'acceptedUsageKey': 8148822,\n",
       " 'scientificName': 'Arctia villica Linnaeus, 1758',\n",
       " 'canonicalName': 'Arctia villica',\n",
       " 'rank': 'SPECIES',\n",
       " 'status': 'SYNONYM',\n",
       " 'confidence': 100,\n",
       " 'matchType': 'EXACT',\n",
       " 'kingdom': 'Animalia',\n",
       " 'phylum': 'Arthropoda',\n",
       " 'order': 'Lepidoptera',\n",
       " 'family': 'Erebidae',\n",
       " 'genus': 'Epicallia',\n",
       " 'species': 'Epicallia villica',\n",
       " 'kingdomKey': 1,\n",
       " 'phylumKey': 54,\n",
       " 'classKey': 216,\n",
       " 'orderKey': 797,\n",
       " 'familyKey': 4532185,\n",
       " 'genusKey': 4689585,\n",
       " 'speciesKey': 8148822,\n",
       " 'synonym': True,\n",
       " 'class': 'Insecta'}"
      ]
     },
     "execution_count": 8,
     "metadata": {},
     "output_type": "execute_result"
    }
   ],
   "source": [
    "name = \"Arctia villica Linnaeus, 1758\"\n",
    "data = species_api.name_backbone(name=name, strict=True, rank=\"species\")\n",
    "data\n"
   ]
  },
  {
   "cell_type": "code",
   "execution_count": 7,
   "metadata": {},
   "outputs": [
    {
     "data": {
      "text/plain": [
       "{'usageKey': 5115818,\n",
       " 'acceptedUsageKey': 8148822,\n",
       " 'scientificName': 'Arctia villica Linnaeus, 1758',\n",
       " 'canonicalName': 'Arctia villica',\n",
       " 'rank': 'SPECIES',\n",
       " 'status': 'SYNONYM',\n",
       " 'confidence': 99,\n",
       " 'matchType': 'EXACT',\n",
       " 'kingdom': 'Animalia',\n",
       " 'phylum': 'Arthropoda',\n",
       " 'order': 'Lepidoptera',\n",
       " 'family': 'Erebidae',\n",
       " 'genus': 'Epicallia',\n",
       " 'species': 'Epicallia villica',\n",
       " 'kingdomKey': 1,\n",
       " 'phylumKey': 54,\n",
       " 'classKey': 216,\n",
       " 'orderKey': 797,\n",
       " 'familyKey': 4532185,\n",
       " 'genusKey': 4689585,\n",
       " 'speciesKey': 8148822,\n",
       " 'synonym': True,\n",
       " 'class': 'Insecta'}"
      ]
     },
     "execution_count": 7,
     "metadata": {},
     "output_type": "execute_result"
    }
   ],
   "source": [
    "name = \"Arctia villica\"\n",
    "data = species_api.name_backbone(name=name, strict=True, rank=\"species\")\n",
    "data"
   ]
  },
  {
   "cell_type": "code",
   "execution_count": null,
   "metadata": {},
   "outputs": [],
   "source": []
  }
 ],
 "metadata": {
  "kernelspec": {
   "display_name": "gbif_download_standalone",
   "language": "python",
   "name": "python3"
  },
  "language_info": {
   "codemirror_mode": {
    "name": "ipython",
    "version": 3
   },
   "file_extension": ".py",
   "mimetype": "text/x-python",
   "name": "python",
   "nbconvert_exporter": "python",
   "pygments_lexer": "ipython3",
   "version": "3.11.5"
  },
  "orig_nbformat": 4
 },
 "nbformat": 4,
 "nbformat_minor": 2
}
