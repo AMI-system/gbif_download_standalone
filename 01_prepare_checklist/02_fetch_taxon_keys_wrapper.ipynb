{
 "cells": [
  {
   "cell_type": "markdown",
   "metadata": {},
   "source": [
    "# 2. Fetch Taxon Keys\n",
    "\n",
    "This script is used to quickly run fetch_taxon_keys code to get the taxonomic keys for a given species list.\n",
    "\n",
    "Instead of having to run `fetch_taxon_keys` through the terminal while providing it with arguments, this notebook uses SimpleNamespace module to create the `args` variable and passi to `fetch_taxon_keys`"
   ]
  },
  {
   "cell_type": "code",
   "execution_count": 1,
   "metadata": {},
   "outputs": [],
   "source": [
    "from types import SimpleNamespace\n",
    "\n",
    "import fetch_taxon_keys\n",
    "import pandas as pd\n",
    "import os"
   ]
  },
  {
   "cell_type": "code",
   "execution_count": 2,
   "metadata": {},
   "outputs": [
    {
     "name": "stdout",
     "output_type": "stream",
     "text": [
      "Leeds28102024\n"
     ]
    }
   ],
   "source": [
    "from datetime import datetime\n",
    "loc_date = 'Leeds' + datetime.today().strftime('%d%m%Y')\n",
    "print(loc_date)"
   ]
  },
  {
   "cell_type": "markdown",
   "metadata": {
    "tags": []
   },
   "source": [
    "## Anguilla"
   ]
  },
  {
   "cell_type": "code",
   "execution_count": 3,
   "metadata": {},
   "outputs": [
    {
     "name": "stdout",
     "output_type": "stream",
     "text": [
      "Fetching for  Aellopos tantalus\n",
      "Fetching for  Enyo lugubris\n",
      "Fetching for  Erinnyis ello\n",
      "Fetching for  Hyles lineata\n",
      "Fetching for  Pseudosphinx tetrio\n",
      "Fetching for  Xylophanes pluto\n",
      "Fetching forFetching for  Agrius cingulatus\n",
      "  Xylophanes tersa\n",
      "Fetching for  Manduca rustica\n",
      "Fetching for  Manduca sexta\n",
      "Fetching for  Pachylia ficus\n",
      "Fetching for  Psychonoctua personalis\n",
      "Fetching for  Drepanodes ephyrata\n",
      "Fetching for  Psamatodes abydata\n",
      "Fetching forFetching for  Ptychamalia perlata\n",
      "  Eumacrodes yponomeutaria\n",
      "Fetching for  Synchlora frondaria\n",
      "Fetching for  Synchlora herbaria\n",
      "Fetching for  Sphacelodes vulneraria\n",
      "Fetching for  Lobocleta peralbata\n",
      "Fetching for  Empyreuma pugione\n",
      "Fetching for  Horama panthalon\n",
      "Fetching for  Utetheisa ornatrix\n",
      "Fetching for  Utetheisa pulchella\n",
      "Fetching forFetching for  Ommatochila mundula\n",
      "  Eublemma recta\n",
      "Fetching for  Kakopoda progenies\n",
      "Fetching for  Lesmone formularis\n",
      "Fetching forFetching for  Melipotis famelica\n",
      "  Melipotis acontioides\n",
      "Fetching for  Melipotis fasciolaris\n",
      "Fetching for  Melipotis januaris\n",
      "Fetching forFetching for  Mocis latipes\n",
      "  Ascalapha odorata\n",
      "Fetching for  Ptichodis immunis\n",
      "Fetching for  Anticarsia gemmatalis\n",
      "Fetching for  Hypena lividalis\n",
      "Fetching for  Hypena minualis\n",
      "Fetching for  Spragueia margana\n",
      "Fetching for  Magusa orbifera\n",
      "Fetching for  Amyna stricta\n",
      "Fetching for  Cydosia nobilitella\n",
      "Fetching for  Anicla inflecta\n",
      "Fetching for  Elaphria agrotina\n",
      "Fetching for  Spodoptera albula\n",
      "Fetching for  Spodoptera frugiperda\n",
      "Fetching for  Spodoptera latifascia\n",
      "Fetching for  Garella nilotica\n",
      "Fetching for  Diphthera festiva\n",
      "Fetching for  Lantanophaga pusillidactylus\n",
      "Fetching for  Megalorhipida leucodactylus\n",
      "Fetching for  Argyria lacteella\n",
      "Fetching forFetching for  Asciodes gordialis\n",
      "  Samea ecclesialis\n",
      "Fetching for  Bicilia iarchasalis\n",
      "Fetching for  Diaphania hyalinata\n",
      "Fetching forFetching for  Eulepte concordalis\n",
      "  Ercta vittata\n",
      "Fetching for  Herpetogramma bipunctalis\n",
      "Fetching for  Herpetogramma phaeopteralis\n",
      "Fetching for  Palpita flegia\n",
      "Fetching for  Palpita quadristigmalis\n",
      "Fetching for  Spoladea recurvalis\n",
      "Fetching for  Stemorrhages costata\n",
      "Fetching for  Mimoschinia rufofascialis\n",
      "Fetching for  Syngamia florella\n",
      "Fetching for  Dichogama colotha\n",
      "Fetching for  Atteva intermedia\n",
      "Fetching forFetching for  Etiella zinckenella\n",
      "  Ethmia confusella\n",
      "Fetching for  Disclisioprocta stellata\n",
      "Fetching for  Eulepte gastralis\n",
      "Fetching forFetching for  Synclera jarbusalis\n",
      "  Paectes arcigera\n",
      "Fetching for  Samea castellalis\n",
      "Fetching for  Psamatodes everlata\n",
      "Fetching for  Azeta repugnalis\n",
      "Fetching for  Acrolophus walsinghami\n",
      "Fetching for  Palpita isoscelalis\n",
      "Fetching for  Semaeopus indignaria\n",
      "Fetching for  Manduca paphus\n",
      "Fetching for  Mocis\n",
      "Fetching for  Diaphania indica\n",
      "Fetching for  Eutelia\n",
      "Fetching for  Hellula\n",
      "Fetching for  Euphyia\n",
      "Fetching for  Cadra\n",
      "Fetching for  Chloridea\n",
      "Fetching forFetching for  Diaphania costata\n",
      "  Argyria quietalis\n",
      "Fetching for  Argyria diplomochalis\n",
      "Fetching for  Diaphania saccharalis\n",
      "Fetching for  Diaphania innocua\n",
      "Fetching for  Diaphania redtenbacheri\n",
      "Fetching for  Evergestella evincalis\n",
      "Fetching for  Glaphyria sesquistralis\n",
      "Fetching for  Hellula phidilealis\n",
      "Fetching for  Cliniodes euphrosinalis\n",
      "Fetching for  Achyra bifidalis\n",
      "Fetching for  Epicorsia cerata\n",
      "Fetching for  Oenobotys vinotinctalis\n",
      "Fetching for  Portentomorpha xanthialis\n",
      "Fetching for  Apogeshna stenialis\n",
      "Fetching for  Arthromastix lauralis\n",
      "Fetching for  Azochis euvexalis\n",
      "Fetching for  Cryptobotys zoilusalis\n",
      "Fetching for  Diaphania nitidalis\n",
      "Fetching for  Glyphodes sibillalis\n",
      "Fetching for  Hymenia perspectalis\n",
      "Fetching for  Loxomorpha flavidissimilis\n",
      "Fetching for  Lygropia plumbicostalis\n",
      "Fetching for  Omiodes indicate\n",
      "Fetching for  Ommatochila narcaeusalis\n",
      "Fetching for  Pilocrocis ramentalis\n",
      "Fetching for  Polygrammodes eleuta\n",
      "Fetching for  Psara obscuralis\n",
      "Fetching for  Sathria onophasalis\n",
      "Fetching for  Steniodes mendica\n",
      "Fetching for  Syllepis marialis\n",
      "Fetching for  Bonchis munitalis\n",
      "Fetching for  Streptopalpia minusculalis\n",
      "Fetching for  Ancyclostomia stercorea\n",
      "Fetching for  Cactoblastis cactorum\n",
      "Fetching for  Hypsopygia nostralis\n",
      "Fetching for  Caphys biliniata\n",
      "Fetching for  Hypercompe icasia\n",
      "Fetching for  Horama pretus\n",
      "Fetching for  Nyridela chalciope\n",
      "Fetching for  Hyalurga vinosa\n",
      "Fetching for  Eublemma cinnamomea\n",
      "Fetching for  Hemeroplanis scopulepes\n",
      "Fetching for  Isogona scindens\n",
      "Fetching for  Gonodonta bidens\n",
      "Fetching for  Gonodonta incurva\n",
      "Fetching for  Gonodonta nutrix\n",
      "Fetching for  Gonodonta sicheas\n",
      "Fetching for  Parachabora abydas\n",
      "Fetching for  Melipotis contorta\n",
      "Fetching for  Neophisma tropicalis\n",
      "Fetching for  Phyprosopus tristriga\n",
      "Fetching for  Eulepidotis addens\n",
      "Fetching for  Eulepidotis modestula\n",
      "Fetching for  Massala asema\n",
      "Fetching for  Metallata absumens\n",
      "Fetching for  Syllectra ercata\n",
      "Fetching for  Lascoria orneodalis\n",
      "Fetching forFetching for  Caularis undulans\n",
      "  Ponometia exigua\n",
      "Fetching for  Bagisara repanda\n",
      "Fetching for  Condica albigera\n",
      "Fetching for  Condica circuita\n",
      "Fetching for  Condica concisa\n",
      "Fetching for  Condica cupentia\n",
      "Fetching for  Condica mobilis\n",
      "Fetching for  Condica sutor\n",
      "Fetching for  Micrathetis trplex\n",
      "Fetching for  Callopistria floridensis\n",
      "Fetching for  Marimatha\n",
      "Fetching for  Tripudia lamina\n",
      "Fetching for  Chloridea subflexa\n",
      "Fetching for  Chloridea virescens\n",
      "Fetching for  Helicoverpa zea\n",
      "Fetching forFetching for  Spodoptera dolichos\n",
      "  Leucania dorsalis\n",
      "Fetching for  Neogalea sunia\n",
      "Fetching for  Chrysodeixis includens\n",
      "Fetching for  Agrius cingulata\n",
      "Fetching for  Cautethia noctuiformis\n",
      "Fetching forFetching for  Erinnyis obscura\n",
      "  Erinnyis alope\n",
      "Fetching for  Eumorpha vitis\n",
      "Fetching for  Perigonia lusca\n",
      "Fetching for  Xylophanes chiron\n",
      "Fetching for  Hyblaea puera\n",
      "Fetching for  Collomena filifera\n",
      "Fetching for  Nola bistriga\n",
      "Fetching forFetching for  Nystalea ebalea\n",
      "  Concana mundissima\n",
      "Fetching for  Nystalea nyseus\n",
      "Fetching for  Patalene aphyrata\n",
      "Fetching for  Erastria decrepitaria\n",
      "Fetching for  Nepheloleuca politia\n",
      "Fetching for  Pero rectisectaria\n",
      "Fetching for  Semaeopus caecaria\n",
      "Fetching for  Synchlora cupedinaria\n",
      "Fetching for  Scopula umbilicata\n",
      "Fetching for  Pterocypha defensata\n",
      "Fetching for  Leptostales noctuata\n"
     ]
    }
   ],
   "source": [
    "# Fetch the taxonomic keys\n",
    "args = SimpleNamespace(\n",
    "    species_filepath=\"../species_checklists/anguilla-moths-preprocessed.csv\",\n",
    "    column_name_species=\"species_name_provided\",\n",
    "    column_name_authority=\"authority_name_provided\",\n",
    "    output_filepath=\"../species_checklists/anguilla-moths-keys.csv\",\n",
    "    place=loc_date,\n",
    "    use_multithreading=True\n",
    ")\n",
    "\n",
    "fetch_taxon_keys.save_taxon_keys(args)"
   ]
  },
  {
   "cell_type": "markdown",
   "metadata": {
    "jp-MarkdownHeadingCollapsed": true,
    "tags": []
   },
   "source": [
    "## Costa Rica"
   ]
  },
  {
   "cell_type": "code",
   "execution_count": null,
   "metadata": {},
   "outputs": [],
   "source": [
    "# Fetch the taxonomic keys\n",
    "args = SimpleNamespace(\n",
    "    species_filepath=\"../species_checklists/costarica-moths-preprocessed.csv\",\n",
    "    column_name_species=\"species_name_provided\",\n",
    "    column_name_authority=\"authority_name_provided\",\n",
    "    output_filepath=\"../species_checklists/costarica-moths-keys2.csv\",\n",
    "    place=loc_date,\n",
    "    use_multithreading=True\n",
    ")\n",
    "\n",
    "fetch_taxon_keys.save_taxon_keys(args)"
   ]
  },
  {
   "cell_type": "markdown",
   "metadata": {
    "jp-MarkdownHeadingCollapsed": true,
    "tags": []
   },
   "source": [
    "## Thailand"
   ]
  },
  {
   "cell_type": "code",
   "execution_count": null,
   "metadata": {},
   "outputs": [],
   "source": [
    "# Fetch the taxonomic keys\n",
    "args = SimpleNamespace(\n",
    "    species_filepath=\"../species_checklists/thailand-moths-preprocessed.csv\",\n",
    "    column_name_species=\"Species\",\n",
    "    column_name_authority=\"authority_name_provided\",\n",
    "    output_filepath=\"../species_checklists/thailand-moths-keys.csv\",\n",
    "    place=loc_date,\n",
    "    use_multithreading=True\n",
    ")\n",
    "\n",
    "fetch_taxon_keys.save_taxon_keys(args)"
   ]
  },
  {
   "cell_type": "markdown",
   "metadata": {
    "jp-MarkdownHeadingCollapsed": true,
    "tags": []
   },
   "source": [
    "## Madagascar"
   ]
  },
  {
   "cell_type": "code",
   "execution_count": null,
   "metadata": {},
   "outputs": [],
   "source": [
    "# list all the files matching \"../species_checklists/madagascar-moths-preprocessed-part*.csv\"\n",
    "files = os.listdir(\"../species_checklists/\")\n",
    "files = [f for f in files if f.startswith(\"madagascar-moths-preprocessed-part\") and f.endswith(\".csv\")]\n",
    "\n",
    "for f in files:\n",
    "    print(f)\n",
    "    # Fetch the taxonomic keys\n",
    "    args = SimpleNamespace(\n",
    "        species_filepath=\"../species_checklists/\" + f ,\n",
    "        column_name_species=\"Species\",\n",
    "        column_name_authority=\"Authority\",\n",
    "        output_filepath=\"../species_checklists/\" + f.replace(\"preprocessed\", \"keys\"),\n",
    "        place=loc_date,\n",
    "        use_multithreading=True\n",
    "    )\n",
    "\n",
    "    fetch_taxon_keys.save_taxon_keys(args)"
   ]
  },
  {
   "cell_type": "code",
   "execution_count": null,
   "metadata": {},
   "outputs": [],
   "source": [
    "# read in and combine \"../species_checklists/madagascar-moths-keys*.csv\"\n",
    "files = os.listdir(\"../species_checklists/\")\n",
    "files = [f for f in files if f.startswith(\"madagascar-moths-keys-part\") and f.endswith(\".csv\")]\n",
    "\n",
    "# read in all files and combine into one df\n",
    "df_reads = []\n",
    "for f in files:\n",
    "    df = pd.read_csv(\"../species_checklists/\" + f)\n",
    "    df_reads.append(df)\n",
    "\n",
    "madagascar_moths = pd.concat(df_reads, ignore_index=True)\n",
    "madagascar_moths.head()"
   ]
  },
  {
   "cell_type": "code",
   "execution_count": null,
   "metadata": {},
   "outputs": [],
   "source": [
    "madagascar_moths.to_csv(\"../species_checklists/madagascar-moths-keys.csv\", index=False)"
   ]
  },
  {
   "cell_type": "markdown",
   "metadata": {},
   "source": [
    "# Check the outputs"
   ]
  },
  {
   "cell_type": "code",
   "execution_count": null,
   "metadata": {},
   "outputs": [],
   "source": [
    "import pandas as pd"
   ]
  },
  {
   "cell_type": "code",
   "execution_count": 5,
   "metadata": {},
   "outputs": [
    {
     "data": {
      "text/plain": [
       "match_type\n",
       "EXACT         86.170213\n",
       "NONE          12.765957\n",
       "FUZZY          0.531915\n",
       "HIGHERRANK     0.531915\n",
       "Name: count, dtype: float64"
      ]
     },
     "execution_count": 5,
     "metadata": {},
     "output_type": "execute_result"
    }
   ],
   "source": [
    "df = pd.read_csv('~/amber/projects/gbif_download_standalone/species_checklists/anguilla-moths-keys.csv')\n",
    "df['match_type'].value_counts()/df.shape[0]*100\n",
    "\n",
    "# df.head()"
   ]
  },
  {
   "cell_type": "code",
   "execution_count": null,
   "metadata": {},
   "outputs": [],
   "source": [
    "df = pd.read_csv('~/amber/projects/gbif_download_standalone/species_checklists/thailand-moths-keys.csv')\n",
    "df['match_type'].value_counts()/df.shape[0]*100"
   ]
  },
  {
   "cell_type": "code",
   "execution_count": null,
   "metadata": {},
   "outputs": [],
   "source": [
    "df = pd.read_csv('~/amber/projects/gbif_download_standalone/species_checklists/madagascar-moths-keys.csv')\n",
    "df['match_type'].value_counts()/df.shape[0]*100"
   ]
  },
  {
   "cell_type": "code",
   "execution_count": null,
   "metadata": {},
   "outputs": [],
   "source": []
  }
 ],
 "metadata": {
  "kernelspec": {
   "display_name": "kg_conda_env2 (Conda)",
   "language": "python",
   "name": "sys_kg_conda_env2"
  },
  "language_info": {
   "codemirror_mode": {
    "name": "ipython",
    "version": 3
   },
   "file_extension": ".py",
   "mimetype": "text/x-python",
   "name": "python",
   "nbconvert_exporter": "python",
   "pygments_lexer": "ipython3",
   "version": "3.9.17"
  }
 },
 "nbformat": 4,
 "nbformat_minor": 4
}
