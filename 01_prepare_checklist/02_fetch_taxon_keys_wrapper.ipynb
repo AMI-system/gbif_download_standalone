{
 "cells": [
  {
   "cell_type": "markdown",
   "metadata": {},
   "source": [
    "# 2. Fetch Taxon Keys\n",
    "\n",
    "This script is used to quickly run fetch_taxon_keys code to get the taxonomic keys for a given species list.\n",
    "\n",
    "Instead of having to run `fetch_taxon_keys` through the terminal while providing it with arguments, this notebook uses SimpleNamespace module to create the `args` variable and passi to `fetch_taxon_keys`"
   ]
  },
  {
   "cell_type": "code",
   "execution_count": null,
   "metadata": {},
   "outputs": [],
   "source": [
    "from types import SimpleNamespace\n",
    "\n",
    "import fetch_taxon_keys\n",
    "import pandas as pd\n",
    "import os"
   ]
  },
  {
   "cell_type": "code",
   "execution_count": null,
   "metadata": {},
   "outputs": [],
   "source": [
    "from datetime import datetime\n",
    "loc_date = 'Leeds' + datetime.today().strftime('%d%m%Y')\n",
    "print(loc_date)"
   ]
  },
  {
   "cell_type": "markdown",
   "metadata": {
    "tags": []
   },
   "source": [
    "## Kenya and Uganda"
   ]
  },
  {
   "cell_type": "code",
   "execution_count": null,
   "metadata": {},
   "outputs": [],
   "source": [
    "# Fetch the taxonomic keys\n",
    "args = SimpleNamespace(\n",
    "    species_filepath=\"../species_checklists/kenya_uganda-gbif-moths-preprocessed.csv\",\n",
    "    column_name_species=\"species_name_provided\",\n",
    "    column_name_authority=\"authority_name_provided\",\n",
    "    output_filepath=\"../species_checklists/kenya-uganda-moths-keys.csv\",\n",
    "    place=loc_date,\n",
    "    use_multithreading=True\n",
    ")\n",
    "\n",
    "fetch_taxon_keys.save_taxon_keys(args)"
   ]
  },
  {
   "cell_type": "markdown",
   "metadata": {
    "jp-MarkdownHeadingCollapsed": true,
    "tags": []
   },
   "source": [
    "## Anguilla"
   ]
  },
  {
   "cell_type": "code",
   "execution_count": null,
   "metadata": {},
   "outputs": [],
   "source": [
    "# Fetch the taxonomic keys\n",
    "args = SimpleNamespace(\n",
    "    species_filepath=\"../species_checklists/anguilla-moths-preprocessed.csv\",\n",
    "    column_name_species=\"species_name_provided\",\n",
    "    column_name_authority=\"authority_name_provided\",\n",
    "    output_filepath=\"../species_checklists/anguilla-moths-keys.csv\",\n",
    "    place=loc_date,\n",
    "    use_multithreading=True\n",
    ")\n",
    "\n",
    "fetch_taxon_keys.save_taxon_keys(args)"
   ]
  },
  {
   "cell_type": "markdown",
   "metadata": {
    "jp-MarkdownHeadingCollapsed": true,
    "tags": []
   },
   "source": [
    "## Costa Rica"
   ]
  },
  {
   "cell_type": "code",
   "execution_count": null,
   "metadata": {},
   "outputs": [],
   "source": [
    "# Fetch the taxonomic keys\n",
    "args = SimpleNamespace(\n",
    "    species_filepath=\"../species_checklists/costarica-moths-preprocessed.csv\",\n",
    "    column_name_species=\"species_name_provided\",\n",
    "    column_name_authority=\"authority_name_provided\",\n",
    "    output_filepath=\"../species_checklists/costarica-moths-keys2.csv\",\n",
    "    place=loc_date,\n",
    "    use_multithreading=True\n",
    ")\n",
    "\n",
    "fetch_taxon_keys.save_taxon_keys(args)"
   ]
  },
  {
   "cell_type": "markdown",
   "metadata": {
    "jp-MarkdownHeadingCollapsed": true,
    "tags": []
   },
   "source": [
    "## Thailand"
   ]
  },
  {
   "cell_type": "code",
   "execution_count": null,
   "metadata": {},
   "outputs": [],
   "source": [
    "# Fetch the taxonomic keys\n",
    "args = SimpleNamespace(\n",
    "    species_filepath=\"../species_checklists/thailand-moths-preprocessed.csv\",\n",
    "    column_name_species=\"Species\",\n",
    "    column_name_authority=\"authority_name_provided\",\n",
    "    output_filepath=\"../species_checklists/thailand-moths-keys.csv\",\n",
    "    place=loc_date,\n",
    "    use_multithreading=True\n",
    ")\n",
    "\n",
    "fetch_taxon_keys.save_taxon_keys(args)"
   ]
  },
  {
   "cell_type": "markdown",
   "metadata": {
    "tags": []
   },
   "source": [
    "## Madagascar"
   ]
  },
  {
   "cell_type": "code",
   "execution_count": null,
   "metadata": {},
   "outputs": [],
   "source": [
    "# list all the files matching \"../species_checklists/madagascar-moths-preprocessed-part*.csv\"\n",
    "files = os.listdir(\"../species_checklists/\")\n",
    "files = [f for f in files if f.startswith(\"madagascar-moths-preprocessed-part\") and f.endswith(\".csv\")]\n",
    "\n",
    "for f in files:\n",
    "    print(f)\n",
    "    # Fetch the taxonomic keys\n",
    "    args = SimpleNamespace(\n",
    "        species_filepath=\"../species_checklists/\" + f ,\n",
    "        column_name_species=\"Species\",\n",
    "        column_name_authority=\"Authority\",\n",
    "        output_filepath=\"../species_checklists/\" + f.replace(\"preprocessed\", \"keys\"),\n",
    "        place=loc_date,\n",
    "        use_multithreading=True\n",
    "    )\n",
    "\n",
    "    fetch_taxon_keys.save_taxon_keys(args)"
   ]
  },
  {
   "cell_type": "code",
   "execution_count": null,
   "metadata": {},
   "outputs": [],
   "source": [
    "# read in and combine \"../species_checklists/madagascar-moths-keys*.csv\"\n",
    "files = os.listdir(\"../species_checklists/\")\n",
    "files = [f for f in files if f.startswith(\"madagascar-moths-keys-part\") and f.endswith(\".csv\")]\n",
    "\n",
    "# read in all files and combine into one df\n",
    "df_reads = []\n",
    "for f in files:\n",
    "    df = pd.read_csv(\"../species_checklists/\" + f)\n",
    "    df_reads.append(df)\n",
    "\n",
    "madagascar_moths = pd.concat(df_reads, ignore_index=True)\n",
    "madagascar_moths.head()"
   ]
  },
  {
   "cell_type": "code",
   "execution_count": null,
   "metadata": {},
   "outputs": [],
   "source": [
    "madagascar_moths.to_csv(\"../species_checklists/madagascar-moths-keys.csv\", index=False)"
   ]
  },
  {
   "cell_type": "markdown",
   "metadata": {},
   "source": [
    "# Check the outputs"
   ]
  },
  {
   "cell_type": "code",
   "execution_count": null,
   "metadata": {},
   "outputs": [],
   "source": [
    "import pandas as pd"
   ]
  },
  {
   "cell_type": "code",
   "execution_count": null,
   "metadata": {},
   "outputs": [],
   "source": [
    "df = pd.read_csv('~/amber/projects/gbif_download_standalone/species_checklists/anguilla-moths-keys.csv')\n",
    "df['match_type'].value_counts()/df.shape[0]*100\n",
    "\n",
    "# df.head()"
   ]
  },
  {
   "cell_type": "code",
   "execution_count": null,
   "metadata": {},
   "outputs": [],
   "source": [
    "df = pd.read_csv('~/amber/projects/gbif_download_standalone/species_checklists/thailand-moths-keys.csv')\n",
    "df['match_type'].value_counts()/df.shape[0]*100"
   ]
  },
  {
   "cell_type": "code",
   "execution_count": null,
   "metadata": {},
   "outputs": [],
   "source": [
    "df = pd.read_csv('~/amber/projects/gbif_download_standalone/species_checklists/madagascar-moths-keys.csv')\n",
    "df['match_type'].value_counts()/df.shape[0]*100"
   ]
  },
  {
   "cell_type": "code",
   "execution_count": null,
   "metadata": {},
   "outputs": [],
   "source": []
  }
 ],
 "metadata": {
  "kernelspec": {
   "display_name": "kg_conda_env2 (Conda)",
   "language": "python",
   "name": "sys_kg_conda_env2"
  },
  "language_info": {
   "codemirror_mode": {
    "name": "ipython",
    "version": 3
   },
   "file_extension": ".py",
   "mimetype": "text/x-python",
   "name": "python",
   "nbconvert_exporter": "python",
   "pygments_lexer": "ipython3",
   "version": "3.9.17"
  }
 },
 "nbformat": 4,
 "nbformat_minor": 4
}
