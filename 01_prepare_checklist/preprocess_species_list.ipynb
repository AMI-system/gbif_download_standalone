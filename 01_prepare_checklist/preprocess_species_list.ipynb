{
 "cells": [
  {
   "cell_type": "markdown",
   "metadata": {},
   "source": [
    "Short script to preprocess the species checklist.\n",
    "Will be modified for each incoming species checklist, depending on what must be done. \n",
    "\n",
    "The aim is to transform the column names of the checklist, so that: \n",
    "- The column with species name is called \"species_name_provided\"\n",
    "- The column with the authority is called \"authority_name_provided\"\n",
    "- The authority column is formatted as \"Lastname, year\" "
   ]
  },
  {
   "cell_type": "code",
   "execution_count": 7,
   "metadata": {},
   "outputs": [],
   "source": [
    "import pandas as pd\n",
    "import os"
   ]
  },
  {
   "cell_type": "code",
   "execution_count": 8,
   "metadata": {},
   "outputs": [],
   "source": [
    "checklist_name = \"costarica-moths\"\n",
    "\n",
    "df = pd.read_csv(os.path.join(\"../species_checklists\",checklist_name+\".csv\"))"
   ]
  },
  {
   "cell_type": "code",
   "execution_count": 9,
   "metadata": {},
   "outputs": [],
   "source": [
    "# Combine costa rica column names\n",
    "df[\"species_name_provided\"] = df[\"Genus\"].fillna('') + \" \" + df[\"Species\"].fillna('')\n",
    "\n",
    "df[\"authority_name_provided\"] = \"\""
   ]
  },
  {
   "cell_type": "code",
   "execution_count": 10,
   "metadata": {},
   "outputs": [],
   "source": [
    "# Transform column names\n",
    "# provided_species_column_name = \"Scientific Name\"\n",
    "# provided_authority_column_name = \"Authority\"\n",
    "\n",
    "# df = df.rename(columns={\n",
    "#     provided_species_column_name: \"species_name_provided\",\n",
    "#     provided_authority_column_name: \"authority_name_provided\"\n",
    "# })"
   ]
  },
  {
   "cell_type": "code",
   "execution_count": 11,
   "metadata": {},
   "outputs": [],
   "source": [
    "# Edit the column names to remove [] and ()\n",
    "# df['authority_name_provided'] = df['authority_name_provided'].replace('[\\(\\)\\[\\]]', '', regex=True)"
   ]
  },
  {
   "cell_type": "code",
   "execution_count": 12,
   "metadata": {},
   "outputs": [],
   "source": [
    "# Determine the split indices\n",
    "split1 = len(df) // 3\n",
    "split2 = 2 * split1\n",
    "\n",
    "# Split the DataFrame into three parts\n",
    "df1 = df.iloc[:split1]\n",
    "df2 = df.iloc[split1:split2]\n",
    "df3 = df.iloc[split2:]"
   ]
  },
  {
   "cell_type": "code",
   "execution_count": 13,
   "metadata": {},
   "outputs": [],
   "source": [
    "# Save the three parts to separate CSV files\n",
    "df1.to_csv(os.path.join(\"../species_checklists/\", \n",
    "                       checklist_name+\"-preprocessed-part1.csv\"),\n",
    "          index=False)\n",
    "df2.to_csv(os.path.join(\"../species_checklists/\", \n",
    "                       checklist_name+\"-preprocessed-part2.csv\"),\n",
    "          index=False)\n",
    "df3.to_csv(os.path.join(\"../species_checklists/\", \n",
    "                       checklist_name+\"-preprocessed-part3.csv\"),\n",
    "          index=False)"
   ]
  },
  {
   "cell_type": "code",
   "execution_count": 4,
   "metadata": {},
   "outputs": [],
   "source": [
    "# Save the csv file\n",
    "df.to_csv(os.path.join(\"../species_checklists/\", \n",
    "                       checklist_name+\"-preprocessed.csv\"),\n",
    "          index=False)"
   ]
  },
  {
   "cell_type": "code",
   "execution_count": null,
   "metadata": {},
   "outputs": [],
   "source": []
  }
 ],
 "metadata": {
  "kernelspec": {
   "display_name": "gbif_download_standalone (Conda)",
   "language": "python",
   "name": "sys_gbif_download_standalone"
  },
  "language_info": {
   "codemirror_mode": {
    "name": "ipython",
    "version": 3
   },
   "file_extension": ".py",
   "mimetype": "text/x-python",
   "name": "python",
   "nbconvert_exporter": "python",
   "pygments_lexer": "ipython3",
   "version": "3.11.5"
  }
 },
 "nbformat": 4,
 "nbformat_minor": 4
}
