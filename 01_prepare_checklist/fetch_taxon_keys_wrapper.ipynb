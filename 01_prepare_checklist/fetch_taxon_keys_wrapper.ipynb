{
 "cells": [
  {
   "cell_type": "markdown",
   "metadata": {},
   "source": [
    "This script is used to quickly run fetch_taxon_keys code to get the taxonomic keys for a given species list.\n",
    "\n",
    "Instead of having to run `fetch_taxon_keys` through the terminal while providing it with arguments, this notebook uses SimpleNamespace module to create the `args` variable and passi to `fetch_taxon_keys`"
   ]
  },
  {
   "cell_type": "code",
   "execution_count": null,
   "metadata": {},
   "outputs": [],
   "source": [
    "from types import SimpleNamespace\n",
    "\n",
    "import fetch_taxon_keys"
   ]
  },
  {
   "cell_type": "code",
   "execution_count": null,
   "metadata": {},
   "outputs": [],
   "source": [
    "# Fetch the taxonomic keys\n",
    "\n",
    "args = SimpleNamespace(\n",
    "    species_filepath=\"../species_checklists/costarica-moths-updated-preprocessed.csv\",\n",
    "    column_name_species=\"species_name_provided\",\n",
    "    column_name_authority=\"authority_name_provided\",\n",
    "    output_filepath=\"../species_checklists/costarica-moths-keys.csv\",\n",
    "    place=\"London03Nov2023\",\n",
    "    use_multithreading=True\n",
    ")\n",
    "\n",
    "fetch_taxon_keys.save_taxon_keys(args)"
   ]
  }
 ],
 "metadata": {
  "kernelspec": {
   "display_name": "kg_conda_env2 (Conda)",
   "language": "python",
   "name": "sys_kg_conda_env2"
  },
  "language_info": {
   "codemirror_mode": {
    "name": "ipython",
    "version": 3
   },
   "file_extension": ".py",
   "mimetype": "text/x-python",
   "name": "python",
   "nbconvert_exporter": "python",
   "pygments_lexer": "ipython3",
   "version": "3.9.17"
  }
 },
 "nbformat": 4,
 "nbformat_minor": 4
}
