{
 "cells": [
  {
   "cell_type": "markdown",
   "metadata": {},
   "source": [
    "Short script that takes the species checklist and removed any duplicate species entries."
   ]
  },
  {
   "cell_type": "code",
   "execution_count": 1,
   "metadata": {},
   "outputs": [],
   "source": [
    "import pandas as pd\n",
    "import os"
   ]
  },
  {
   "cell_type": "code",
   "execution_count": 2,
   "metadata": {},
   "outputs": [],
   "source": [
    "checklist_name = \"singapore-moths\"\n",
    "\n",
    "df = pd.read_csv(os.path.join(\"../species_checklists\",checklist_name+\"-keys.csv\"))"
   ]
  },
  {
   "cell_type": "code",
   "execution_count": 3,
   "metadata": {},
   "outputs": [],
   "source": [
    "# Remove not available species\n",
    "mask = df[\"accepted_taxon_key\"] != -1\n",
    "df = df[mask]"
   ]
  },
  {
   "cell_type": "code",
   "execution_count": 4,
   "metadata": {},
   "outputs": [
    {
     "name": "stdout",
     "output_type": "stream",
     "text": [
      "Duplicate Rows:\n",
      "      accepted_taxon_key   order_name  family_name      genus_name  \\\n",
      "72               1890335  Lepidoptera    Crambidae  Cnaphalocrocis   \n",
      "108              1888403  Lepidoptera    Crambidae        Caprinia   \n",
      "150              1890335  Lepidoptera    Crambidae  Cnaphalocrocis   \n",
      "173              1888403  Lepidoptera    Crambidae        Caprinia   \n",
      "253             12208733  Lepidoptera     Erebidae    Pseudoadites   \n",
      "289              5117779  Lepidoptera     Erebidae       Euchromia   \n",
      "290              5117779  Lepidoptera     Erebidae       Euchromia   \n",
      "327             12208733  Lepidoptera     Erebidae    Pseudoadites   \n",
      "428             10272611  Lepidoptera     Erebidae        Eudocima   \n",
      "429             10272611  Lepidoptera     Erebidae        Eudocima   \n",
      "443              5113853  Lepidoptera    Noctuidae           Aedia   \n",
      "851              5149056  Lepidoptera  Geometridae       Dysphania   \n",
      "852              5149056  Lepidoptera  Geometridae       Dysphania   \n",
      "981              1753764  Lepidoptera  Limacodidae       Mambarona   \n",
      "1010             1753764  Lepidoptera  Limacodidae       Mambarona   \n",
      "1016             5113853  Lepidoptera    Noctuidae           Aedia   \n",
      "1019            10083246  Lepidoptera    Noctuidae    Callopistria   \n",
      "1048            10083246  Lepidoptera    Noctuidae    Callopistria   \n",
      "1267             9890756  Lepidoptera   Thyrididae     Hypolamprus   \n",
      "1268             9890756  Lepidoptera   Thyrididae     Hypolamprus   \n",
      "1329            11461995  Lepidoptera   Zygaenidae     Boradiopsis   \n",
      "1330            11461995  Lepidoptera   Zygaenidae     Boradiopsis   \n",
      "\n",
      "             species_name_provided authority_name_provided  \\\n",
      "72         Cnaphalocrocis poeyalis         Boisduval, 1833   \n",
      "108              Caprinia cirralis                     NaN   \n",
      "150              Marasmia poeyalis                     NaN   \n",
      "173               Palpita cirralis           Swinhoe, 1897   \n",
      "253                 Adites frigida            Walker, 1854   \n",
      "289        Euchromia elegantissima                     NaN   \n",
      "290             Euchromia polymena          Linnaeus, 1758   \n",
      "327           Pseudoadites frigida                     NaN   \n",
      "428   Eudocima (Rhytia) discrepans            Walker, 1858   \n",
      "429            Eudocima discrepans                     NaN   \n",
      "443               Aedia leucomelas          Linnaeus, 1758   \n",
      "851             Dysphania discalis                     NaN   \n",
      "852            Dysphania discalis             Walker, 1854   \n",
      "981               Birthama congrua                     NaN   \n",
      "1010             Mambarona congrua                     NaN   \n",
      "1016           Aedia acronyctoides                     NaN   \n",
      "1019               Mosara apicalis                     NaN   \n",
      "1048         Callopistria apicalis            Walker, 1855   \n",
      "1267         Hypolamprus bastialis                     NaN   \n",
      "1268        Hypolamprus bastialis             Walker, 1859   \n",
      "1329           Boradiopsis harmani                     NaN   \n",
      "1330          Boradiopsis harmani           Holloway, 2011   \n",
      "\n",
      "               search_species_name        gbif_species_name  confidence  \\\n",
      "72         Cnaphalocrocis poeyalis  Cnaphalocrocis poeyalis          99   \n",
      "108              Caprinia cirralis        Caprinia cirralis          99   \n",
      "150              Marasmia poeyalis  Cnaphalocrocis poeyalis          99   \n",
      "173               Palpita cirralis        Caprinia cirralis          99   \n",
      "253                 Adites frigida     Pseudoadites frigida          99   \n",
      "289        Euchromia elegantissima       Euchromia polymena          99   \n",
      "290             Euchromia polymena       Euchromia polymena          99   \n",
      "327           Pseudoadites frigida     Pseudoadites frigida          99   \n",
      "428   Eudocima (Rhytia) discrepans      Eudocima discrepans          99   \n",
      "429            Eudocima discrepans      Eudocima discrepans          99   \n",
      "443               Aedia leucomelas         Aedia leucomelas          99   \n",
      "851             Dysphania discalis       Dysphania discalis          99   \n",
      "852            Dysphania discalis        Dysphania discalis          99   \n",
      "981               Birthama congrua        Mambarona congrua          99   \n",
      "1010             Mambarona congrua        Mambarona congrua          99   \n",
      "1016           Aedia acronyctoides         Aedia leucomelas          99   \n",
      "1019               Mosara apicalis    Callopistria apicalis          99   \n",
      "1048         Callopistria apicalis    Callopistria apicalis          99   \n",
      "1267         Hypolamprus bastialis    Hypolamprus bastialis          99   \n",
      "1268        Hypolamprus bastialis     Hypolamprus bastialis          99   \n",
      "1329           Boradiopsis harmani      Boradiopsis harmani          99   \n",
      "1330          Boradiopsis harmani       Boradiopsis harmani          99   \n",
      "\n",
      "        status match_type     rank               source  \n",
      "72    ACCEPTED      EXACT  SPECIES  London06October2023  \n",
      "108   ACCEPTED      EXACT  SPECIES  London06October2023  \n",
      "150    SYNONYM      EXACT  SPECIES  London06October2023  \n",
      "173    SYNONYM      EXACT  SPECIES  London06October2023  \n",
      "253    SYNONYM      EXACT  SPECIES  London06October2023  \n",
      "289    SYNONYM      EXACT  SPECIES  London06October2023  \n",
      "290   ACCEPTED      EXACT  SPECIES  London06October2023  \n",
      "327   ACCEPTED      EXACT  SPECIES  London06October2023  \n",
      "428   ACCEPTED      EXACT  SPECIES  London06October2023  \n",
      "429   ACCEPTED      EXACT  SPECIES  London06October2023  \n",
      "443   ACCEPTED      EXACT  SPECIES  London06October2023  \n",
      "851   ACCEPTED      EXACT  SPECIES  London06October2023  \n",
      "852   ACCEPTED      EXACT  SPECIES  London06October2023  \n",
      "981    SYNONYM      EXACT  SPECIES  London06October2023  \n",
      "1010  ACCEPTED      EXACT  SPECIES  London06October2023  \n",
      "1016   SYNONYM      EXACT  SPECIES  London06October2023  \n",
      "1019   SYNONYM      EXACT  SPECIES  London06October2023  \n",
      "1048  ACCEPTED      EXACT  SPECIES  London06October2023  \n",
      "1267  ACCEPTED      EXACT  SPECIES  London06October2023  \n",
      "1268  ACCEPTED      EXACT  SPECIES  London06October2023  \n",
      "1329  ACCEPTED      EXACT  SPECIES  London06October2023  \n",
      "1330  ACCEPTED      EXACT  SPECIES  London06October2023  \n"
     ]
    }
   ],
   "source": [
    "# Find duplicates\n",
    "duplicates = df[df.duplicated(subset='accepted_taxon_key', keep=False)]\n",
    "\n",
    "# Printing duplicate rows\n",
    "print(\"Duplicate Rows:\")\n",
    "print(duplicates)"
   ]
  },
  {
   "cell_type": "code",
   "execution_count": 5,
   "metadata": {},
   "outputs": [],
   "source": [
    "# Removing duplicate rows\n",
    "df_unique = df.drop_duplicates(subset='accepted_taxon_key', keep='first')"
   ]
  },
  {
   "cell_type": "code",
   "execution_count": 6,
   "metadata": {},
   "outputs": [],
   "source": [
    "# Save the csv file\n",
    "df_unique.to_csv(os.path.join(\"../species_checklists/\",checklist_name+\"-keys-nodup.csv\"), index=False)"
   ]
  }
 ],
 "metadata": {
  "kernelspec": {
   "display_name": "gbif_download_standalone",
   "language": "python",
   "name": "python3"
  },
  "language_info": {
   "codemirror_mode": {
    "name": "ipython",
    "version": 3
   },
   "file_extension": ".py",
   "mimetype": "text/x-python",
   "name": "python",
   "nbconvert_exporter": "python",
   "pygments_lexer": "ipython3",
   "version": "3.11.5"
  },
  "orig_nbformat": 4
 },
 "nbformat": 4,
 "nbformat_minor": 2
}
