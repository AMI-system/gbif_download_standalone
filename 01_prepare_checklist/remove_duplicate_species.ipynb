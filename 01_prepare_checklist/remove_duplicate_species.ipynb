{
 "cells": [
  {
   "cell_type": "markdown",
   "metadata": {},
   "source": [
    "Short script that takes the species checklist and removed any duplicate species entries."
   ]
  },
  {
   "cell_type": "code",
   "execution_count": 1,
   "metadata": {},
   "outputs": [],
   "source": [
    "import pandas as pd"
   ]
  },
  {
   "cell_type": "code",
   "execution_count": 2,
   "metadata": {},
   "outputs": [],
   "source": [
    "df = pd.read_csv(\"../species_checklists/singapore-moths-keys.csv\")"
   ]
  },
  {
   "cell_type": "code",
   "execution_count": 3,
   "metadata": {},
   "outputs": [
    {
     "name": "stdout",
     "output_type": "stream",
     "text": [
      "Duplicate Rows:\n",
      "      accepted_taxon_key   order_name family_name      genus_name  \\\n",
      "9                     -1     NotAvail    NotAvail        NotAvail   \n",
      "13                    -1     NotAvail    NotAvail        NotAvail   \n",
      "20                    -1     NotAvail    NotAvail        NotAvail   \n",
      "57                    -1     NotAvail    NotAvail        NotAvail   \n",
      "72               1890335  Lepidoptera   Crambidae  Cnaphalocrocis   \n",
      "...                  ...          ...         ...             ...   \n",
      "1267             9890756  Lepidoptera  Thyrididae     Hypolamprus   \n",
      "1268             9890756  Lepidoptera  Thyrididae     Hypolamprus   \n",
      "1275                  -1     NotAvail    NotAvail        NotAvail   \n",
      "1329            11461995  Lepidoptera  Zygaenidae     Boradiopsis   \n",
      "1330            11461995  Lepidoptera  Zygaenidae     Boradiopsis   \n",
      "\n",
      "        species_name_provided authority_name_provided  \\\n",
      "9       Synechodes rotanicola                     NaN   \n",
      "13       Choreutis argoxantha                     NaN   \n",
      "20        Choreutis tigroides                     NaN   \n",
      "57         Lygomusotima stria                     NaN   \n",
      "72    Cnaphalocrocis poeyalis         Boisduval, 1833   \n",
      "...                       ...                     ...   \n",
      "1267    Hypolamprus bastialis                     NaN   \n",
      "1268   Hypolamprus bastialis             Walker, 1859   \n",
      "1275       Glanycus coendersi                     NaN   \n",
      "1329      Boradiopsis harmani                     NaN   \n",
      "1330     Boradiopsis harmani           Holloway, 2011   \n",
      "\n",
      "          search_species_name        gbif_species_name  confidence    status  \\\n",
      "9       Synechodes rotanicola                 NotAvail         100  NotAvail   \n",
      "13       Choreutis argoxantha                 NotAvail         100  NotAvail   \n",
      "20        Choreutis tigroides                 NotAvail         100  NotAvail   \n",
      "57         Lygomusotima stria                 NotAvail         100  NotAvail   \n",
      "72    Cnaphalocrocis poeyalis  Cnaphalocrocis poeyalis          99  ACCEPTED   \n",
      "...                       ...                      ...         ...       ...   \n",
      "1267    Hypolamprus bastialis    Hypolamprus bastialis          99  ACCEPTED   \n",
      "1268   Hypolamprus bastialis     Hypolamprus bastialis          99  ACCEPTED   \n",
      "1275       Glanycus coendersi                 NotAvail         100  NotAvail   \n",
      "1329      Boradiopsis harmani      Boradiopsis harmani          99  ACCEPTED   \n",
      "1330     Boradiopsis harmani       Boradiopsis harmani          99  ACCEPTED   \n",
      "\n",
      "     match_type      rank               source  \n",
      "9          NONE  NotAvail  London06October2023  \n",
      "13         NONE  NotAvail  London06October2023  \n",
      "20         NONE  NotAvail  London06October2023  \n",
      "57         NONE  NotAvail  London06October2023  \n",
      "72        EXACT   SPECIES  London06October2023  \n",
      "...         ...       ...                  ...  \n",
      "1267      EXACT   SPECIES  London06October2023  \n",
      "1268      EXACT   SPECIES  London06October2023  \n",
      "1275       NONE  NotAvail  London06October2023  \n",
      "1329      EXACT   SPECIES  London06October2023  \n",
      "1330      EXACT   SPECIES  London06October2023  \n",
      "\n",
      "[81 rows x 13 columns]\n"
     ]
    }
   ],
   "source": [
    "# Find duplicates\n",
    "duplicates = df[df.duplicated(subset='accepted_taxon_key', keep=False)]\n",
    "\n",
    "# Printing duplicate rows\n",
    "print(\"Duplicate Rows:\")\n",
    "print(duplicates)"
   ]
  },
  {
   "cell_type": "code",
   "execution_count": 4,
   "metadata": {},
   "outputs": [],
   "source": [
    "# Removing duplicate rows\n",
    "df_unique = df.drop_duplicates(subset='accepted_taxon_key', keep='first')"
   ]
  },
  {
   "cell_type": "code",
   "execution_count": 6,
   "metadata": {},
   "outputs": [],
   "source": [
    "# Save the csv file\n",
    "df_unique.to_csv(\"../species_checklists/singapore-moths-keys-nodup.csv\", index=False)"
   ]
  }
 ],
 "metadata": {
  "kernelspec": {
   "display_name": "gbif_download_standalone",
   "language": "python",
   "name": "python3"
  },
  "language_info": {
   "codemirror_mode": {
    "name": "ipython",
    "version": 3
   },
   "file_extension": ".py",
   "mimetype": "text/x-python",
   "name": "python",
   "nbconvert_exporter": "python",
   "pygments_lexer": "ipython3",
   "version": "3.11.5"
  },
  "orig_nbformat": 4
 },
 "nbformat": 4,
 "nbformat_minor": 2
}
