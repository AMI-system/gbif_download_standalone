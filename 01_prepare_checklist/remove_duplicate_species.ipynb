{
 "cells": [
  {
   "cell_type": "markdown",
   "metadata": {},
   "source": [
    "Short script that takes the species checklist and removed any duplicate species entries."
   ]
  },
  {
   "cell_type": "code",
   "execution_count": 1,
   "metadata": {},
   "outputs": [],
   "source": [
    "import pandas as pd\n",
    "import os"
   ]
  },
  {
   "cell_type": "code",
   "execution_count": 2,
   "metadata": {},
   "outputs": [],
   "source": [
    "checklist_name = \"costarica-moths\"\n",
    "\n",
    "df = pd.read_csv(os.path.join(\"../species_checklists\",checklist_name+\"-keys.csv\"))"
   ]
  },
  {
   "cell_type": "code",
   "execution_count": 3,
   "metadata": {},
   "outputs": [],
   "source": [
    "# Remove not available species\n",
    "mask = df[\"accepted_taxon_key\"] != -1\n",
    "df = df[mask]"
   ]
  },
  {
   "cell_type": "code",
   "execution_count": 4,
   "metadata": {},
   "outputs": [
    {
     "name": "stdout",
     "output_type": "stream",
     "text": [
      "Duplicate Rows:\n",
      "      accepted_taxon_key   order_name  family_name    genus_name  \\\n",
      "122              5114740  Lepidoptera     Erebidae   Glaucostola   \n",
      "123              5114740  Lepidoptera     Erebidae   Glaucostola   \n",
      "158              1814661  Lepidoptera     Erebidae        Idalus   \n",
      "159              1814661  Lepidoptera     Erebidae        Idalus   \n",
      "259              1805998  Lepidoptera     Erebidae     Pachydota   \n",
      "...                  ...          ...          ...           ...   \n",
      "8793             1743215  Lepidoptera  Tortricidae  Orthocomotis   \n",
      "8794             1743217  Lepidoptera  Tortricidae  Orthocomotis   \n",
      "8801             1743215  Lepidoptera  Tortricidae  Orthocomotis   \n",
      "8827             1736838  Lepidoptera  Tortricidae       Amorbia   \n",
      "8829             1736838  Lepidoptera  Tortricidae       Amorbia   \n",
      "\n",
      "        species_name_provided  authority_name_provided  \\\n",
      "122   Glaucostola guttipalpis                      NaN   \n",
      "123        Glaucostola romula                      NaN   \n",
      "158           Idalus aleteria                      NaN   \n",
      "159             Idalus aletis                      NaN   \n",
      "259        Pachydota albiceps                      NaN   \n",
      "...                       ...                      ...   \n",
      "8793    Orthocomotis herbacea                      NaN   \n",
      "8794    Orthocomotis herbaria                      NaN   \n",
      "8801  Orthocomotis subolivata                      NaN   \n",
      "8827       Amorbia productana                      NaN   \n",
      "8829       Amorbia revolutana                      NaN   \n",
      "\n",
      "          search_species_name        gbif_species_name  confidence    status  \\\n",
      "122   Glaucostola guttipalpis  Glaucostola guttipalpis          99  ACCEPTED   \n",
      "123        Glaucostola romula  Glaucostola guttipalpis          99   SYNONYM   \n",
      "158           Idalus aleteria          Idalus aleteria          99  ACCEPTED   \n",
      "159             Idalus aletis          Idalus aleteria          99   SYNONYM   \n",
      "259        Pachydota albiceps       Pachydota albiceps          99  ACCEPTED   \n",
      "...                       ...                      ...         ...       ...   \n",
      "8793    Orthocomotis herbacea    Orthocomotis herbacea          99  ACCEPTED   \n",
      "8794    Orthocomotis herbaria    Orthocomotis herbaria          99  ACCEPTED   \n",
      "8801  Orthocomotis subolivata    Orthocomotis herbacea          99   SYNONYM   \n",
      "8827       Amorbia productana       Amorbia productana          99  ACCEPTED   \n",
      "8829       Amorbia revolutana       Amorbia productana          99   SYNONYM   \n",
      "\n",
      "     match_type     rank           source  \n",
      "122       EXACT  SPECIES  London19Oct2023  \n",
      "123       EXACT  SPECIES  London19Oct2023  \n",
      "158       EXACT  SPECIES  London19Oct2023  \n",
      "159       EXACT  SPECIES  London19Oct2023  \n",
      "259       EXACT  SPECIES  London19Oct2023  \n",
      "...         ...      ...              ...  \n",
      "8793      EXACT  SPECIES  London19Oct2023  \n",
      "8794      EXACT  SPECIES  London19Oct2023  \n",
      "8801      EXACT  SPECIES  London19Oct2023  \n",
      "8827      EXACT  SPECIES  London19Oct2023  \n",
      "8829      EXACT  SPECIES  London19Oct2023  \n",
      "\n",
      "[267 rows x 13 columns]\n"
     ]
    }
   ],
   "source": [
    "# Find duplicates\n",
    "duplicates = df[df.duplicated(subset='accepted_taxon_key', keep=False)]\n",
    "\n",
    "# Printing duplicate rows\n",
    "print(\"Duplicate Rows:\")\n",
    "print(duplicates)"
   ]
  },
  {
   "cell_type": "code",
   "execution_count": 5,
   "metadata": {},
   "outputs": [],
   "source": [
    "# Removing duplicate rows\n",
    "df_unique = df.drop_duplicates(subset='accepted_taxon_key', keep='first')"
   ]
  },
  {
   "cell_type": "code",
   "execution_count": 6,
   "metadata": {},
   "outputs": [],
   "source": [
    "# Save the csv file\n",
    "df_unique.to_csv(os.path.join(\"../species_checklists/\",checklist_name+\"-keys-nodup.csv\"), index=False)"
   ]
  }
 ],
 "metadata": {
  "kernelspec": {
   "display_name": "gbif_download_standalone",
   "language": "python",
   "name": "python3"
  },
  "language_info": {
   "codemirror_mode": {
    "name": "ipython",
    "version": 3
   },
   "file_extension": ".py",
   "mimetype": "text/x-python",
   "name": "python",
   "nbconvert_exporter": "python",
   "pygments_lexer": "ipython3",
   "version": "3.11.5"
  }
 },
 "nbformat": 4,
 "nbformat_minor": 4
}
