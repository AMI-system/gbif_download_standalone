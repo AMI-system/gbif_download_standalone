{
 "cells": [
  {
   "cell_type": "markdown",
   "metadata": {},
   "source": [
    "This script is used to quickly run fetch_taxon_keys code to get the taxonomic keys for a given species list"
   ]
  },
  {
   "cell_type": "code",
   "execution_count": null,
   "metadata": {},
   "outputs": [],
   "source": [
    "import pandas as pd\n",
    "import os\n",
    "import sys\n",
    "from types import SimpleNamespace\n",
    "\n",
    "import fetch_taxon_keys"
   ]
  },
  {
   "cell_type": "code",
   "execution_count": null,
   "metadata": {},
   "outputs": [],
   "source": [
    "# Fetch the taxonomic keys\n",
    "\n",
    "args = SimpleNamespace(\n",
    "    species_filepath=\"../species_checklists/singapore-moths-preprocessed.csv\",\n",
    "    column_name_species=\"species_name_provided\",\n",
    "    column_name_authority=\"Authority\",\n",
    "    output_filepath=\"../species_checklists/singapore-moths-keys.csv\",\n",
    "    place=\"London06October2023\",\n",
    "    use_multithreading=True\n",
    ")\n",
    "\n",
    "fetch_taxon_keys.save_taxon_keys(args)"
   ]
  }
 ],
 "metadata": {
  "kernelspec": {
   "display_name": "gbif_download_standalone",
   "language": "python",
   "name": "python3"
  },
  "language_info": {
   "codemirror_mode": {
    "name": "ipython",
    "version": 3
   },
   "file_extension": ".py",
   "mimetype": "text/x-python",
   "name": "python",
   "nbconvert_exporter": "python",
   "pygments_lexer": "ipython3",
   "version": "3.11.5"
  },
  "orig_nbformat": 4
 },
 "nbformat": 4,
 "nbformat_minor": 2
}
