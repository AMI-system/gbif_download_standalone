{
 "cells": [
  {
   "cell_type": "markdown",
   "metadata": {},
   "source": [
    "# Preprocess the species lists\n",
    "\n",
    "Short script to preprocess the species checklist.\n",
    "Will be modified for each incoming species checklist, depending on what must be done. \n",
    "\n",
    "The aim is to transform the column names of the checklist, so that: \n",
    "- The column with species name is called \"species_name_provided\"\n",
    "- The column with the authority is called \"authority_name_provided\". If such column doesn't exist, it should be created and left blank.\n",
    "- The authority column is formatted as \"Lastname, year\" "
   ]
  },
  {
   "cell_type": "code",
   "execution_count": 2,
   "metadata": {},
   "outputs": [],
   "source": [
    "import pandas as pd\n",
    "import os"
   ]
  },
  {
   "cell_type": "markdown",
   "metadata": {
    "jp-MarkdownHeadingCollapsed": true,
    "tags": []
   },
   "source": [
    "## Costa Rica"
   ]
  },
  {
   "cell_type": "code",
   "execution_count": 5,
   "metadata": {},
   "outputs": [],
   "source": [
    "# Read the species checklist\n",
    "checklist_name = \"costarica-moths\"\n",
    "\n",
    "df = pd.read_csv(os.path.join(\"../species_checklists\", checklist_name+\".csv\"),\n",
    "                 sep=',', encoding='latin-1')\n",
    "\n"
   ]
  },
  {
   "cell_type": "code",
   "execution_count": 6,
   "metadata": {},
   "outputs": [
    {
     "data": {
      "text/html": [
       "<div>\n",
       "<style scoped>\n",
       "    .dataframe tbody tr th:only-of-type {\n",
       "        vertical-align: middle;\n",
       "    }\n",
       "\n",
       "    .dataframe tbody tr th {\n",
       "        vertical-align: top;\n",
       "    }\n",
       "\n",
       "    .dataframe thead th {\n",
       "        text-align: right;\n",
       "    }\n",
       "</style>\n",
       "<table border=\"1\" class=\"dataframe\">\n",
       "  <thead>\n",
       "    <tr style=\"text-align: right;\">\n",
       "      <th></th>\n",
       "      <th>Superfamily</th>\n",
       "      <th>Family</th>\n",
       "      <th>Genus</th>\n",
       "      <th>Species</th>\n",
       "    </tr>\n",
       "  </thead>\n",
       "  <tbody>\n",
       "    <tr>\n",
       "      <th>0</th>\n",
       "      <td>Bombycoidea</td>\n",
       "      <td>Saturniidae</td>\n",
       "      <td>Attacus</td>\n",
       "      <td>Attacus atlas</td>\n",
       "    </tr>\n",
       "    <tr>\n",
       "      <th>1</th>\n",
       "      <td>Pyraloidea</td>\n",
       "      <td>Crambidae</td>\n",
       "      <td>Nausinoe</td>\n",
       "      <td>Nausinoe perspectata</td>\n",
       "    </tr>\n",
       "    <tr>\n",
       "      <th>2</th>\n",
       "      <td>Geometroidea</td>\n",
       "      <td>Geometridae</td>\n",
       "      <td>Chiasmia</td>\n",
       "      <td>Chiasmia emersaria</td>\n",
       "    </tr>\n",
       "    <tr>\n",
       "      <th>3</th>\n",
       "      <td>Noctuoidea</td>\n",
       "      <td>Erebidae</td>\n",
       "      <td>Caeneressa</td>\n",
       "      <td>Caeneressa fouqueti</td>\n",
       "    </tr>\n",
       "    <tr>\n",
       "      <th>4</th>\n",
       "      <td>Bombycoidea</td>\n",
       "      <td>Sphingidae</td>\n",
       "      <td>Psilogramma</td>\n",
       "      <td>Psilogramma increta</td>\n",
       "    </tr>\n",
       "  </tbody>\n",
       "</table>\n",
       "</div>"
      ],
      "text/plain": [
       "    Superfamily       Family        Genus               Species\n",
       "0   Bombycoidea  Saturniidae      Attacus         Attacus atlas\n",
       "1    Pyraloidea    Crambidae     Nausinoe  Nausinoe perspectata\n",
       "2  Geometroidea  Geometridae     Chiasmia    Chiasmia emersaria\n",
       "3    Noctuoidea     Erebidae   Caeneressa   Caeneressa fouqueti\n",
       "4   Bombycoidea   Sphingidae  Psilogramma   Psilogramma increta"
      ]
     },
     "execution_count": 6,
     "metadata": {},
     "output_type": "execute_result"
    }
   ],
   "source": [
    "df.head()"
   ]
  },
  {
   "cell_type": "code",
   "execution_count": 7,
   "metadata": {},
   "outputs": [],
   "source": [
    "# Combine costa rica column names\n",
    "df[\"species_name_provided\"] = df[\"Genus\"].fillna('') + \" \" + df[\"Species\"].fillna('')\n",
    "\n",
    "df[\"authority_name_provided\"] = \"\""
   ]
  },
  {
   "cell_type": "code",
   "execution_count": 8,
   "metadata": {},
   "outputs": [],
   "source": [
    "# Transform column names\n",
    "# provided_species_column_name = \"Scientific Name\"\n",
    "# provided_authority_column_name = \"Authority\"\n",
    "\n",
    "# df = df.rename(columns={\n",
    "#     provided_species_column_name: \"species_name_provided\",\n",
    "#     provided_authority_column_name: \"authority_name_provided\"\n",
    "# })"
   ]
  },
  {
   "cell_type": "code",
   "execution_count": 9,
   "metadata": {},
   "outputs": [],
   "source": [
    "# Edit the column names to remove [] and ()\n",
    "# df['authority_name_provided'] = df['authority_name_provided'].replace('[\\(\\)\\[\\]]', '', regex=True)"
   ]
  },
  {
   "cell_type": "code",
   "execution_count": null,
   "metadata": {},
   "outputs": [],
   "source": [
    "# Costa Rica list was too long for the API call. So had to split in 3 parts:\n",
    "\n",
    "# Determine the split indices\n",
    "split1 = len(df) // 3\n",
    "split2 = 2 * split1\n",
    "\n",
    "# Split the DataFrame into three parts\n",
    "df1 = df.iloc[:split1]\n",
    "df2 = df.iloc[split1:split2]\n",
    "df3 = df.iloc[split2:]"
   ]
  },
  {
   "cell_type": "code",
   "execution_count": null,
   "metadata": {},
   "outputs": [],
   "source": [
    "# Save the three parts to separate CSV files\n",
    "df1.to_csv(os.path.join(\"../species_checklists/\", \n",
    "                       checklist_name+\"-preprocessed-part1.csv\"),\n",
    "          index=False)\n",
    "df2.to_csv(os.path.join(\"../species_checklists/\", \n",
    "                       checklist_name+\"-preprocessed-part2.csv\"),\n",
    "          index=False)\n",
    "df3.to_csv(os.path.join(\"../species_checklists/\", \n",
    "                       checklist_name+\"-preprocessed-part3.csv\"),\n",
    "          index=False)"
   ]
  },
  {
   "cell_type": "code",
   "execution_count": null,
   "metadata": {},
   "outputs": [],
   "source": [
    "# Save the csv file\n",
    "df.to_csv(os.path.join(\"../species_checklists/\", \n",
    "                       checklist_name+\"-preprocessed.csv\"),\n",
    "          index=False)"
   ]
  },
  {
   "cell_type": "markdown",
   "metadata": {
    "jp-MarkdownHeadingCollapsed": true,
    "tags": []
   },
   "source": [
    "## For UK macro moths \n",
    "\n",
    "This file is in a different format"
   ]
  },
  {
   "cell_type": "code",
   "execution_count": null,
   "metadata": {},
   "outputs": [],
   "source": [
    "# Read the species checklist\n",
    "checklist_name = \"uksi-macro-moths\"\n",
    "\n",
    "df = pd.read_csv(os.path.join(\"../species_checklists\", checklist_name+\".csv\"),\n",
    "                 sep=',', encoding='latin-1')\n",
    "\n",
    "df[\"Genus\"] = ''"
   ]
  },
  {
   "cell_type": "code",
   "execution_count": null,
   "metadata": {},
   "outputs": [],
   "source": [
    "df.head()"
   ]
  },
  {
   "cell_type": "code",
   "execution_count": null,
   "metadata": {},
   "outputs": [],
   "source": [
    "# Combine costa rica column names\n",
    "df[\"species_name_provided\"] = df[\"Genus\"].fillna('') + \" \" + df[\"taxon\"].fillna('')\n",
    "\n",
    "df[\"authority_name_provided\"] = \"\""
   ]
  },
  {
   "cell_type": "code",
   "execution_count": null,
   "metadata": {},
   "outputs": [],
   "source": [
    "df.to_csv(os.path.join(\"../species_checklists/\", \n",
    "                       checklist_name+\"-preprocessed.csv\"),\n",
    "          index=False)"
   ]
  },
  {
   "cell_type": "markdown",
   "metadata": {
    "jp-MarkdownHeadingCollapsed": true,
    "tags": []
   },
   "source": [
    "## Thailand"
   ]
  },
  {
   "cell_type": "code",
   "execution_count": 18,
   "metadata": {},
   "outputs": [],
   "source": [
    "# Read the species checklist\n",
    "checklist_name = \"thailand-moths\"\n",
    "\n",
    "df = pd.read_csv(os.path.join(\"../species_checklists\", checklist_name+\".csv\"),\n",
    "                 sep=',', encoding='latin-1')\n",
    "\n",
    "df.columns=['Superfamily', 'Family', 'Genus', 'Species']\n"
   ]
  },
  {
   "cell_type": "code",
   "execution_count": 19,
   "metadata": {},
   "outputs": [
    {
     "data": {
      "text/html": [
       "<div>\n",
       "<style scoped>\n",
       "    .dataframe tbody tr th:only-of-type {\n",
       "        vertical-align: middle;\n",
       "    }\n",
       "\n",
       "    .dataframe tbody tr th {\n",
       "        vertical-align: top;\n",
       "    }\n",
       "\n",
       "    .dataframe thead th {\n",
       "        text-align: right;\n",
       "    }\n",
       "</style>\n",
       "<table border=\"1\" class=\"dataframe\">\n",
       "  <thead>\n",
       "    <tr style=\"text-align: right;\">\n",
       "      <th></th>\n",
       "      <th>Superfamily</th>\n",
       "      <th>Family</th>\n",
       "      <th>Genus</th>\n",
       "      <th>Species</th>\n",
       "      <th>species_name_provided</th>\n",
       "      <th>authority_name_provided</th>\n",
       "    </tr>\n",
       "  </thead>\n",
       "  <tbody>\n",
       "    <tr>\n",
       "      <th>0</th>\n",
       "      <td>Bombycoidea</td>\n",
       "      <td>Saturniidae</td>\n",
       "      <td>Attacus</td>\n",
       "      <td>Attacus atlas</td>\n",
       "      <td>Attacus Attacus atlas</td>\n",
       "      <td></td>\n",
       "    </tr>\n",
       "    <tr>\n",
       "      <th>1</th>\n",
       "      <td>Pyraloidea</td>\n",
       "      <td>Crambidae</td>\n",
       "      <td>Nausinoe</td>\n",
       "      <td>Nausinoe perspectata</td>\n",
       "      <td>Nausinoe Nausinoe perspectata</td>\n",
       "      <td></td>\n",
       "    </tr>\n",
       "    <tr>\n",
       "      <th>2</th>\n",
       "      <td>Geometroidea</td>\n",
       "      <td>Geometridae</td>\n",
       "      <td>Chiasmia</td>\n",
       "      <td>Chiasmia emersaria</td>\n",
       "      <td>Chiasmia Chiasmia emersaria</td>\n",
       "      <td></td>\n",
       "    </tr>\n",
       "    <tr>\n",
       "      <th>3</th>\n",
       "      <td>Noctuoidea</td>\n",
       "      <td>Erebidae</td>\n",
       "      <td>Caeneressa</td>\n",
       "      <td>Caeneressa fouqueti</td>\n",
       "      <td>Caeneressa Caeneressa fouqueti</td>\n",
       "      <td></td>\n",
       "    </tr>\n",
       "    <tr>\n",
       "      <th>4</th>\n",
       "      <td>Bombycoidea</td>\n",
       "      <td>Sphingidae</td>\n",
       "      <td>Psilogramma</td>\n",
       "      <td>Psilogramma increta</td>\n",
       "      <td>Psilogramma Psilogramma increta</td>\n",
       "      <td></td>\n",
       "    </tr>\n",
       "  </tbody>\n",
       "</table>\n",
       "</div>"
      ],
      "text/plain": [
       "    Superfamily       Family        Genus               Species  \\\n",
       "0   Bombycoidea  Saturniidae      Attacus         Attacus atlas   \n",
       "1    Pyraloidea    Crambidae     Nausinoe  Nausinoe perspectata   \n",
       "2  Geometroidea  Geometridae     Chiasmia    Chiasmia emersaria   \n",
       "3    Noctuoidea     Erebidae   Caeneressa   Caeneressa fouqueti   \n",
       "4   Bombycoidea   Sphingidae  Psilogramma   Psilogramma increta   \n",
       "\n",
       "             species_name_provided authority_name_provided  \n",
       "0            Attacus Attacus atlas                          \n",
       "1    Nausinoe Nausinoe perspectata                          \n",
       "2      Chiasmia Chiasmia emersaria                          \n",
       "3   Caeneressa Caeneressa fouqueti                          \n",
       "4  Psilogramma Psilogramma increta                          "
      ]
     },
     "execution_count": 19,
     "metadata": {},
     "output_type": "execute_result"
    }
   ],
   "source": [
    "# Combine costa rica column names\n",
    "df[\"species_name_provided\"] = df[\"Genus\"].fillna('') + \" \" + df[\"Species\"].fillna('')\n",
    "\n",
    "df[\"authority_name_provided\"] = \"\"\n",
    "\n",
    "\n",
    "df.head()"
   ]
  },
  {
   "cell_type": "code",
   "execution_count": 20,
   "metadata": {},
   "outputs": [],
   "source": [
    "df.to_csv(os.path.join(\"../species_checklists/\", \n",
    "                       checklist_name+\"-preprocessed.csv\"),\n",
    "          index=False)"
   ]
  },
  {
   "cell_type": "markdown",
   "metadata": {
    "tags": []
   },
   "source": [
    "## Madagascar"
   ]
  },
  {
   "cell_type": "code",
   "execution_count": 14,
   "metadata": {},
   "outputs": [
    {
     "data": {
      "text/html": [
       "<div>\n",
       "<style scoped>\n",
       "    .dataframe tbody tr th:only-of-type {\n",
       "        vertical-align: middle;\n",
       "    }\n",
       "\n",
       "    .dataframe tbody tr th {\n",
       "        vertical-align: top;\n",
       "    }\n",
       "\n",
       "    .dataframe thead th {\n",
       "        text-align: right;\n",
       "    }\n",
       "</style>\n",
       "<table border=\"1\" class=\"dataframe\">\n",
       "  <thead>\n",
       "    <tr style=\"text-align: right;\">\n",
       "      <th></th>\n",
       "      <th>Family</th>\n",
       "      <th>Species</th>\n",
       "      <th>Authority</th>\n",
       "    </tr>\n",
       "  </thead>\n",
       "  <tbody>\n",
       "    <tr>\n",
       "      <th>0</th>\n",
       "      <td>Adelidae</td>\n",
       "      <td>Adela gymnota</td>\n",
       "      <td>(Meyrick, 1912)</td>\n",
       "    </tr>\n",
       "    <tr>\n",
       "      <th>1</th>\n",
       "      <td>Adelidae</td>\n",
       "      <td>Adela janineae</td>\n",
       "      <td>(Viette, 1954)</td>\n",
       "    </tr>\n",
       "    <tr>\n",
       "      <th>2</th>\n",
       "      <td>Adelidae</td>\n",
       "      <td>Adela tsaratanana</td>\n",
       "      <td>(Viette, 1954)</td>\n",
       "    </tr>\n",
       "    <tr>\n",
       "      <th>3</th>\n",
       "      <td>Alucitidae</td>\n",
       "      <td>Alucita decaryella</td>\n",
       "      <td>(Viette, 1956)</td>\n",
       "    </tr>\n",
       "    <tr>\n",
       "      <th>4</th>\n",
       "      <td>Alucitidae</td>\n",
       "      <td>Alucita euscripta</td>\n",
       "      <td>Minet, 1976</td>\n",
       "    </tr>\n",
       "  </tbody>\n",
       "</table>\n",
       "</div>"
      ],
      "text/plain": [
       "       Family             Species        Authority\n",
       "0    Adelidae       Adela gymnota  (Meyrick, 1912)\n",
       "1    Adelidae      Adela janineae   (Viette, 1954)\n",
       "2    Adelidae   Adela tsaratanana   (Viette, 1954)\n",
       "3  Alucitidae  Alucita decaryella   (Viette, 1956)\n",
       "4  Alucitidae   Alucita euscripta      Minet, 1976"
      ]
     },
     "execution_count": 14,
     "metadata": {},
     "output_type": "execute_result"
    }
   ],
   "source": [
    "# Read the species checklist\n",
    "checklist_name = \"madagascar-moths\"\n",
    "\n",
    "df = pd.read_csv(os.path.join(\"../species_checklists\", checklist_name+\".csv\"),\n",
    "                 sep=',', encoding='latin-1')\n",
    "\n",
    "df.head()"
   ]
  },
  {
   "cell_type": "code",
   "execution_count": 18,
   "metadata": {},
   "outputs": [
    {
     "data": {
      "text/html": [
       "<div>\n",
       "<style scoped>\n",
       "    .dataframe tbody tr th:only-of-type {\n",
       "        vertical-align: middle;\n",
       "    }\n",
       "\n",
       "    .dataframe tbody tr th {\n",
       "        vertical-align: top;\n",
       "    }\n",
       "\n",
       "    .dataframe thead th {\n",
       "        text-align: right;\n",
       "    }\n",
       "</style>\n",
       "<table border=\"1\" class=\"dataframe\">\n",
       "  <thead>\n",
       "    <tr style=\"text-align: right;\">\n",
       "      <th></th>\n",
       "      <th>Family</th>\n",
       "      <th>Species</th>\n",
       "      <th>Authority</th>\n",
       "      <th>Genus</th>\n",
       "      <th>species_name_provided</th>\n",
       "      <th>authority_name_provided</th>\n",
       "    </tr>\n",
       "  </thead>\n",
       "  <tbody>\n",
       "    <tr>\n",
       "      <th>0</th>\n",
       "      <td>Adelidae</td>\n",
       "      <td>Adela gymnota</td>\n",
       "      <td>(Meyrick, 1912)</td>\n",
       "      <td></td>\n",
       "      <td>Adela gymnota</td>\n",
       "      <td>(Meyrick, 1912)</td>\n",
       "    </tr>\n",
       "    <tr>\n",
       "      <th>1</th>\n",
       "      <td>Adelidae</td>\n",
       "      <td>Adela janineae</td>\n",
       "      <td>(Viette, 1954)</td>\n",
       "      <td></td>\n",
       "      <td>Adela janineae</td>\n",
       "      <td>(Viette, 1954)</td>\n",
       "    </tr>\n",
       "    <tr>\n",
       "      <th>2</th>\n",
       "      <td>Adelidae</td>\n",
       "      <td>Adela tsaratanana</td>\n",
       "      <td>(Viette, 1954)</td>\n",
       "      <td></td>\n",
       "      <td>Adela tsaratanana</td>\n",
       "      <td>(Viette, 1954)</td>\n",
       "    </tr>\n",
       "    <tr>\n",
       "      <th>3</th>\n",
       "      <td>Alucitidae</td>\n",
       "      <td>Alucita decaryella</td>\n",
       "      <td>(Viette, 1956)</td>\n",
       "      <td></td>\n",
       "      <td>Alucita decaryella</td>\n",
       "      <td>(Viette, 1956)</td>\n",
       "    </tr>\n",
       "    <tr>\n",
       "      <th>4</th>\n",
       "      <td>Alucitidae</td>\n",
       "      <td>Alucita euscripta</td>\n",
       "      <td>Minet, 1976</td>\n",
       "      <td></td>\n",
       "      <td>Alucita euscripta</td>\n",
       "      <td>Minet, 1976</td>\n",
       "    </tr>\n",
       "  </tbody>\n",
       "</table>\n",
       "</div>"
      ],
      "text/plain": [
       "       Family             Species        Authority Genus  \\\n",
       "0    Adelidae       Adela gymnota  (Meyrick, 1912)         \n",
       "1    Adelidae      Adela janineae   (Viette, 1954)         \n",
       "2    Adelidae   Adela tsaratanana   (Viette, 1954)         \n",
       "3  Alucitidae  Alucita decaryella   (Viette, 1956)         \n",
       "4  Alucitidae   Alucita euscripta      Minet, 1976         \n",
       "\n",
       "  species_name_provided authority_name_provided  \n",
       "0         Adela gymnota         (Meyrick, 1912)  \n",
       "1        Adela janineae          (Viette, 1954)  \n",
       "2     Adela tsaratanana          (Viette, 1954)  \n",
       "3    Alucita decaryella          (Viette, 1956)  \n",
       "4     Alucita euscripta             Minet, 1976  "
      ]
     },
     "execution_count": 18,
     "metadata": {},
     "output_type": "execute_result"
    }
   ],
   "source": [
    "df[\"Genus\"] = \"\"\n",
    "\n",
    "# Combine costa rica column names\n",
    "df[\"species_name_provided\"] = df[\"Genus\"].fillna('') + \" \" + df[\"Species\"].fillna('')\n",
    "df[\"authority_name_provided\"] = df['Authority']\n",
    "\n",
    "df.head()"
   ]
  },
  {
   "cell_type": "code",
   "execution_count": 19,
   "metadata": {},
   "outputs": [],
   "source": [
    "df.to_csv(os.path.join(\"../species_checklists/\", \n",
    "                       checklist_name+\"-preprocessed.csv\"),\n",
    "          index=False)"
   ]
  },
  {
   "cell_type": "markdown",
   "metadata": {
    "tags": []
   },
   "source": [
    "## Anguilla"
   ]
  },
  {
   "cell_type": "code",
   "execution_count": 3,
   "metadata": {},
   "outputs": [
    {
     "data": {
      "text/html": [
       "<div>\n",
       "<style scoped>\n",
       "    .dataframe tbody tr th:only-of-type {\n",
       "        vertical-align: middle;\n",
       "    }\n",
       "\n",
       "    .dataframe tbody tr th {\n",
       "        vertical-align: top;\n",
       "    }\n",
       "\n",
       "    .dataframe thead th {\n",
       "        text-align: right;\n",
       "    }\n",
       "</style>\n",
       "<table border=\"1\" class=\"dataframe\">\n",
       "  <thead>\n",
       "    <tr style=\"text-align: right;\">\n",
       "      <th></th>\n",
       "      <th>ï»¿Superfamily</th>\n",
       "      <th>Family</th>\n",
       "      <th>Subfamily</th>\n",
       "      <th>Species</th>\n",
       "      <th>GBIF accepted name</th>\n",
       "      <th>Authority (GBIF)</th>\n",
       "      <th>Common name</th>\n",
       "      <th>Comments</th>\n",
       "    </tr>\n",
       "  </thead>\n",
       "  <tbody>\n",
       "    <tr>\n",
       "      <th>0</th>\n",
       "      <td>Bombycoidea</td>\n",
       "      <td>Sphingidae</td>\n",
       "      <td>Magroglossinae</td>\n",
       "      <td>Aellopos tantalus</td>\n",
       "      <td>Aellopos tantalus</td>\n",
       "      <td>Linnaeus, 1758</td>\n",
       "      <td>Tantalus Sphinx</td>\n",
       "      <td>NaN</td>\n",
       "    </tr>\n",
       "    <tr>\n",
       "      <th>1</th>\n",
       "      <td>Bombycoidea</td>\n",
       "      <td>Sphingidae</td>\n",
       "      <td>Magroglossinae</td>\n",
       "      <td>Enyo lugubris</td>\n",
       "      <td>Enyo lugubris</td>\n",
       "      <td>Linnaeus, 1771</td>\n",
       "      <td>Mournful Sphinx</td>\n",
       "      <td>NaN</td>\n",
       "    </tr>\n",
       "    <tr>\n",
       "      <th>2</th>\n",
       "      <td>Bombycoidea</td>\n",
       "      <td>Sphingidae</td>\n",
       "      <td>Magroglossinae</td>\n",
       "      <td>Erinnyis ello</td>\n",
       "      <td>Erinnyis ello</td>\n",
       "      <td>Linnaeus, 1758</td>\n",
       "      <td>Ello Sphinx</td>\n",
       "      <td>NaN</td>\n",
       "    </tr>\n",
       "    <tr>\n",
       "      <th>3</th>\n",
       "      <td>Bombycoidea</td>\n",
       "      <td>Sphingidae</td>\n",
       "      <td>Magroglossinae</td>\n",
       "      <td>Hyles lineata</td>\n",
       "      <td>Hyles lineata</td>\n",
       "      <td>Fabricius, 1775</td>\n",
       "      <td>White-lined Sphinx</td>\n",
       "      <td>NaN</td>\n",
       "    </tr>\n",
       "    <tr>\n",
       "      <th>4</th>\n",
       "      <td>Bombycoidea</td>\n",
       "      <td>Sphingidae</td>\n",
       "      <td>Magroglossinae</td>\n",
       "      <td>Pseudosphinx tetrio</td>\n",
       "      <td>Pseudosphinx tetrio</td>\n",
       "      <td>Linnaeus, 1771</td>\n",
       "      <td>Tetrio sphinx, Frangipani Sphinx</td>\n",
       "      <td>NaN</td>\n",
       "    </tr>\n",
       "  </tbody>\n",
       "</table>\n",
       "</div>"
      ],
      "text/plain": [
       "  ï»¿Superfamily      Family       Subfamily              Species  \\\n",
       "0    Bombycoidea  Sphingidae  Magroglossinae    Aellopos tantalus   \n",
       "1    Bombycoidea  Sphingidae  Magroglossinae        Enyo lugubris   \n",
       "2    Bombycoidea  Sphingidae  Magroglossinae        Erinnyis ello   \n",
       "3    Bombycoidea  Sphingidae  Magroglossinae        Hyles lineata   \n",
       "4    Bombycoidea  Sphingidae  Magroglossinae  Pseudosphinx tetrio   \n",
       "\n",
       "    GBIF accepted name Authority (GBIF)                       Common name  \\\n",
       "0    Aellopos tantalus   Linnaeus, 1758                   Tantalus Sphinx   \n",
       "1        Enyo lugubris   Linnaeus, 1771                   Mournful Sphinx   \n",
       "2        Erinnyis ello   Linnaeus, 1758                       Ello Sphinx   \n",
       "3        Hyles lineata  Fabricius, 1775                White-lined Sphinx   \n",
       "4  Pseudosphinx tetrio   Linnaeus, 1771  Tetrio sphinx, Frangipani Sphinx   \n",
       "\n",
       "  Comments  \n",
       "0      NaN  \n",
       "1      NaN  \n",
       "2      NaN  \n",
       "3      NaN  \n",
       "4      NaN  "
      ]
     },
     "execution_count": 3,
     "metadata": {},
     "output_type": "execute_result"
    }
   ],
   "source": [
    "# Read the species checklist\n",
    "checklist_name = \"anguilla-moths\"\n",
    "\n",
    "df = pd.read_csv(os.path.join(\"../species_checklists\", checklist_name+\".csv\"),\n",
    "                 sep=',', encoding='latin-1')\n",
    "\n",
    "df.head()\n"
   ]
  },
  {
   "cell_type": "code",
   "execution_count": 6,
   "metadata": {},
   "outputs": [
    {
     "data": {
      "text/html": [
       "<div>\n",
       "<style scoped>\n",
       "    .dataframe tbody tr th:only-of-type {\n",
       "        vertical-align: middle;\n",
       "    }\n",
       "\n",
       "    .dataframe tbody tr th {\n",
       "        vertical-align: top;\n",
       "    }\n",
       "\n",
       "    .dataframe thead th {\n",
       "        text-align: right;\n",
       "    }\n",
       "</style>\n",
       "<table border=\"1\" class=\"dataframe\">\n",
       "  <thead>\n",
       "    <tr style=\"text-align: right;\">\n",
       "      <th></th>\n",
       "      <th>Family</th>\n",
       "      <th>Subfamily</th>\n",
       "      <th>Species</th>\n",
       "      <th>Genus</th>\n",
       "      <th>GBIF accepted name</th>\n",
       "      <th>species_name_provided</th>\n",
       "      <th>authority_name_provided</th>\n",
       "    </tr>\n",
       "  </thead>\n",
       "  <tbody>\n",
       "    <tr>\n",
       "      <th>0</th>\n",
       "      <td>Sphingidae</td>\n",
       "      <td>Magroglossinae</td>\n",
       "      <td>Aellopos tantalus</td>\n",
       "      <td></td>\n",
       "      <td>Aellopos tantalus</td>\n",
       "      <td>Aellopos tantalus</td>\n",
       "      <td></td>\n",
       "    </tr>\n",
       "    <tr>\n",
       "      <th>1</th>\n",
       "      <td>Sphingidae</td>\n",
       "      <td>Magroglossinae</td>\n",
       "      <td>Enyo lugubris</td>\n",
       "      <td></td>\n",
       "      <td>Enyo lugubris</td>\n",
       "      <td>Enyo lugubris</td>\n",
       "      <td></td>\n",
       "    </tr>\n",
       "    <tr>\n",
       "      <th>2</th>\n",
       "      <td>Sphingidae</td>\n",
       "      <td>Magroglossinae</td>\n",
       "      <td>Erinnyis ello</td>\n",
       "      <td></td>\n",
       "      <td>Erinnyis ello</td>\n",
       "      <td>Erinnyis ello</td>\n",
       "      <td></td>\n",
       "    </tr>\n",
       "    <tr>\n",
       "      <th>3</th>\n",
       "      <td>Sphingidae</td>\n",
       "      <td>Magroglossinae</td>\n",
       "      <td>Hyles lineata</td>\n",
       "      <td></td>\n",
       "      <td>Hyles lineata</td>\n",
       "      <td>Hyles lineata</td>\n",
       "      <td></td>\n",
       "    </tr>\n",
       "    <tr>\n",
       "      <th>4</th>\n",
       "      <td>Sphingidae</td>\n",
       "      <td>Magroglossinae</td>\n",
       "      <td>Pseudosphinx tetrio</td>\n",
       "      <td></td>\n",
       "      <td>Pseudosphinx tetrio</td>\n",
       "      <td>Pseudosphinx tetrio</td>\n",
       "      <td></td>\n",
       "    </tr>\n",
       "  </tbody>\n",
       "</table>\n",
       "</div>"
      ],
      "text/plain": [
       "       Family       Subfamily              Species Genus   GBIF accepted name  \\\n",
       "0  Sphingidae  Magroglossinae    Aellopos tantalus          Aellopos tantalus   \n",
       "1  Sphingidae  Magroglossinae        Enyo lugubris              Enyo lugubris   \n",
       "2  Sphingidae  Magroglossinae        Erinnyis ello              Erinnyis ello   \n",
       "3  Sphingidae  Magroglossinae        Hyles lineata              Hyles lineata   \n",
       "4  Sphingidae  Magroglossinae  Pseudosphinx tetrio        Pseudosphinx tetrio   \n",
       "\n",
       "  species_name_provided authority_name_provided  \n",
       "0     Aellopos tantalus                          \n",
       "1         Enyo lugubris                          \n",
       "2         Erinnyis ello                          \n",
       "3         Hyles lineata                          \n",
       "4   Pseudosphinx tetrio                          "
      ]
     },
     "execution_count": 6,
     "metadata": {},
     "output_type": "execute_result"
    }
   ],
   "source": [
    "df[\"Genus\"] = \"\"\n",
    "\n",
    "# Combine costa rica column names\n",
    "df[\"species_name_provided\"] = df[\"Genus\"].fillna('') + \" \" + df[\"Species\"].fillna('')\n",
    "df[\"authority_name_provided\"] = \"\"\n",
    "\n",
    "df = df[['Family', 'Subfamily', 'Species', 'Genus', 'GBIF accepted name', 'species_name_provided', 'authority_name_provided']]\n",
    "df.head()"
   ]
  },
  {
   "cell_type": "code",
   "execution_count": 7,
   "metadata": {},
   "outputs": [],
   "source": [
    "df.to_csv(os.path.join(\"../species_checklists/\", \n",
    "                       checklist_name+\"-preprocessed.csv\"),\n",
    "          index=False)"
   ]
  },
  {
   "cell_type": "code",
   "execution_count": null,
   "metadata": {},
   "outputs": [],
   "source": []
  }
 ],
 "metadata": {
  "kernelspec": {
   "display_name": "kg_conda_env2 (Conda)",
   "language": "python",
   "name": "sys_kg_conda_env2"
  },
  "language_info": {
   "codemirror_mode": {
    "name": "ipython",
    "version": 3
   },
   "file_extension": ".py",
   "mimetype": "text/x-python",
   "name": "python",
   "nbconvert_exporter": "python",
   "pygments_lexer": "ipython3",
   "version": "3.9.17"
  }
 },
 "nbformat": 4,
 "nbformat_minor": 4
}
