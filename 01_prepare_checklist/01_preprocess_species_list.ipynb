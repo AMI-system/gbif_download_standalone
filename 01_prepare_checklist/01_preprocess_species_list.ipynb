{
 "cells": [
  {
   "cell_type": "markdown",
   "metadata": {},
   "source": [
    "# Preprocess the species lists\n",
    "\n",
    "Short script to preprocess the species checklist.\n",
    "Will be modified for each incoming species checklist, depending on what must be done. \n",
    "\n",
    "The aim is to transform the column names of the checklist, so that: \n",
    "- The column with species name is called \"species_name_provided\"\n",
    "- The column with the authority is called \"authority_name_provided\". If such column doesn't exist, it should be created and left blank.\n",
    "- The authority column is formatted as \"Lastname, year\" "
   ]
  },
  {
   "cell_type": "code",
   "execution_count": null,
   "metadata": {},
   "outputs": [],
   "source": [
    "import pandas as pd\n",
    "import os\n",
    "import requests\n",
    "from bs4 import BeautifulSoup"
   ]
  },
  {
   "cell_type": "markdown",
   "metadata": {},
   "source": [
    "To date we have have sources for: \n",
    "- Sinapore\n",
    "- Costa Rica\n",
    "- The UK\n",
    "- Thailand\n",
    "- Madagascar\n",
    "- Anguilla\n",
    "- Kenya and Uganda\n",
    "- Japan\n",
    "- Nigeria\n",
    "- Namibia"
   ]
  },
  {
   "cell_type": "markdown",
   "metadata": {},
   "source": [
    "## Functions to curate data frames "
   ]
  },
  {
   "cell_type": "code",
   "execution_count": null,
   "metadata": {},
   "outputs": [],
   "source": [
    "def split_dataframe(df, n, output_dir, list_name):\n",
    "    split_size = len(df) // n\n",
    "    for i in range(n):\n",
    "        start_idx = i * split_size\n",
    "        # Ensure the last part includes any remaining rows\n",
    "        end_idx = (i + 1) * split_size if i < n - 1 else len(df)\n",
    "        df_part = df.iloc[start_idx:end_idx]\n",
    "        file_path = os.path.join(output_dir, f\"{list_name}-moths-preprocessed-part{i + 1}.csv\")\n",
    "        df_part.to_csv(file_path, index=False)\n",
    "        print(f\"Saved part {i + 1} to {file_path}\")"
   ]
  },
  {
   "cell_type": "code",
   "execution_count": null,
   "metadata": {},
   "outputs": [],
   "source": [
    "# For wiki sources, there are some entries formatted with repeating words.\n",
    "# Here is a function to remove duplicate words in cells with exactly 3 words\n",
    "def clean_repeated_words(cell):\n",
    "    cell = cell.replace(',', '')\n",
    "\n",
    "    words = cell.split()\n",
    "    if len(words) > 2:\n",
    "        unique_words = list(dict.fromkeys(words))  # Removes duplicates, preserving order\n",
    "        return \" \".join(unique_words)\n",
    "    return cell\n",
    "\n",
    "def clean_species_words(df, colname='Species'):\n",
    "    df[colname] = df[colname].apply(clean_repeated_words)\n",
    "    return(df)"
   ]
  },
  {
   "cell_type": "code",
   "execution_count": null,
   "metadata": {},
   "outputs": [],
   "source": [
    "def scrape_wikipedia_to_csv(url):\n",
    "    # Send an HTTP GET request to fetch the content\n",
    "    response = requests.get(url)\n",
    "    response.raise_for_status()  # Check for request errors\n",
    "\n",
    "    # Parse the HTML content with BeautifulSoup\n",
    "    soup = BeautifulSoup(response.text, \"html.parser\")\n",
    "\n",
    "    # Find all <div> elements with class \"mw-heading mw-heading2\"\n",
    "    families = soup.find_all(\"div\", class_=\"mw-heading2\")\n",
    "\n",
    "    # Dictionary to store each heading and its corresponding list items\n",
    "    data = pd.DataFrame()\n",
    "\n",
    "    # Loop through each heading and capture the associated bullet points\n",
    "    for family in families:\n",
    "        # Get the heading text\n",
    "        family_text = family.get_text(strip=True).replace('[edit]', '')\n",
    "\n",
    "        if family_text in ['Contents', 'References', 'See also']:\n",
    "            continue\n",
    "\n",
    "        # Find the next <ul> element (the bullet list after the heading)\n",
    "        bullet_list = family.find_next(\"ul\")\n",
    "\n",
    "        # Collect list items if a <ul> is found\n",
    "        items = []\n",
    "        if bullet_list:\n",
    "            auth = []\n",
    "            species = []\n",
    "            for li in bullet_list.find_all(\"li\"):\n",
    "\n",
    "                spec = [x.get_text(strip=True).strip() for x in li.find_all(\"a\")]\n",
    "\n",
    "                if spec == []:\n",
    "                    spec = ['formatting error']\n",
    "                    spec_auth = ['formatting error']\n",
    "                else:\n",
    "                    spec = [spec[0]]\n",
    "                    spec_auth = [li.get_text(strip=True).replace(str(spec[0]), ' ').split('—', 1)[-1].strip().strip(\"()\")]\n",
    "                    species = species + spec\n",
    "\n",
    "                    if spec_auth == []:\n",
    "                        spec_auth = ['formatting error']\n",
    "\n",
    "                    auth = auth + spec_auth\n",
    "\n",
    "                    if len(auth) != len(species):\n",
    "                        print(spec)\n",
    "\n",
    "\n",
    "\n",
    "        df_dict = {'Family': [family_text] * len(auth), 'Genus': [''] * len(auth), 'Species': species, 'Authority': auth}\n",
    "        fam_df = pd.DataFrame(df_dict)\n",
    "        data = pd.concat([data, fam_df])\n",
    "\n",
    "    data = data.loc[data['Species'] != \"formatting error\", ]\n",
    "    data['Source'] = 'wiki'\n",
    "    data = clean_species_words(data)\n",
    "\n",
    "    return data"
   ]
  },
  {
   "cell_type": "code",
   "execution_count": null,
   "metadata": {},
   "outputs": [],
   "source": [
    "# we will want to remove all butterflies from the lists. These are the butterfly families:\n",
    "butterfly_families = ['Papilionidae', 'Nymphalidae', 'Pieridae', 'Lycaenidae', 'Riodinidae', 'Hesperiidae']\n",
    "\n",
    "def remove_butterflies(df, family_column='family'):\n",
    "    og_count = df.shape[0]\n",
    "    df = df[~df[family_column].isin(butterfly_families)]\n",
    "    print(f'Removing {og_count - df.shape[0]} butterfly species.')\n",
    "    return df\n",
    "\n",
    "def clean_gbif_download(df):\n",
    "    df = df.loc[df['order'] == 'Lepidoptera', ]\n",
    "\n",
    "    # create a column made up from the third word in column onwards\n",
    "    df['Authority'] = df['scientificName'].str.split().str[2:].str.join(' ')\n",
    "\n",
    "    df[\"species_name_provided\"] = df[\"species\"].fillna('')\n",
    "    df[\"authority_name_provided\"] = df['Authority']\n",
    "\n",
    "    df = remove_butterflies(df)\n",
    "\n",
    "    df['Source'] = 'gbif'\n",
    "\n",
    "    df = df[['family', 'genus', 'species', 'Authority', 'Source']]\n",
    "    df.columns = ['Family', 'Genus', 'Species', 'Authority', 'Source']\n",
    "\n",
    "    return(df)\n"
   ]
  },
  {
   "cell_type": "markdown",
   "metadata": {},
   "source": [
    "## Singapore"
   ]
  },
  {
   "cell_type": "markdown",
   "metadata": {},
   "source": [
    "From https://github.com/AMI-system/gbif_download_standalone/issues/22"
   ]
  },
  {
   "cell_type": "code",
   "execution_count": null,
   "metadata": {},
   "outputs": [],
   "source": [
    "# Read the species checklist\n",
    "checklist_name = \"singapore-moths\"\n",
    "\n",
    "df = pd.read_csv(os.path.join(\"../species_checklists\", checklist_name+\".csv\"),\n",
    "                 sep=',', encoding='latin-1')\n",
    "\n",
    "df['Species'] = df['Scientific Name']\n",
    "df['species_name_provided'] = df['Species']\n",
    "df['authority_name_provided'] = df['Authority']\n",
    "\n",
    "df['Genus'] = ''\n",
    "df.head()"
   ]
  },
  {
   "cell_type": "code",
   "execution_count": null,
   "metadata": {},
   "outputs": [],
   "source": [
    "df = remove_butterflies(df, 'Family')"
   ]
  },
  {
   "cell_type": "code",
   "execution_count": null,
   "metadata": {},
   "outputs": [],
   "source": [
    "df.to_csv(os.path.join(\"../species_checklists/\",\n",
    "                       checklist_name+\"-preprocessed.csv\"),\n",
    "          index=False)"
   ]
  },
  {
   "cell_type": "markdown",
   "metadata": {
    "jp-MarkdownHeadingCollapsed": true,
    "tags": []
   },
   "source": [
    "## Costa Rica"
   ]
  },
  {
   "cell_type": "markdown",
   "metadata": {},
   "source": [
    "From: https://github.com/AMI-system/species_classifier/issues/28"
   ]
  },
  {
   "cell_type": "code",
   "execution_count": null,
   "metadata": {},
   "outputs": [],
   "source": [
    "# Read the species checklist\n",
    "checklist_name = \"costarica-moths\"\n",
    "\n",
    "df = pd.read_csv(os.path.join(\"../species_checklists\", checklist_name+\".csv\"),\n",
    "                 sep=',', encoding='latin-1')\n",
    "\n",
    "df.columns = ['Family', 'Genus', 'Species', 'Subspecies']"
   ]
  },
  {
   "cell_type": "code",
   "execution_count": null,
   "metadata": {},
   "outputs": [],
   "source": [
    "df.head()"
   ]
  },
  {
   "cell_type": "code",
   "execution_count": null,
   "metadata": {},
   "outputs": [],
   "source": [
    "# Combine costa rica column names\n",
    "df[\"species_name_provided\"] = df[\"Genus\"].fillna('') + \" \" + df[\"Species\"].fillna('')\n",
    "\n",
    "df[\"authority_name_provided\"] = \"\""
   ]
  },
  {
   "cell_type": "code",
   "execution_count": null,
   "metadata": {},
   "outputs": [],
   "source": [
    "# Edit the column names to remove [] and ()\n",
    "df['authority_name_provided'] = df['authority_name_provided'].replace('[\\(\\)\\[\\]]', '', regex=True)"
   ]
  },
  {
   "cell_type": "code",
   "execution_count": null,
   "metadata": {},
   "outputs": [],
   "source": [
    "print(df.shape)\n",
    "df = remove_butterflies(df, 'Family')\n",
    "print(df.shape)"
   ]
  },
  {
   "cell_type": "code",
   "execution_count": null,
   "metadata": {},
   "outputs": [],
   "source": [
    "df.head()"
   ]
  },
  {
   "cell_type": "code",
   "execution_count": null,
   "metadata": {},
   "outputs": [],
   "source": [
    "df.to_csv(os.path.join(\"../species_checklists/\",\n",
    "                       checklist_name+\"-preprocessed.csv\"),\n",
    "          index=False)"
   ]
  },
  {
   "cell_type": "markdown",
   "metadata": {
    "jp-MarkdownHeadingCollapsed": true,
    "tags": []
   },
   "source": [
    "## United Kingdom"
   ]
  },
  {
   "cell_type": "markdown",
   "metadata": {},
   "source": [
    "From: https://github.com/AMI-system/species_classifier/issues/4"
   ]
  },
  {
   "cell_type": "code",
   "execution_count": null,
   "metadata": {},
   "outputs": [],
   "source": [
    "# Read the species checklist\n",
    "checklist_name = \"uksi-moths\"\n",
    "\n",
    "df = pd.read_csv(os.path.join(\"../species_checklists\", checklist_name+\".csv\"),\n",
    "                 sep=',', encoding='latin-1')\n",
    "\n",
    "df[\"Genus\"] = ''"
   ]
  },
  {
   "cell_type": "code",
   "execution_count": null,
   "metadata": {},
   "outputs": [],
   "source": [
    "df.head()"
   ]
  },
  {
   "cell_type": "code",
   "execution_count": null,
   "metadata": {},
   "outputs": [],
   "source": [
    "# Combine costa rica column names\n",
    "df[\"species_name_provided\"] = df[\"taxon\"].fillna('')\n",
    "\n",
    "df[\"authority_name_provided\"] = df['preferred_authority'].replace('[\\(\\)\\[\\]]', '', regex=True)"
   ]
  },
  {
   "cell_type": "code",
   "execution_count": null,
   "metadata": {},
   "outputs": [],
   "source": [
    "df = remove_butterflies(df, 'family_taxon')"
   ]
  },
  {
   "cell_type": "code",
   "execution_count": null,
   "metadata": {},
   "outputs": [],
   "source": [
    "df.head()"
   ]
  },
  {
   "cell_type": "code",
   "execution_count": null,
   "metadata": {},
   "outputs": [],
   "source": [
    "df.to_csv(os.path.join(\"../species_checklists/\", checklist_name+\"-preprocessed.csv\"),\n",
    "          index=False)"
   ]
  },
  {
   "cell_type": "markdown",
   "metadata": {
    "jp-MarkdownHeadingCollapsed": true,
    "tags": []
   },
   "source": [
    "## Thailand"
   ]
  },
  {
   "cell_type": "markdown",
   "metadata": {},
   "source": [
    "From Two sources: \n",
    "\n",
    "1. GBIF: https://www.gbif.org/occurrence/search?basis_of_record=HUMAN_OBSERVATION&basis_of_record=PRESERVED_SPECIMEN&country=TH&taxon_key=797&occurrence_status=present\n",
    "\n",
    "    GBIF.org (18 August 2025) GBIF Occurrence Download https://doi.org/10.15468/dl.sfrd8f\n",
    "\n",
    "2. Update 18/08/2025: Species list from deployment partners. See email on 6th August titled: 'Re: AMBER updates'"
   ]
  },
  {
   "cell_type": "code",
   "execution_count": null,
   "metadata": {},
   "outputs": [],
   "source": [
    "# Read the species checklist\n",
    "checklist_name = \"thailand-moths\"\n",
    "\n",
    "df1 = pd.read_csv(os.path.join(\"/home/users/katriona/gbif_download_standalone/species_checklists/thailand-gbif-moths.tsv\"),\n",
    "                sep='\\t', encoding='latin-1')\n",
    "\n",
    "df1.head()"
   ]
  },
  {
   "cell_type": "code",
   "execution_count": null,
   "metadata": {},
   "outputs": [],
   "source": [
    "# tidy the species column\n",
    "df1['scientific_name'] = df1['scientificName'].astype(str)\n",
    "df1 = clean_species_words(df1, 'scientific_name')\n",
    "\n",
    "# inspect species with > 2 words still:\n",
    "df1.loc[df1['scientific_name'].str.split().str.len() > 2, 'scientific_name']"
   ]
  },
  {
   "cell_type": "markdown",
   "metadata": {},
   "source": [
    "These appear to be subspecies - we will look at the species level"
   ]
  },
  {
   "cell_type": "code",
   "execution_count": null,
   "metadata": {},
   "outputs": [],
   "source": [
    "# remove duplicates in the scientific_name column\n",
    "df1 = df1.drop_duplicates(subset='scientific_name')\n",
    "\n",
    "# only keep rows where the scientific_name is two words or more and keep the first two (species, instead of subspecies)\n",
    "df1 = df1[df1['scientific_name'].str.split().str.len() > 1]\n",
    "df1['scientific_name'] = df1['scientific_name'].str.split().str[:2].str.join(' ')\n",
    "\n",
    "#df = df[['scientific_name', 'taxon_id']]\n",
    "df1['Species']  = df1['scientific_name']\n",
    "df1['Genus']  = df1['genus']\n",
    "\n",
    "df1[\"species_name_provided\"] = df1[\"Species\"].fillna('')\n",
    "df1[\"authority_name_provided\"] = \"\""
   ]
  },
  {
   "cell_type": "code",
   "execution_count": null,
   "metadata": {},
   "outputs": [],
   "source": [
    "df1 = remove_butterflies(df1, 'family')\n",
    "df1['source'] = 'gbif'"
   ]
  },
  {
   "cell_type": "markdown",
   "metadata": {},
   "source": [
    "### Updates species list"
   ]
  },
  {
   "cell_type": "code",
   "execution_count": null,
   "metadata": {},
   "outputs": [],
   "source": [
    "# Read the species checklist\n",
    "df2 = pd.read_csv(os.path.join(\"/home/users/katriona/gbif_download_standalone/species_checklists/Thailand_moth_species_update.tsv\"),\n",
    "                sep='\\t', encoding='latin-1')\n",
    "\n",
    "df2.head()"
   ]
  },
  {
   "cell_type": "code",
   "execution_count": null,
   "metadata": {},
   "outputs": [],
   "source": [
    "# tidy the species column\n",
    "df2['scientific_name'] = df2['species'].astype(str)\n",
    "\n",
    "\n",
    "# if scientific name ends with ', YYYY' remove the last two words\n",
    "df2['scientific_name'] = df2['scientific_name'].str.replace(r', \\d{4}$', '', regex=True)\n",
    "\n",
    "# remove anything in brackets from scientific name\n",
    "df2['scientific_name'] = df2['scientific_name'].str.replace(r'\\(.*?\\)', '', regex=True)\n",
    "\n",
    "df2 = clean_species_words(df2, 'scientific_name')\n",
    "\n",
    "# inspect species with > 2 words still:\n",
    "df2.loc[df2['scientific_name'].str.split().str.len() > 2, 'scientific_name']"
   ]
  },
  {
   "cell_type": "code",
   "execution_count": null,
   "metadata": {},
   "outputs": [],
   "source": [
    "df2.head()"
   ]
  },
  {
   "cell_type": "code",
   "execution_count": null,
   "metadata": {},
   "outputs": [],
   "source": [
    "# remove duplicates in the scientific_name column\n",
    "df2 = df2.drop_duplicates(subset='scientific_name')\n",
    "\n",
    "# only keep rows where the scientific_name is two words or more and keep the first two (species, instead of subspecies)\n",
    "df2 = df2[df2['scientific_name'].str.split().str.len() > 1]\n",
    "df2['scientific_name'] = df2['scientific_name'].str.split().str[:2].str.join(' ')\n",
    "\n",
    "#df = df[['scientific_name', 'taxon_id']]\n",
    "df2['Species']  = df2['scientific_name']\n",
    "\n",
    "\n",
    "df2[\"species_name_provided\"] = df2[\"Species\"].fillna('')\n",
    "df2[\"authority_name_provided\"] = \"\""
   ]
  },
  {
   "cell_type": "code",
   "execution_count": null,
   "metadata": {},
   "outputs": [],
   "source": [
    "df2 = remove_butterflies(df2, 'family')\n",
    "df2['source'] = 'updated list'"
   ]
  },
  {
   "cell_type": "code",
   "execution_count": null,
   "metadata": {},
   "outputs": [],
   "source": [
    "common_cols = df1.columns.intersection(df2.columns)\n",
    "common_cols"
   ]
  },
  {
   "cell_type": "code",
   "execution_count": null,
   "metadata": {},
   "outputs": [],
   "source": [
    "df = pd.concat([df1[common_cols], df2[common_cols]], ignore_index=True)"
   ]
  },
  {
   "cell_type": "code",
   "execution_count": null,
   "metadata": {},
   "outputs": [],
   "source": [
    "print(df['source'].value_counts())\n",
    "\n",
    "df = df.drop_duplicates(subset=['Species'], keep='last')\n",
    "\n",
    "print(df['source'].value_counts())"
   ]
  },
  {
   "cell_type": "code",
   "execution_count": null,
   "metadata": {},
   "outputs": [],
   "source": [
    "df.to_csv(os.path.join(\"../species_checklists/\",\n",
    "                       checklist_name+\"-preprocessed.csv\"),\n",
    "          index=False)"
   ]
  },
  {
   "cell_type": "markdown",
   "metadata": {
    "tags": []
   },
   "source": [
    "## Madagascar"
   ]
  },
  {
   "cell_type": "markdown",
   "metadata": {},
   "source": [
    "This comes from two sources: \n",
    "1. Moths from GBIF using the filter: \n",
    "   https://www.gbif.org/occurrence/download?continent=AFRICA&country=MG&taxon_key=797&advanced=1&dataset_name=iNaturalist%20Research-grade%20Observations\n",
    "\n",
    "    species list download\n",
    "    citation: GBIF.org (13 November 2024) GBIF Occurrence Download  https://doi.org/10.15468/dl.2naum6\n",
    "   \n",
    "3. From Wikipedia: https://en.wikipedia.org/wiki/List_of_moths_of_Madagascar"
   ]
  },
  {
   "cell_type": "markdown",
   "metadata": {
    "tags": []
   },
   "source": [
    "### 1. From GBIF"
   ]
  },
  {
   "cell_type": "code",
   "execution_count": null,
   "metadata": {},
   "outputs": [],
   "source": [
    "# Read the species checklist\n",
    "checklist_name = \"madagascar\"\n",
    "\n",
    "mad_df1 = pd.read_csv(os.path.join(\"../species_checklists\",\n",
    "                            checklist_name+\"_gbif_moths.csv\"),\n",
    "                sep='\\t', encoding='latin-1')\n",
    "\n",
    "mad_df1 = clean_gbif_download(mad_df1)\n",
    "mad_df1.head()"
   ]
  },
  {
   "cell_type": "markdown",
   "metadata": {
    "tags": []
   },
   "source": [
    "### From Wikipedia"
   ]
  },
  {
   "cell_type": "code",
   "execution_count": null,
   "metadata": {},
   "outputs": [],
   "source": [
    "# Wikipedia URL for the moth species by family\n",
    "wikipedia_url = 'https://en.wikipedia.org/wiki/List_of_moths_of_Madagascar'\n",
    "\n",
    "# mad_df2 = scrape_wikipedia_to_csv(wikipedia_url)\n",
    "mad_df2 = scrape_wikipedia_to_csv(wikipedia_url)\n",
    "mad_df2.head()"
   ]
  },
  {
   "cell_type": "markdown",
   "metadata": {},
   "source": [
    "### Combine"
   ]
  },
  {
   "cell_type": "code",
   "execution_count": null,
   "metadata": {},
   "outputs": [],
   "source": [
    "# combine df and mad_df2\n",
    "df = pd.concat([mad_df1, mad_df2], ignore_index=True)\n",
    "df.head()"
   ]
  },
  {
   "cell_type": "code",
   "execution_count": null,
   "metadata": {},
   "outputs": [],
   "source": [
    "print(df.shape)\n",
    "\n",
    "# remove duplicated rows based on family, genus and species\n",
    "df = df.drop_duplicates(subset=['Family', 'Genus', 'Species'])\n",
    "df = df.dropna(subset=['Species'])\n",
    "df = remove_butterflies(df, 'Family')\n",
    "\n",
    "df[\"species_name_provided\"] = df[\"Species\"].fillna('')\n",
    "df[\"authority_name_provided\"] = df['Authority']\n",
    "df['Subfamily'] = \"\"\n",
    "df[\"GBIF accepted name\"] = df[\"Species\"].fillna('')\n",
    "\n",
    "df = df[['Family', 'Subfamily', 'Species', 'Genus', 'GBIF accepted name', 'species_name_provided', 'authority_name_provided']]\n",
    "\n",
    "print(df.shape)"
   ]
  },
  {
   "cell_type": "code",
   "execution_count": null,
   "metadata": {},
   "outputs": [],
   "source": [
    "df.head()"
   ]
  },
  {
   "cell_type": "code",
   "execution_count": null,
   "metadata": {},
   "outputs": [],
   "source": [
    "# split_dataframe(df=df, n=5, output_dir=\"../species_checklists/\", list_name=checklist_name)\n",
    "\n",
    "df.to_csv(os.path.join(\"../species_checklists/\",\n",
    "                    checklist_name+\"-moths-preprocessed.csv\"),\n",
    "        index=False)"
   ]
  },
  {
   "cell_type": "markdown",
   "metadata": {
    "tags": []
   },
   "source": [
    "## Anguilla\n",
    "\n",
    "List provided by David Roy on 21/5/24.\n",
    "Updated list on 24/10/24"
   ]
  },
  {
   "cell_type": "code",
   "execution_count": null,
   "metadata": {},
   "outputs": [],
   "source": [
    "# Read the species checklist\n",
    "checklist_name = \"anguilla-moths\"\n",
    "\n",
    "df = pd.read_csv(os.path.join(\"../species_checklists\",\n",
    "                            checklist_name+\".csv\"),\n",
    "                sep=',', encoding='latin-1')\n",
    "\n",
    "df[\"Genus\"] = \"\"\n",
    "\n",
    "# Combine costa rica column names\n",
    "df[\"species_name_provided\"] = df[\"Species\"].fillna('')\n",
    "df[\"authority_name_provided\"] = df['Authority (GBIF)']\n",
    "\n",
    "df = df[['Family', 'Subfamily', 'Species', 'Genus', 'GBIF accepted name', 'species_name_provided', 'authority_name_provided']]\n",
    "\n",
    "df.head()"
   ]
  },
  {
   "cell_type": "code",
   "execution_count": null,
   "metadata": {},
   "outputs": [],
   "source": [
    "df_update = pd.read_csv(os.path.join(\"../species_checklists\",\n",
    "                            checklist_name+\"_update.csv\"),\n",
    "                sep=',', encoding='latin-1')\n",
    "\n",
    "df_update[\"Genus\"] = \"\"\n",
    "df_update[\"Family\"] = \"\"\n",
    "df_update[\"Subfamily\"] = \"\"\n",
    "df_update[\"GBIF accepted name\"] = \"\"\n",
    "\n",
    "df_update[\"species_name_provided\"] = df_update[\"Species\"].fillna('')\n",
    "df_update[\"authority_name_provided\"] = \"\"\n",
    "\n",
    "df_update.head()"
   ]
  },
  {
   "cell_type": "code",
   "execution_count": null,
   "metadata": {},
   "outputs": [],
   "source": [
    "# combine two lists\n",
    "df_combined = pd.concat([df, df_update[list(df.columns)]])\n",
    "\n",
    "df_combined.head()"
   ]
  },
  {
   "cell_type": "code",
   "execution_count": null,
   "metadata": {},
   "outputs": [],
   "source": [
    "# look for problematic entries\n",
    "df_combined.loc[df_combined['species_name_provided'].str.contains('sp\\\\.'), 'species_name_provided'] = df_combined.loc[df_combined['species_name_provided'].str.contains('sp\\\\.'), 'species_name_provided'].str.replace(' sp.', '')"
   ]
  },
  {
   "cell_type": "code",
   "execution_count": null,
   "metadata": {},
   "outputs": [],
   "source": [
    "print(df_combined.shape)\n",
    "df_combined = df_combined.drop_duplicates(subset='Species', keep=\"first\")\n",
    "print(df_combined.shape)"
   ]
  },
  {
   "cell_type": "code",
   "execution_count": null,
   "metadata": {},
   "outputs": [],
   "source": [
    "df_combined = remove_butterflies(df_combined, 'Family')"
   ]
  },
  {
   "cell_type": "code",
   "execution_count": null,
   "metadata": {},
   "outputs": [],
   "source": [
    "df_combined.to_csv(os.path.join(\"../species_checklists/\",\n",
    "                       checklist_name+\"-preprocessed.csv\"),\n",
    "          index=False)"
   ]
  },
  {
   "cell_type": "markdown",
   "metadata": {
    "tags": []
   },
   "source": [
    "## Kenya and Uganda"
   ]
  },
  {
   "cell_type": "markdown",
   "metadata": {
    "tags": []
   },
   "source": [
    "### GBIF download\n",
    "\n",
    "From: https://www.gbif.org/occurrence/download?continent=AFRICA&country=KE&country=UG&taxon_key=797&advanced=1&dataset_name=iNaturalist%20Research-grade%20Observations\n",
    "\n",
    "species list download\n",
    "citation: GBIF.org (13 November 2024) GBIF Occurrence Download https://doi.org/10.15468/dl.xuu4h2"
   ]
  },
  {
   "cell_type": "code",
   "execution_count": null,
   "metadata": {},
   "outputs": [],
   "source": [
    "# Read the species checklist from GBIF\n",
    "checklist = 'kenya-uganda'\n",
    "ku_df1 = pd.read_csv(os.path.join(\"../species_checklists\", checklist + \"_gbif_moths.csv\"),\n",
    "                sep='\\t', encoding='latin-1')\n",
    "\n",
    "ku_df1 = clean_gbif_download(ku_df1)\n",
    "\n",
    "ku_df1.head()"
   ]
  },
  {
   "cell_type": "markdown",
   "metadata": {
    "tags": []
   },
   "source": [
    "### From Wikipedia"
   ]
  },
  {
   "cell_type": "code",
   "execution_count": null,
   "metadata": {},
   "outputs": [],
   "source": [
    "kenya_url = 'https://en.wikipedia.org/wiki/List_of_moths_of_Kenya'\n",
    "uganda_url = 'https://en.wikipedia.org/wiki/List_of_moths_of_Uganda'\n",
    "\n",
    "kenya_df_wiki = scrape_wikipedia_to_csv(kenya_url)\n",
    "uganda_df_wiki = scrape_wikipedia_to_csv(uganda_url)\n",
    "\n",
    "ku_df2 = pd.concat([kenya_df_wiki, uganda_df_wiki], ignore_index=True)\n",
    "ku_df2.head()"
   ]
  },
  {
   "cell_type": "markdown",
   "metadata": {},
   "source": [
    "### Combine dfs"
   ]
  },
  {
   "cell_type": "code",
   "execution_count": null,
   "metadata": {},
   "outputs": [],
   "source": [
    "df = pd.concat([ku_df1, ku_df2], ignore_index=True)\n",
    "\n",
    "df[\"species_name_provided\"] = df[\"Species\"].fillna('')\n",
    "df[\"authority_name_provided\"] = df['Authority']\n",
    "df['Subfamily'] = \"\"\n",
    "df[\"GBIF accepted name\"] = df[\"Species\"].fillna('')\n",
    "\n",
    "df = df[['Family', 'Subfamily', 'Species', 'Genus', 'GBIF accepted name', 'species_name_provided', 'authority_name_provided']]\n",
    "\n",
    "df = remove_butterflies(df, 'Family')"
   ]
  },
  {
   "cell_type": "code",
   "execution_count": null,
   "metadata": {},
   "outputs": [],
   "source": [
    "df.to_csv(os.path.join(\"../species_checklists/\",\n",
    "                    checklist_name+\"-moths-preprocessed.csv\"),\n",
    "        index=False)\n",
    "\n",
    "df.head()"
   ]
  },
  {
   "cell_type": "markdown",
   "metadata": {
    "tags": []
   },
   "source": [
    "## Japan"
   ]
  },
  {
   "cell_type": "markdown",
   "metadata": {
    "tags": []
   },
   "source": [
    "### GBIF download\n",
    "\n",
    "From: https://www.gbif.org/occurrence/download?continent=ASIA&country=JA&taxon_key=797&advanced=1&dataset_name=iNaturalist%20Research-grade%20Observations\n",
    "\n",
    "species list download\n",
    "citation: GBIF.org (13 November 2024) GBIF Occurrence Download https://doi.org/10.15468/dl.dvekqv"
   ]
  },
  {
   "cell_type": "code",
   "execution_count": null,
   "metadata": {},
   "outputs": [],
   "source": [
    "# Read the species checklist from GBIF\n",
    "checklist_name='japan'\n",
    "jp_df1 = pd.read_csv(os.path.join(\"../species_checklists\", checklist_name + \"-gbif-moths.tsv\"),\n",
    "                sep='\\t', encoding='latin-1')\n",
    "\n",
    "jp_df1 = clean_gbif_download(jp_df1)\n",
    "jp_df1.head()"
   ]
  },
  {
   "cell_type": "markdown",
   "metadata": {
    "tags": []
   },
   "source": [
    "### From Wikipedia"
   ]
  },
  {
   "cell_type": "code",
   "execution_count": null,
   "metadata": {},
   "outputs": [],
   "source": [
    "japan_urls = ['https://en.wikipedia.org/wiki/List_of_moths_of_Japan_(Noctuoidea)',\n",
    "             'https://en.wikipedia.org/wiki/List_of_moths_of_Japan_(Bombycoidea-Geometroidea)',\n",
    "             'https://en.wikipedia.org/wiki/List_of_moths_of_Japan_(Pyraloidea-Drepanoidea)',\n",
    "             'https://en.wikipedia.org/wiki/List_of_moths_of_Japan_(Choreutoidea-Thyridoidea)',\n",
    "             'https://en.wikipedia.org/wiki/List_of_moths_of_Japan_(Zygaenoidea-Tortricoidea)',\n",
    "             'https://en.wikipedia.org/wiki/List_of_moths_of_Japan_(Gelechioidea)',\n",
    "             'https://en.wikipedia.org/wiki/List_of_moths_of_Japan_(Micropterigoidea-Yponomeutoidea)'] #'https://en.wikipedia.org/wiki/List_of_moths_of_Japan'\n",
    "\n",
    "jp_df2 = pd.DataFrame()\n",
    "\n",
    "for url in japan_urls:\n",
    "    print(url)\n",
    "\n",
    "\n",
    "    japan_df_wiki = scrape_wikipedia_to_csv(url)\n",
    "\n",
    "    jp_df2 = pd.concat([jp_df2, japan_df_wiki], ignore_index=True)\n",
    "\n",
    "jp_df2.head()"
   ]
  },
  {
   "cell_type": "markdown",
   "metadata": {},
   "source": [
    "### From Jenna's list\n",
    "\n",
    "Additional source from: http://listmj.mothprog.com/list.html"
   ]
  },
  {
   "cell_type": "code",
   "execution_count": null,
   "metadata": {},
   "outputs": [],
   "source": [
    "url = 'http://listmj.mothprog.com/list.html'\n",
    "\n",
    "# Send a GET request to the URL\n",
    "response = requests.get(url)\n",
    "response.raise_for_status()\n",
    "\n",
    "# Parse the HTML content\n",
    "soup = BeautifulSoup(response.text, 'html.parser')"
   ]
  },
  {
   "cell_type": "code",
   "execution_count": null,
   "metadata": {},
   "outputs": [],
   "source": [
    "# Initialize lists to store data\n",
    "families, genera, species_list = [], [], []\n",
    "\n",
    "current_family = None\n",
    "current_genus = None\n",
    "\n",
    "# Loop through each element in the parsed HTML\n",
    "for tag in soup.find_all(True):\n",
    "    if 'family' in tag.get(\"class\", []):\n",
    "        # Update the current family\n",
    "        current_family = tag.find(\"span\", class_=\"highername\").get_text(strip=True)\n",
    "    elif 'genus' in tag.get(\"class\", []):\n",
    "        # Update the current genus\n",
    "        if tag.find(\"span\", class_=\"genusname\") is not None:\n",
    "            current_genus = tag.find(\"span\", class_=\"genusname\").get_text(strip=True)\n",
    "        else:\n",
    "            current_genus = 'undefined'\n",
    "    elif 'species' in tag.get(\"class\", []):\n",
    "        # Treat anything else as a species if within a family and genus\n",
    "        if tag.find(\"span\", class_=\"sciname\") is not None:\n",
    "            species_name = tag.find(\"span\", class_=\"sciname\").get_text(strip=True)   # take species name before any additional text\n",
    "        else:\n",
    "            species_name = 'Undefined: ' + tag.get_text(strip=True)\n",
    "\n",
    "        families.append(current_family)\n",
    "        genera.append(current_genus)\n",
    "        species_list.append(species_name)\n",
    "\n",
    "# Create DataFrame\n",
    "jp_df3 = pd.DataFrame({\n",
    "    \"Family\": families,\n",
    "    \"Genus\": genera,\n",
    "    \"Species\": species_list\n",
    "})\n",
    "\n",
    "jp_df3['Authority'] = ''\n",
    "jp_df3['Source'] = 'List-MJ'\n",
    "\n",
    "jp_df3"
   ]
  },
  {
   "cell_type": "markdown",
   "metadata": {},
   "source": [
    "### Combine df1, df2 and df3"
   ]
  },
  {
   "cell_type": "code",
   "execution_count": null,
   "metadata": {},
   "outputs": [],
   "source": [
    "df = pd.concat([jp_df2, jp_df1, jp_df3], ignore_index=True)\n",
    "print(df['Source'].value_counts())\n",
    "\n",
    "# remove duplicated rows based on family, and species\n",
    "df = df.drop_duplicates(subset=['Family', 'Species'], keep='last')\n",
    "\n",
    "# remove rows with missing species names\n",
    "df = df.dropna(subset=['Species'])\n",
    "\n",
    "df = remove_butterflies(df, 'Family')\n",
    "print(df['Source'].value_counts())"
   ]
  },
  {
   "cell_type": "code",
   "execution_count": null,
   "metadata": {},
   "outputs": [],
   "source": [
    "df.loc[df['Species'] == 'Neodrymonia marginata']"
   ]
  },
  {
   "cell_type": "code",
   "execution_count": null,
   "metadata": {},
   "outputs": [],
   "source": [
    "df['Species'] = df['Species'].str.split().str[:2].str.join(' ')\n",
    "df.head()"
   ]
  },
  {
   "cell_type": "code",
   "execution_count": null,
   "metadata": {},
   "outputs": [],
   "source": [
    "# Combine column names\n",
    "df[\"species_name_provided\"] = df[\"Species\"].fillna('')\n",
    "df[\"authority_name_provided\"] = df['Authority']\n",
    "df['Subfamily'] = \"\"\n",
    "df[\"GBIF accepted name\"] = df[\"Species\"].fillna('')\n",
    "\n",
    "df = df[['Family', 'Subfamily', 'Species', 'Genus', 'GBIF accepted name', 'species_name_provided', 'authority_name_provided']]"
   ]
  },
  {
   "cell_type": "code",
   "execution_count": null,
   "metadata": {},
   "outputs": [],
   "source": [
    "print(df.shape)\n",
    "df = df[df['Genus'] != \"undefined\"]\n",
    "print(df.shape)"
   ]
  },
  {
   "cell_type": "code",
   "execution_count": null,
   "metadata": {},
   "outputs": [],
   "source": [
    "df.to_csv(os.path.join(\"../species_checklists/\",\n",
    "                    checklist_name+\"-moths-preprocessed.csv\"),\n",
    "        index=False)"
   ]
  },
  {
   "cell_type": "code",
   "execution_count": null,
   "metadata": {},
   "outputs": [],
   "source": [
    "df.head()"
   ]
  },
  {
   "cell_type": "markdown",
   "metadata": {},
   "source": [
    "## Nigeria"
   ]
  },
  {
   "cell_type": "markdown",
   "metadata": {
    "jp-MarkdownHeadingCollapsed": true,
    "tags": []
   },
   "source": [
    "#### GBIF download\n",
    "\n",
    "From: https://www.gbif.org/occurrence/download?continent=AFRICA&country=NG&taxon_key=797&advanced=1&dataset_name=iNaturalist%20Research-grade%20Observations\n",
    "\n",
    "species list download\n",
    "citation: GBIF.org (13 November 2024) GBIF Occurrence Download https://doi.org/10.15468/dl.42bm6u "
   ]
  },
  {
   "cell_type": "code",
   "execution_count": null,
   "metadata": {},
   "outputs": [],
   "source": [
    "# Read the species checklist from GBIF\n",
    "checklist_name=\"nigeria\"\n",
    "ng_df1 = pd.read_csv(os.path.join(\"../species_checklists\", checklist_name + \"-gbif-moths.tsv\"),\n",
    "                sep='\\t', encoding='latin-1')\n",
    "\n",
    "ng_df1 = clean_gbif_download(ng_df1)\n",
    "\n",
    "ng_df1.head()"
   ]
  },
  {
   "cell_type": "markdown",
   "metadata": {
    "tags": []
   },
   "source": [
    "#### From Wikipedia"
   ]
  },
  {
   "cell_type": "code",
   "execution_count": null,
   "metadata": {},
   "outputs": [],
   "source": [
    "nigeria_url = 'https://en.wikipedia.org/wiki/List_of_moths_of_Nigeria'\n",
    "\n",
    "ng_df2 = scrape_wikipedia_to_csv(nigeria_url)\n",
    "\n",
    "ng_df2.head()"
   ]
  },
  {
   "cell_type": "markdown",
   "metadata": {},
   "source": [
    "#### combine df1 and df2"
   ]
  },
  {
   "cell_type": "code",
   "execution_count": null,
   "metadata": {},
   "outputs": [],
   "source": [
    "df = pd.concat([ng_df1, ng_df2], ignore_index=True)\n",
    "print(df['Source'].value_counts())\n",
    "\n",
    "# remove duplicated rows based on family, genus and species\n",
    "df = df.drop_duplicates(subset=['Family', 'Species'], keep='first')\n",
    "\n",
    "# remove rows with missing species names\n",
    "df = df.dropna(subset=['Species'])\n",
    "df = remove_butterflies(df, 'Family')\n",
    "\n",
    "print(df['Source'].value_counts())"
   ]
  },
  {
   "cell_type": "code",
   "execution_count": null,
   "metadata": {},
   "outputs": [],
   "source": [
    "df.head()"
   ]
  },
  {
   "cell_type": "code",
   "execution_count": null,
   "metadata": {},
   "outputs": [],
   "source": [
    "# Combine costa rica column names\n",
    "df[\"species_name_provided\"] = df[\"Species\"].fillna('')\n",
    "df[\"authority_name_provided\"] = df['Authority']\n",
    "df['Subfamily'] = \"\"\n",
    "df[\"GBIF accepted name\"] = df[\"Species\"].fillna('')\n",
    "\n",
    "\n",
    "df = df[['Family', 'Subfamily', 'Species', 'Genus', 'GBIF accepted name', 'species_name_provided', 'authority_name_provided']]\n",
    "df.head()"
   ]
  },
  {
   "cell_type": "code",
   "execution_count": null,
   "metadata": {},
   "outputs": [],
   "source": [
    "df.to_csv(os.path.join(\"../species_checklists/\",\n",
    "                    checklist_name+\"-moths-preprocessed.csv\"),\n",
    "        index=False)"
   ]
  },
  {
   "cell_type": "code",
   "execution_count": null,
   "metadata": {},
   "outputs": [],
   "source": []
  },
  {
   "cell_type": "markdown",
   "metadata": {},
   "source": [
    "## Namibia"
   ]
  },
  {
   "cell_type": "markdown",
   "metadata": {},
   "source": [
    "#### GBIF download\n",
    "\n",
    "From: https://www.gbif.org/occurrence/download?continent=AFRICA&country=NA&taxon_key=797&advanced=1&dataset_name=iNaturalist%20Research-grade%20Observations\n",
    "\n",
    "species list download\n",
    "citation: GBIF.org (18 August 2025) GBIF Occurrence Download https://doi.org/10.15468/dl.76esw2"
   ]
  },
  {
   "cell_type": "code",
   "execution_count": null,
   "metadata": {},
   "outputs": [],
   "source": [
    "# Read the species checklist from GBIF\n",
    "checklist_name=\"namibia\"\n",
    "na_df1 = pd.read_csv(os.path.join(\"/home/users/katriona/gbif_download_standalone/species_checklists\", checklist_name + \"-gbif-moths.tsv\"),\n",
    "                sep='\\t', encoding='latin-1', low_memory=True)\n",
    "na_df1 = clean_gbif_download(na_df1)\n",
    "\n",
    "na_df1.head()"
   ]
  },
  {
   "cell_type": "markdown",
   "metadata": {},
   "source": [
    "### From Wikipedia\n",
    "\n",
    "Wiki: https://en.wikipedia.org/wiki/List_of_moths_of_Namibia"
   ]
  },
  {
   "cell_type": "code",
   "execution_count": null,
   "metadata": {},
   "outputs": [],
   "source": [
    "namibia_url = 'https://en.wikipedia.org/wiki/List_of_moths_of_Namibia'\n",
    "\n",
    "na_df2 = scrape_wikipedia_to_csv(namibia_url)\n",
    "\n",
    "na_df2.head()"
   ]
  },
  {
   "cell_type": "markdown",
   "metadata": {},
   "source": [
    "### Combine df1 and df2"
   ]
  },
  {
   "cell_type": "code",
   "execution_count": null,
   "metadata": {},
   "outputs": [],
   "source": [
    "df = pd.concat([na_df1, na_df2], ignore_index=True)\n",
    "print(df['Source'].value_counts())\n",
    "\n",
    "# remove duplicated rows based on family, genus and species\n",
    "df = df.drop_duplicates(subset=['Family', 'Species'], keep='first')\n",
    "\n",
    "# remove rows with missing species names\n",
    "df = df.dropna(subset=['Species'])\n",
    "df = remove_butterflies(df, 'Family')\n",
    "\n",
    "print(df['Source'].value_counts())"
   ]
  },
  {
   "cell_type": "code",
   "execution_count": null,
   "metadata": {},
   "outputs": [],
   "source": [
    "df.head()"
   ]
  },
  {
   "cell_type": "code",
   "execution_count": null,
   "metadata": {},
   "outputs": [],
   "source": [
    "# Combine costa rica column names\n",
    "df[\"species_name_provided\"] = df[\"Species\"].fillna('')\n",
    "df[\"authority_name_provided\"] = df['Authority']\n",
    "df['Subfamily'] = \"\"\n",
    "df[\"GBIF accepted name\"] = df[\"Species\"].fillna('')\n",
    "\n",
    "\n",
    "df = df[['Family', 'Subfamily', 'Species', 'Genus', 'GBIF accepted name', 'species_name_provided', 'authority_name_provided']]\n",
    "df.head()"
   ]
  },
  {
   "cell_type": "code",
   "execution_count": null,
   "metadata": {},
   "outputs": [],
   "source": [
    "df.to_csv(os.path.join(\"../species_checklists/\",\n",
    "                    checklist_name+\"-moths-preprocessed.csv\"),\n",
    "        index=False)"
   ]
  }
 ],
 "metadata": {
  "kernelspec": {
   "display_name": "Python 3",
   "language": "python",
   "name": "python3"
  },
  "language_info": {
   "codemirror_mode": {
    "name": "ipython",
    "version": 3
   },
   "file_extension": ".py",
   "mimetype": "text/x-python",
   "name": "python",
   "nbconvert_exporter": "python",
   "pygments_lexer": "ipython3",
   "version": "3.11.9"
  }
 },
 "nbformat": 4,
 "nbformat_minor": 4
}
