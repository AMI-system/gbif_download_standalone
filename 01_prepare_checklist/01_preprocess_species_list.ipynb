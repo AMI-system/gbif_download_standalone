{
 "cells": [
  {
   "cell_type": "markdown",
   "metadata": {},
   "source": [
    "# Preprocess the species lists\n",
    "\n",
    "Short script to preprocess the species checklist.\n",
    "Will be modified for each incoming species checklist, depending on what must be done. \n",
    "\n",
    "The aim is to transform the column names of the checklist, so that: \n",
    "- The column with species name is called \"species_name_provided\"\n",
    "- The column with the authority is called \"authority_name_provided\". If such column doesn't exist, it should be created and left blank.\n",
    "- The authority column is formatted as \"Lastname, year\" "
   ]
  },
  {
   "cell_type": "code",
   "execution_count": 2,
   "metadata": {},
   "outputs": [],
   "source": [
    "import pandas as pd\n",
    "import os\n",
    "import requests\n",
    "from bs4 import BeautifulSoup"
   ]
  },
  {
   "cell_type": "code",
   "execution_count": 3,
   "metadata": {},
   "outputs": [],
   "source": [
    "def split_dataframe(df, n, output_dir, list_name):\n",
    "    split_size = len(df) // n\n",
    "    for i in range(n):\n",
    "        start_idx = i * split_size\n",
    "        # Ensure the last part includes any remaining rows\n",
    "        end_idx = (i + 1) * split_size if i < n - 1 else len(df)\n",
    "        df_part = df.iloc[start_idx:end_idx]\n",
    "        file_path = os.path.join(output_dir, f\"{list_name}-preprocessed-part{i + 1}.csv\")\n",
    "        df_part.to_csv(file_path, index=False)\n",
    "        print(f\"Saved part {i + 1} to {file_path}\")"
   ]
  },
  {
   "cell_type": "markdown",
   "metadata": {
    "jp-MarkdownHeadingCollapsed": true,
    "tags": []
   },
   "source": [
    "## Costa Rica"
   ]
  },
  {
   "cell_type": "code",
   "execution_count": null,
   "metadata": {},
   "outputs": [],
   "source": [
    "# Read the species checklist\n",
    "checklist_name = \"costarica-moths\"\n",
    "\n",
    "df = pd.read_csv(os.path.join(\"../species_checklists\", checklist_name+\".csv\"),\n",
    "                 sep=',', encoding='latin-1')\n",
    "\n",
    "df.columns = ['Family', 'Genus', 'Species', 'Subspecies']"
   ]
  },
  {
   "cell_type": "code",
   "execution_count": null,
   "metadata": {},
   "outputs": [],
   "source": [
    "df.head()"
   ]
  },
  {
   "cell_type": "code",
   "execution_count": null,
   "metadata": {},
   "outputs": [],
   "source": [
    "# Combine costa rica column names\n",
    "df[\"species_name_provided\"] = df[\"Genus\"].fillna('') + \" \" + df[\"Species\"].fillna('')\n",
    "\n",
    "df[\"authority_name_provided\"] = \"\""
   ]
  },
  {
   "cell_type": "code",
   "execution_count": null,
   "metadata": {},
   "outputs": [],
   "source": [
    "# Edit the column names to remove [] and ()\n",
    "df['authority_name_provided'] = df['authority_name_provided'].replace('[\\(\\)\\[\\]]', '', regex=True)"
   ]
  },
  {
   "cell_type": "code",
   "execution_count": null,
   "metadata": {},
   "outputs": [],
   "source": [
    "# Costa Rica list was too long for the API call. So had to split in 3 parts:\n",
    "split_dataframe(df, n=3, \n",
    "                output_dir=\"../species_checklists\", \n",
    "                list_name=checklist_name)\n",
    "# # Determine the split indices\n",
    "# split1 = len(df) // 3\n",
    "# split2 = 2 * split1\n",
    "\n",
    "# # Split the DataFrame into three parts\n",
    "# df1 = df.iloc[:split1]\n",
    "# df2 = df.iloc[split1:split2]\n",
    "# df3 = df.iloc[split2:]"
   ]
  },
  {
   "cell_type": "code",
   "execution_count": null,
   "metadata": {},
   "outputs": [],
   "source": [
    "# # Save the three parts to separate CSV files\n",
    "# df1.to_csv(os.path.join(\"../species_checklists/\", \n",
    "#                        checklist_name+\"-preprocessed-part1.csv\"),\n",
    "#           index=False)\n",
    "# df2.to_csv(os.path.join(\"../species_checklists/\", \n",
    "#                        checklist_name+\"-preprocessed-part2.csv\"),\n",
    "#           index=False)\n",
    "# df3.to_csv(os.path.join(\"../species_checklists/\", \n",
    "#                        checklist_name+\"-preprocessed-part3.csv\"),\n",
    "#           index=False)"
   ]
  },
  {
   "cell_type": "code",
   "execution_count": null,
   "metadata": {},
   "outputs": [],
   "source": [
    "# Save the csv file\n",
    "df.to_csv(os.path.join(\"../species_checklists/\", \n",
    "                       checklist_name+\"-preprocessed.csv\"),\n",
    "          index=False)"
   ]
  },
  {
   "cell_type": "markdown",
   "metadata": {
    "jp-MarkdownHeadingCollapsed": true,
    "tags": []
   },
   "source": [
    "## For UK moths \n",
    "\n",
    "This file is in a different format"
   ]
  },
  {
   "cell_type": "code",
   "execution_count": null,
   "metadata": {},
   "outputs": [],
   "source": [
    "# Read the species checklist\n",
    "checklist_name = \"uksi-moths\"\n",
    "\n",
    "df = pd.read_csv(os.path.join(\"../species_checklists\", checklist_name+\".csv\"),\n",
    "                 sep=',', encoding='latin-1')\n",
    "\n",
    "df[\"Genus\"] = ''"
   ]
  },
  {
   "cell_type": "code",
   "execution_count": null,
   "metadata": {},
   "outputs": [],
   "source": [
    "df.head()"
   ]
  },
  {
   "cell_type": "code",
   "execution_count": null,
   "metadata": {},
   "outputs": [],
   "source": [
    "# Combine costa rica column names\n",
    "df[\"species_name_provided\"] = df[\"Genus\"].fillna('') + \" \" + df[\"taxon\"].fillna('')\n",
    "\n",
    "df[\"authority_name_provided\"] = df['preferred_authority'].replace('[\\(\\)\\[\\]]', '', regex=True)"
   ]
  },
  {
   "cell_type": "code",
   "execution_count": null,
   "metadata": {},
   "outputs": [],
   "source": [
    "df.head()"
   ]
  },
  {
   "cell_type": "code",
   "execution_count": null,
   "metadata": {},
   "outputs": [],
   "source": [
    "df.to_csv(os.path.join(\"../species_checklists/\", \n",
    "                       checklist_name+\"-preprocessed.csv\"),\n",
    "          index=False)"
   ]
  },
  {
   "cell_type": "markdown",
   "metadata": {
    "jp-MarkdownHeadingCollapsed": true,
    "tags": []
   },
   "source": [
    "## Thailand"
   ]
  },
  {
   "cell_type": "code",
   "execution_count": null,
   "metadata": {},
   "outputs": [],
   "source": [
    "# Read the species checklist\n",
    "checklist_name = \"thailand-moths\"\n",
    "\n",
    "df = pd.read_csv(os.path.join(\"../species_checklists\", checklist_name+\".csv\"),\n",
    "                sep=',', encoding='latin-1')\n",
    "\n",
    "#df.columns=['Superfamily', 'Family', 'Genus', 'Species']\n"
   ]
  },
  {
   "cell_type": "code",
   "execution_count": null,
   "metadata": {},
   "outputs": [],
   "source": [
    "df.loc[df['scientific_name'].str.split().str.len() > 2, 'scientific_name']"
   ]
  },
  {
   "cell_type": "code",
   "execution_count": null,
   "metadata": {},
   "outputs": [],
   "source": [
    "# remove duplicates in the scientific_name column\n",
    "df = df.drop_duplicates(subset='scientific_name')\n",
    "\n",
    "# only keep rows where the scientific_name is two words or more and keep the first two\n",
    "df = df[df['scientific_name'].str.split().str.len() > 1]\n",
    "df['scientific_name'] = df['scientific_name'].str.split().str[:2].str.join(' ')\n",
    "\n",
    "#df = df[['scientific_name', 'taxon_id']]\n",
    "df['Species']  = df['scientific_name']\n",
    "df['Genus']  = df['taxon_genus_name']\n",
    "\n",
    "df[\"species_name_provided\"] = df[\"Genus\"].fillna('') + \" \" + df[\"Species\"].fillna('')\n",
    "df[\"authority_name_provided\"] = \"\""
   ]
  },
  {
   "cell_type": "code",
   "execution_count": null,
   "metadata": {},
   "outputs": [],
   "source": [
    "df.to_csv(os.path.join(\"../species_checklists/\", \n",
    "                       checklist_name+\"-preprocessed.csv\"),\n",
    "          index=False)"
   ]
  },
  {
   "cell_type": "markdown",
   "metadata": {
    "jp-MarkdownHeadingCollapsed": true,
    "tags": []
   },
   "source": [
    "## Madagascar\n",
    "\n",
    "This comes from two sources: \n",
    "1. Moths from GBIF using the filter: \n",
    "    ```json\n",
    "    {\n",
    "    \"and\" : [\n",
    "        \"BasisOfRecord is one of (Human Observation, Specimen)\",\n",
    "        \"Country is Madagascar\",\n",
    "        \"OccurrenceStatus is Present\",\n",
    "        \"TaxonKey is Lepidoptera\"\n",
    "    ]\n",
    "    }\n",
    "    ```\n",
    "2. From Wikipedia: https://en.wikipedia.org/wiki/List_of_moths_of_Madagascar\n",
    "\n",
    "### 1. From GBIF"
   ]
  },
  {
   "cell_type": "code",
   "execution_count": null,
   "metadata": {},
   "outputs": [],
   "source": [
    "# Read the species checklist\n",
    "# Read the species checklist\n",
    "checklist_name = \"madagascar-moths\"\n",
    "\n",
    "mad_df1 = pd.read_csv(os.path.join(\"../species_checklists\",\n",
    "                            checklist_name+\"1.csv\"),\n",
    "                sep='\\t', encoding='latin-1')\n",
    "\n",
    "mad_df1.head()"
   ]
  },
  {
   "cell_type": "code",
   "execution_count": null,
   "metadata": {},
   "outputs": [],
   "source": [
    "mad_df1 = mad_df1.loc[mad_df1['order'] == 'Lepidoptera', ]\n",
    "\n",
    "# create a column made up from the third word in column onwards\n",
    "mad_df1['Authority'] = mad_df1['scientificName'].str.split().str[2:].str.join(' ')\n",
    "\n",
    "mad_df1[\"species_name_provided\"] = mad_df1[\"genus\"].fillna('') + \" \" + mad_df1[\"species\"].fillna('')\n",
    "mad_df1[\"authority_name_provided\"] = mad_df1['Authority']\n",
    "\n",
    "mad_df1.head()"
   ]
  },
  {
   "cell_type": "code",
   "execution_count": null,
   "metadata": {},
   "outputs": [],
   "source": [
    "def scrape_wikipedia_to_csv(wikipedia_url):\n",
    "    # Send a request to the Wikipedia page\n",
    "    response = requests.get(wikipedia_url)\n",
    "    response.raise_for_status()  # Check if the request was successful\n",
    "\n",
    "    # Parse the HTML content using BeautifulSoup\n",
    "    soup = BeautifulSoup(response.content, 'html.parser')\n",
    "\n",
    "    # Find all the sections containing species information\n",
    "    family_sections = soup.find_all('h2')\n",
    "\n",
    "    data = []\n",
    "\n",
    "    # Loop through each family section to extract species\n",
    "    for family_section in family_sections:\n",
    "        # Find the family name\n",
    "        family_name_tag = family_section.find('span', class_='mw-headline')\n",
    "        if not family_name_tag:\n",
    "            continue\n",
    "        family_name = family_name_tag.get_text()\n",
    "\n",
    "        # Skip any 'h3' subheadings\n",
    "        next_node = family_section.find_next_sibling()\n",
    "        while next_node and next_node.name != 'h2':\n",
    "            if next_node.name == 'div' and 'columns' in next_node.get('class', []):\n",
    "                for column in next_node.find_all('div', recursive=False):\n",
    "                    for li in column.find_all('li'):\n",
    "                        species_name = li.get_text().strip()\n",
    "                        # Keep only the first two words in the species name\n",
    "                        species_name = ' '.join(species_name.split()[:2])\n",
    "                        data.append({'Family': family_name, 'Species': species_name})\n",
    "            elif next_node.name == 'ul':\n",
    "                for li in next_node.find_all('li'):\n",
    "                    species_name = li.get_text().strip()\n",
    "                    # Keep only the first two words in the species name\n",
    "                    species_name = ' '.join(species_name.split()[:2])\n",
    "                    data.append({'Family': family_name, 'Species': species_name})\n",
    "            next_node = next_node.find_next_sibling()\n",
    "\n",
    "    # Create a DataFrame and save to CSV\n",
    "    df = pd.DataFrame(data)\n",
    "    return df"
   ]
  },
  {
   "cell_type": "code",
   "execution_count": null,
   "metadata": {},
   "outputs": [],
   "source": [
    "# Wikipedia URL for the moth species by family\n",
    "wikipedia_url = 'https://en.wikipedia.org/wiki/List_of_moths_of_Madagascar'\n",
    "\n",
    "mad_df2 = scrape_wikipedia_to_csv(wikipedia_url)"
   ]
  },
  {
   "cell_type": "code",
   "execution_count": null,
   "metadata": {},
   "outputs": [],
   "source": [
    "mad_df2['Genus'] = ''\n",
    "mad_df2['Authority'] = ''\n",
    "\n",
    "mad_df2.head()"
   ]
  },
  {
   "cell_type": "code",
   "execution_count": null,
   "metadata": {},
   "outputs": [],
   "source": [
    "# combine df and mad_df2\n",
    "mad_df2 = mad_df2[['Family', 'Genus', 'Species', 'Authority']]\n",
    "\n",
    "mad_df1 = mad_df1[['family', 'genus', 'species', 'Authority']]\n",
    "mad_df1.columns = mad_df2.columns\n",
    "\n",
    "df = pd.concat([mad_df1, mad_df2], ignore_index=True)\n",
    "df.head()"
   ]
  },
  {
   "cell_type": "code",
   "execution_count": null,
   "metadata": {},
   "outputs": [],
   "source": [
    "print(df.shape)\n",
    "\n",
    "# remove duplicated rows based on family, genus and species\n",
    "df = df.drop_duplicates(subset=['Family', 'Genus', 'Species'])\n",
    "\n",
    "# remove rows with missing species names\n",
    "df = df.dropna(subset=['Species'])\n",
    "\n",
    "df.shape"
   ]
  },
  {
   "cell_type": "code",
   "execution_count": null,
   "metadata": {},
   "outputs": [],
   "source": [
    "split_dataframe(df=df, n=5, output_dir=\"../species_checklists/\", list_name=checklist_name)\n",
    "\n",
    "df.to_csv(os.path.join(\"../species_checklists/\",\n",
    "                    checklist_name+\"-preprocessed.csv\"),\n",
    "        index=False)"
   ]
  },
  {
   "cell_type": "markdown",
   "metadata": {
    "tags": []
   },
   "source": [
    "## Anguilla\n",
    "\n",
    "List provided by David Roy on 21/5/24.\n",
    "Updated list on 24/10/24"
   ]
  },
  {
   "cell_type": "code",
   "execution_count": 4,
   "metadata": {},
   "outputs": [
    {
     "data": {
      "text/html": [
       "<div>\n",
       "<style scoped>\n",
       "    .dataframe tbody tr th:only-of-type {\n",
       "        vertical-align: middle;\n",
       "    }\n",
       "\n",
       "    .dataframe tbody tr th {\n",
       "        vertical-align: top;\n",
       "    }\n",
       "\n",
       "    .dataframe thead th {\n",
       "        text-align: right;\n",
       "    }\n",
       "</style>\n",
       "<table border=\"1\" class=\"dataframe\">\n",
       "  <thead>\n",
       "    <tr style=\"text-align: right;\">\n",
       "      <th></th>\n",
       "      <th>ï»¿Superfamily</th>\n",
       "      <th>Family</th>\n",
       "      <th>Subfamily</th>\n",
       "      <th>Species</th>\n",
       "      <th>GBIF accepted name</th>\n",
       "      <th>Authority (GBIF)</th>\n",
       "      <th>Common name</th>\n",
       "      <th>Comments</th>\n",
       "    </tr>\n",
       "  </thead>\n",
       "  <tbody>\n",
       "    <tr>\n",
       "      <th>0</th>\n",
       "      <td>Bombycoidea</td>\n",
       "      <td>Sphingidae</td>\n",
       "      <td>Magroglossinae</td>\n",
       "      <td>Aellopos tantalus</td>\n",
       "      <td>Aellopos tantalus</td>\n",
       "      <td>Linnaeus, 1758</td>\n",
       "      <td>Tantalus Sphinx</td>\n",
       "      <td>NaN</td>\n",
       "    </tr>\n",
       "    <tr>\n",
       "      <th>1</th>\n",
       "      <td>Bombycoidea</td>\n",
       "      <td>Sphingidae</td>\n",
       "      <td>Magroglossinae</td>\n",
       "      <td>Enyo lugubris</td>\n",
       "      <td>Enyo lugubris</td>\n",
       "      <td>Linnaeus, 1771</td>\n",
       "      <td>Mournful Sphinx</td>\n",
       "      <td>NaN</td>\n",
       "    </tr>\n",
       "    <tr>\n",
       "      <th>2</th>\n",
       "      <td>Bombycoidea</td>\n",
       "      <td>Sphingidae</td>\n",
       "      <td>Magroglossinae</td>\n",
       "      <td>Erinnyis ello</td>\n",
       "      <td>Erinnyis ello</td>\n",
       "      <td>Linnaeus, 1758</td>\n",
       "      <td>Ello Sphinx</td>\n",
       "      <td>NaN</td>\n",
       "    </tr>\n",
       "    <tr>\n",
       "      <th>3</th>\n",
       "      <td>Bombycoidea</td>\n",
       "      <td>Sphingidae</td>\n",
       "      <td>Magroglossinae</td>\n",
       "      <td>Hyles lineata</td>\n",
       "      <td>Hyles lineata</td>\n",
       "      <td>Fabricius, 1775</td>\n",
       "      <td>White-lined Sphinx</td>\n",
       "      <td>NaN</td>\n",
       "    </tr>\n",
       "    <tr>\n",
       "      <th>4</th>\n",
       "      <td>Bombycoidea</td>\n",
       "      <td>Sphingidae</td>\n",
       "      <td>Magroglossinae</td>\n",
       "      <td>Pseudosphinx tetrio</td>\n",
       "      <td>Pseudosphinx tetrio</td>\n",
       "      <td>Linnaeus, 1771</td>\n",
       "      <td>Tetrio sphinx, Frangipani Sphinx</td>\n",
       "      <td>NaN</td>\n",
       "    </tr>\n",
       "  </tbody>\n",
       "</table>\n",
       "</div>"
      ],
      "text/plain": [
       "  ï»¿Superfamily      Family       Subfamily              Species  \\\n",
       "0    Bombycoidea  Sphingidae  Magroglossinae    Aellopos tantalus   \n",
       "1    Bombycoidea  Sphingidae  Magroglossinae        Enyo lugubris   \n",
       "2    Bombycoidea  Sphingidae  Magroglossinae        Erinnyis ello   \n",
       "3    Bombycoidea  Sphingidae  Magroglossinae        Hyles lineata   \n",
       "4    Bombycoidea  Sphingidae  Magroglossinae  Pseudosphinx tetrio   \n",
       "\n",
       "    GBIF accepted name Authority (GBIF)                       Common name  \\\n",
       "0    Aellopos tantalus   Linnaeus, 1758                   Tantalus Sphinx   \n",
       "1        Enyo lugubris   Linnaeus, 1771                   Mournful Sphinx   \n",
       "2        Erinnyis ello   Linnaeus, 1758                       Ello Sphinx   \n",
       "3        Hyles lineata  Fabricius, 1775                White-lined Sphinx   \n",
       "4  Pseudosphinx tetrio   Linnaeus, 1771  Tetrio sphinx, Frangipani Sphinx   \n",
       "\n",
       "  Comments  \n",
       "0      NaN  \n",
       "1      NaN  \n",
       "2      NaN  \n",
       "3      NaN  \n",
       "4      NaN  "
      ]
     },
     "execution_count": 4,
     "metadata": {},
     "output_type": "execute_result"
    }
   ],
   "source": [
    "# Read the species checklist\n",
    "checklist_name = \"anguilla-moths\"\n",
    "\n",
    "df = pd.read_csv(os.path.join(\"../species_checklists\",\n",
    "                            checklist_name+\".csv\"),\n",
    "                sep=',', encoding='latin-1')\n",
    "\n",
    "df.head()"
   ]
  },
  {
   "cell_type": "code",
   "execution_count": 5,
   "metadata": {},
   "outputs": [
    {
     "data": {
      "text/html": [
       "<div>\n",
       "<style scoped>\n",
       "    .dataframe tbody tr th:only-of-type {\n",
       "        vertical-align: middle;\n",
       "    }\n",
       "\n",
       "    .dataframe tbody tr th {\n",
       "        vertical-align: top;\n",
       "    }\n",
       "\n",
       "    .dataframe thead th {\n",
       "        text-align: right;\n",
       "    }\n",
       "</style>\n",
       "<table border=\"1\" class=\"dataframe\">\n",
       "  <thead>\n",
       "    <tr style=\"text-align: right;\">\n",
       "      <th></th>\n",
       "      <th>Species</th>\n",
       "      <th>Genus</th>\n",
       "      <th>Family</th>\n",
       "      <th>Subfamily</th>\n",
       "      <th>GBIF accepted name</th>\n",
       "      <th>species_name_provided</th>\n",
       "      <th>authority_name_provided</th>\n",
       "    </tr>\n",
       "  </thead>\n",
       "  <tbody>\n",
       "    <tr>\n",
       "      <th>0</th>\n",
       "      <td>Acrolophus walsinghami</td>\n",
       "      <td></td>\n",
       "      <td></td>\n",
       "      <td></td>\n",
       "      <td></td>\n",
       "      <td>Acrolophus walsinghami</td>\n",
       "      <td></td>\n",
       "    </tr>\n",
       "    <tr>\n",
       "      <th>1</th>\n",
       "      <td>Aellopos tantalus</td>\n",
       "      <td></td>\n",
       "      <td></td>\n",
       "      <td></td>\n",
       "      <td></td>\n",
       "      <td>Aellopos tantalus</td>\n",
       "      <td></td>\n",
       "    </tr>\n",
       "    <tr>\n",
       "      <th>2</th>\n",
       "      <td>Agrius cingulatus</td>\n",
       "      <td></td>\n",
       "      <td></td>\n",
       "      <td></td>\n",
       "      <td></td>\n",
       "      <td>Agrius cingulatus</td>\n",
       "      <td></td>\n",
       "    </tr>\n",
       "    <tr>\n",
       "      <th>3</th>\n",
       "      <td>Amyna stricta</td>\n",
       "      <td></td>\n",
       "      <td></td>\n",
       "      <td></td>\n",
       "      <td></td>\n",
       "      <td>Amyna stricta</td>\n",
       "      <td></td>\n",
       "    </tr>\n",
       "    <tr>\n",
       "      <th>4</th>\n",
       "      <td>Anicla inflecta</td>\n",
       "      <td></td>\n",
       "      <td></td>\n",
       "      <td></td>\n",
       "      <td></td>\n",
       "      <td>Anicla inflecta</td>\n",
       "      <td></td>\n",
       "    </tr>\n",
       "  </tbody>\n",
       "</table>\n",
       "</div>"
      ],
      "text/plain": [
       "                  Species Genus Family Subfamily GBIF accepted name  \\\n",
       "0  Acrolophus walsinghami                                             \n",
       "1       Aellopos tantalus                                             \n",
       "2       Agrius cingulatus                                             \n",
       "3           Amyna stricta                                             \n",
       "4         Anicla inflecta                                             \n",
       "\n",
       "     species_name_provided authority_name_provided  \n",
       "0   Acrolophus walsinghami                          \n",
       "1        Aellopos tantalus                          \n",
       "2        Agrius cingulatus                          \n",
       "3            Amyna stricta                          \n",
       "4          Anicla inflecta                          "
      ]
     },
     "execution_count": 5,
     "metadata": {},
     "output_type": "execute_result"
    }
   ],
   "source": [
    "df_update = pd.read_csv(os.path.join(\"../species_checklists\",\n",
    "                            checklist_name+\"_update.csv\"),\n",
    "                sep=',', encoding='latin-1')\n",
    "\n",
    "df_update[\"Genus\"] = \"\"\n",
    "df_update[\"Family\"] = \"\"\n",
    "df_update[\"Subfamily\"] = \"\"\n",
    "df_update[\"GBIF accepted name\"] = \"\"\n",
    "\n",
    "df_update[\"species_name_provided\"] = df_update[\"Genus\"].fillna('') + \" \" + df_update[\"Species\"].fillna('')\n",
    "df_update[\"authority_name_provided\"] = \"\"\n",
    "\n",
    "df_update.head()"
   ]
  },
  {
   "cell_type": "code",
   "execution_count": 6,
   "metadata": {},
   "outputs": [
    {
     "data": {
      "text/html": [
       "<div>\n",
       "<style scoped>\n",
       "    .dataframe tbody tr th:only-of-type {\n",
       "        vertical-align: middle;\n",
       "    }\n",
       "\n",
       "    .dataframe tbody tr th {\n",
       "        vertical-align: top;\n",
       "    }\n",
       "\n",
       "    .dataframe thead th {\n",
       "        text-align: right;\n",
       "    }\n",
       "</style>\n",
       "<table border=\"1\" class=\"dataframe\">\n",
       "  <thead>\n",
       "    <tr style=\"text-align: right;\">\n",
       "      <th></th>\n",
       "      <th>Family</th>\n",
       "      <th>Subfamily</th>\n",
       "      <th>Species</th>\n",
       "      <th>Genus</th>\n",
       "      <th>GBIF accepted name</th>\n",
       "      <th>species_name_provided</th>\n",
       "      <th>authority_name_provided</th>\n",
       "    </tr>\n",
       "  </thead>\n",
       "  <tbody>\n",
       "    <tr>\n",
       "      <th>0</th>\n",
       "      <td>Sphingidae</td>\n",
       "      <td>Magroglossinae</td>\n",
       "      <td>Aellopos tantalus</td>\n",
       "      <td></td>\n",
       "      <td>Aellopos tantalus</td>\n",
       "      <td>Aellopos tantalus</td>\n",
       "      <td></td>\n",
       "    </tr>\n",
       "    <tr>\n",
       "      <th>1</th>\n",
       "      <td>Sphingidae</td>\n",
       "      <td>Magroglossinae</td>\n",
       "      <td>Enyo lugubris</td>\n",
       "      <td></td>\n",
       "      <td>Enyo lugubris</td>\n",
       "      <td>Enyo lugubris</td>\n",
       "      <td></td>\n",
       "    </tr>\n",
       "    <tr>\n",
       "      <th>2</th>\n",
       "      <td>Sphingidae</td>\n",
       "      <td>Magroglossinae</td>\n",
       "      <td>Erinnyis ello</td>\n",
       "      <td></td>\n",
       "      <td>Erinnyis ello</td>\n",
       "      <td>Erinnyis ello</td>\n",
       "      <td></td>\n",
       "    </tr>\n",
       "    <tr>\n",
       "      <th>3</th>\n",
       "      <td>Sphingidae</td>\n",
       "      <td>Magroglossinae</td>\n",
       "      <td>Hyles lineata</td>\n",
       "      <td></td>\n",
       "      <td>Hyles lineata</td>\n",
       "      <td>Hyles lineata</td>\n",
       "      <td></td>\n",
       "    </tr>\n",
       "    <tr>\n",
       "      <th>4</th>\n",
       "      <td>Sphingidae</td>\n",
       "      <td>Magroglossinae</td>\n",
       "      <td>Pseudosphinx tetrio</td>\n",
       "      <td></td>\n",
       "      <td>Pseudosphinx tetrio</td>\n",
       "      <td>Pseudosphinx tetrio</td>\n",
       "      <td></td>\n",
       "    </tr>\n",
       "  </tbody>\n",
       "</table>\n",
       "</div>"
      ],
      "text/plain": [
       "       Family       Subfamily              Species Genus   GBIF accepted name  \\\n",
       "0  Sphingidae  Magroglossinae    Aellopos tantalus          Aellopos tantalus   \n",
       "1  Sphingidae  Magroglossinae        Enyo lugubris              Enyo lugubris   \n",
       "2  Sphingidae  Magroglossinae        Erinnyis ello              Erinnyis ello   \n",
       "3  Sphingidae  Magroglossinae        Hyles lineata              Hyles lineata   \n",
       "4  Sphingidae  Magroglossinae  Pseudosphinx tetrio        Pseudosphinx tetrio   \n",
       "\n",
       "  species_name_provided authority_name_provided  \n",
       "0     Aellopos tantalus                          \n",
       "1         Enyo lugubris                          \n",
       "2         Erinnyis ello                          \n",
       "3         Hyles lineata                          \n",
       "4   Pseudosphinx tetrio                          "
      ]
     },
     "execution_count": 6,
     "metadata": {},
     "output_type": "execute_result"
    }
   ],
   "source": [
    "df[\"Genus\"] = \"\"\n",
    "\n",
    "# Combine costa rica column names\n",
    "df[\"species_name_provided\"] = df[\"Genus\"].fillna('') + \" \" + df[\"Species\"].fillna('')\n",
    "df[\"authority_name_provided\"] = \"\"\n",
    "\n",
    "df = df[['Family', 'Subfamily', 'Species', 'Genus', 'GBIF accepted name', 'species_name_provided', 'authority_name_provided']]\n",
    "df.head()"
   ]
  },
  {
   "cell_type": "code",
   "execution_count": 7,
   "metadata": {},
   "outputs": [
    {
     "data": {
      "text/html": [
       "<div>\n",
       "<style scoped>\n",
       "    .dataframe tbody tr th:only-of-type {\n",
       "        vertical-align: middle;\n",
       "    }\n",
       "\n",
       "    .dataframe tbody tr th {\n",
       "        vertical-align: top;\n",
       "    }\n",
       "\n",
       "    .dataframe thead th {\n",
       "        text-align: right;\n",
       "    }\n",
       "</style>\n",
       "<table border=\"1\" class=\"dataframe\">\n",
       "  <thead>\n",
       "    <tr style=\"text-align: right;\">\n",
       "      <th></th>\n",
       "      <th>Family</th>\n",
       "      <th>Subfamily</th>\n",
       "      <th>Species</th>\n",
       "      <th>Genus</th>\n",
       "      <th>GBIF accepted name</th>\n",
       "      <th>species_name_provided</th>\n",
       "      <th>authority_name_provided</th>\n",
       "    </tr>\n",
       "  </thead>\n",
       "  <tbody>\n",
       "    <tr>\n",
       "      <th>0</th>\n",
       "      <td>Sphingidae</td>\n",
       "      <td>Magroglossinae</td>\n",
       "      <td>Aellopos tantalus</td>\n",
       "      <td></td>\n",
       "      <td>Aellopos tantalus</td>\n",
       "      <td>Aellopos tantalus</td>\n",
       "      <td></td>\n",
       "    </tr>\n",
       "    <tr>\n",
       "      <th>1</th>\n",
       "      <td>Sphingidae</td>\n",
       "      <td>Magroglossinae</td>\n",
       "      <td>Enyo lugubris</td>\n",
       "      <td></td>\n",
       "      <td>Enyo lugubris</td>\n",
       "      <td>Enyo lugubris</td>\n",
       "      <td></td>\n",
       "    </tr>\n",
       "    <tr>\n",
       "      <th>2</th>\n",
       "      <td>Sphingidae</td>\n",
       "      <td>Magroglossinae</td>\n",
       "      <td>Erinnyis ello</td>\n",
       "      <td></td>\n",
       "      <td>Erinnyis ello</td>\n",
       "      <td>Erinnyis ello</td>\n",
       "      <td></td>\n",
       "    </tr>\n",
       "    <tr>\n",
       "      <th>3</th>\n",
       "      <td>Sphingidae</td>\n",
       "      <td>Magroglossinae</td>\n",
       "      <td>Hyles lineata</td>\n",
       "      <td></td>\n",
       "      <td>Hyles lineata</td>\n",
       "      <td>Hyles lineata</td>\n",
       "      <td></td>\n",
       "    </tr>\n",
       "    <tr>\n",
       "      <th>4</th>\n",
       "      <td>Sphingidae</td>\n",
       "      <td>Magroglossinae</td>\n",
       "      <td>Pseudosphinx tetrio</td>\n",
       "      <td></td>\n",
       "      <td>Pseudosphinx tetrio</td>\n",
       "      <td>Pseudosphinx tetrio</td>\n",
       "      <td></td>\n",
       "    </tr>\n",
       "  </tbody>\n",
       "</table>\n",
       "</div>"
      ],
      "text/plain": [
       "       Family       Subfamily              Species Genus   GBIF accepted name  \\\n",
       "0  Sphingidae  Magroglossinae    Aellopos tantalus          Aellopos tantalus   \n",
       "1  Sphingidae  Magroglossinae        Enyo lugubris              Enyo lugubris   \n",
       "2  Sphingidae  Magroglossinae        Erinnyis ello              Erinnyis ello   \n",
       "3  Sphingidae  Magroglossinae        Hyles lineata              Hyles lineata   \n",
       "4  Sphingidae  Magroglossinae  Pseudosphinx tetrio        Pseudosphinx tetrio   \n",
       "\n",
       "  species_name_provided authority_name_provided  \n",
       "0     Aellopos tantalus                          \n",
       "1         Enyo lugubris                          \n",
       "2         Erinnyis ello                          \n",
       "3         Hyles lineata                          \n",
       "4   Pseudosphinx tetrio                          "
      ]
     },
     "execution_count": 7,
     "metadata": {},
     "output_type": "execute_result"
    }
   ],
   "source": [
    "# combine two lists\n",
    "df_combined = pd.concat([df, df_update[list(df.columns)]])\n",
    "\n",
    "df_combined.loc[df_combined['species_name_provided'].str.contains('sp\\\\.'), 'species_name_provided'] = df_combined.loc[df_combined['species_name_provided'].str.contains('sp\\\\.'), 'species_name_provided'].str.replace(' sp.', '')\n",
    "\n",
    "\n",
    "df_combined.head()"
   ]
  },
  {
   "cell_type": "code",
   "execution_count": 8,
   "metadata": {},
   "outputs": [
    {
     "name": "stdout",
     "output_type": "stream",
     "text": [
      "(277, 7)\n",
      "(188, 7)\n"
     ]
    }
   ],
   "source": [
    "print(df_combined.shape)\n",
    "\n",
    "df_combined = df_combined.drop_duplicates(subset='Species', keep=\"first\")\n",
    "print(df_combined.shape)"
   ]
  },
  {
   "cell_type": "code",
   "execution_count": 9,
   "metadata": {},
   "outputs": [],
   "source": [
    "df_combined.to_csv(os.path.join(\"../species_checklists/\", \n",
    "                       checklist_name+\"-preprocessed.csv\"),\n",
    "          index=False)"
   ]
  },
  {
   "cell_type": "code",
   "execution_count": null,
   "metadata": {},
   "outputs": [],
   "source": []
  }
 ],
 "metadata": {
  "kernelspec": {
   "display_name": "kg_conda_env2 (Conda)",
   "language": "python",
   "name": "sys_kg_conda_env2"
  },
  "language_info": {
   "codemirror_mode": {
    "name": "ipython",
    "version": 3
   },
   "file_extension": ".py",
   "mimetype": "text/x-python",
   "name": "python",
   "nbconvert_exporter": "python",
   "pygments_lexer": "ipython3",
   "version": "3.9.17"
  }
 },
 "nbformat": 4,
 "nbformat_minor": 4
}
