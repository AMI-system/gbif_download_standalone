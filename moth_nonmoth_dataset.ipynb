{
 "cells": [
  {
   "cell_type": "code",
   "execution_count": null,
   "id": "97b6ba37-2bd1-4c1b-b598-124669353a9c",
   "metadata": {},
   "outputs": [],
   "source": [
    "import taxon_keys"
   ]
  },
  {
   "cell_type": "code",
   "execution_count": null,
   "id": "2214e23e-eb53-4b35-a8cd-2fd59a3e88b5",
   "metadata": {},
   "outputs": [],
   "source": [
    "non_moth_species_path = '/bask/homes/f/fspo1218/amber/projects/on_device_classifier/01_data_download/species_lists/moth_trap_non-moths_21-08-2023.csv'\n",
    "moth_species_path = '/bask/homes/f/fspo1218/amber/projects/on_device_classifier/01_data_download/species_lists/uksi-macro-moths.csv'\n",
    "\n",
    "non_moth_output_path = '/bask/homes/f/fspo1218/amber/projects/gbif_download_standalone/output_data/keys/non-moth_data.csv'\n",
    "moth_output_path = '/bask/homes/f/fspo1218/amber/projects/gbif_download_standalone/output_data/keys/moth_data.csv'\n",
    "\n",
    "column_name = 'taxon'"
   ]
  },
  {
   "cell_type": "code",
   "execution_count": null,
   "id": "a7d63717-bbd4-4559-9387-7da5bd8c8b96",
   "metadata": {},
   "outputs": [],
   "source": [
    "import pandas as pd\n",
    "\n",
    "moth_df = pd.read_csv(moth_species_path)\n",
    "\n",
    "moth_df.head()"
   ]
  },
  {
   "cell_type": "code",
   "execution_count": null,
   "id": "26f3a676-32eb-4a09-9120-caf6a6b4445b",
   "metadata": {},
   "outputs": [],
   "source": [
    "non_moth_df = pd.read_csv(non_moth_species_path)\n",
    "non_moth_df.rename(columns={ non_moth_df.columns[0]: \"taxon\" }, inplace = True)\n",
    "\n",
    "non_moth_df.head()"
   ]
  },
  {
   "cell_type": "code",
   "execution_count": null,
   "id": "37c98758-771b-43fb-9e50-5b2e07e2546b",
   "metadata": {},
   "outputs": [],
   "source": [
    "def process_species_list(data, column_name, output_path):\n",
    "    # fetch species names from the list\n",
    "    #data = pd.read_csv(file_path, index_col=False)\n",
    "    species_list = []\n",
    "    for indx in data.index:\n",
    "        species_list.append(data[column_name][indx])\n",
    "\n",
    "    data_final = pd.DataFrame(\n",
    "        columns=[\n",
    "            \"taxon_key_gbif_id\",\n",
    "            \"order_name\",\n",
    "            \"family_name\",\n",
    "            \"genus_name\",\n",
    "            \"search_species_name\",\n",
    "            \"gbif_species_name\",\n",
    "            \"confidence\",\n",
    "            \"status\",\n",
    "            \"match_type\",\n",
    "        ],\n",
    "        dtype=object,\n",
    "    )\n",
    "\n",
    "    # fetch taxonomy data from GBIF\n",
    "    for name in species_list:\n",
    "        data = taxon_keys.get_gbif_key_backbone(name)\n",
    "        data_final = pd.concat([data_final, data], ignore_index=True)\n",
    "\n",
    "    # save the file\n",
    "    data_final.to_csv(output_path, index=False)"
   ]
  },
  {
   "cell_type": "code",
   "execution_count": null,
   "id": "bdefe074-cb17-4add-bfd7-475a299a297f",
   "metadata": {},
   "outputs": [],
   "source": [
    "# moth\n",
    "#process_species_list(moth_df, 'taxon', moth_output_path)"
   ]
  },
  {
   "cell_type": "code",
   "execution_count": null,
   "id": "50a28792-fca2-42f1-97eb-ebaf9c07a870",
   "metadata": {},
   "outputs": [],
   "source": [
    "# non moth \n",
    "#process_species_list(non_moth_df, 'taxon', non_moth_output_path)"
   ]
  },
  {
   "cell_type": "code",
   "execution_count": null,
   "id": "0b68a420-6eed-425e-9111-2e80e4b6bcf2",
   "metadata": {},
   "outputs": [],
   "source": [
    "non_moth_output_path"
   ]
  },
  {
   "cell_type": "code",
   "execution_count": null,
   "id": "53c8a6d0-1c04-44cb-b61f-6f777f48fdff",
   "metadata": {},
   "outputs": [],
   "source": [
    "import fetch_gbif"
   ]
  },
  {
   "cell_type": "code",
   "execution_count": null,
   "id": "27175473-5fed-4d58-b24a-b6d5fe76a4ab",
   "metadata": {},
   "outputs": [],
   "source": [
    "write_directory = '/bask/homes/f/fspo1218/amber/data/binary_moth_training/nonmoth/'\n",
    "species_key_filepath = non_moth_output_path\n",
    "max_images_per_species = 500\n",
    "resume_session= True\n",
    "\n",
    "LIMIT_DOWN = 300  # GBIF API parameter for max results per page\n",
    "MAX_SEARCHES = 11000  # maximum no. of points to iterate\n",
    "moth_data = pd.read_csv(species_key_filepath)\n",
    "\n",
    "moth_data.head()\n",
    "\n",
    "limit_down=300\n",
    "max_searches = 11000"
   ]
  },
  {
   "cell_type": "code",
   "execution_count": null,
   "id": "4b51f420-4486-4379-b78e-305b22002dd7",
   "metadata": {},
   "outputs": [],
   "source": [
    "moth_data.head()"
   ]
  },
  {
   "cell_type": "code",
   "execution_count": null,
   "id": "b3a4e0fc-e1d8-4ffc-a794-8b5535f37169",
   "metadata": {},
   "outputs": [],
   "source": [
    "import pandas as pd\n",
    "\n",
    "MAX_DATA_SP = 500\n",
    "\n",
    "fetch_gbif.get_gbif_images(moth_data, True, '/bask/homes/f/fspo1218/amber/data/binary_moth_training/nonmoth/', max_images_per_species, limit_down, max_searches)"
   ]
  },
  {
   "cell_type": "code",
   "execution_count": null,
   "id": "b13fccf8-8083-4c5d-835d-4d821ef3af25",
   "metadata": {},
   "outputs": [],
   "source": []
  }
 ],
 "metadata": {
  "kernelspec": {
   "display_name": "Python",
   "language": "python",
   "name": "sys_python"
  },
  "language_info": {
   "codemirror_mode": {
    "name": "ipython",
    "version": 3
   },
   "file_extension": ".py",
   "mimetype": "text/x-python",
   "name": "python",
   "nbconvert_exporter": "python",
   "pygments_lexer": "ipython3",
   "version": "3.9.5"
  }
 },
 "nbformat": 4,
 "nbformat_minor": 5
}
