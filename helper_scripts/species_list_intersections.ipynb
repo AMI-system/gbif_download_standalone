{
 "cells": [
  {
   "cell_type": "markdown",
   "id": "f3d829a5-152e-44a2-a39b-12a41315d1b2",
   "metadata": {},
   "source": [
    "# Species List Intersections\n",
    "\n",
    "Provide venn diagrams showing the overlap between different species lists"
   ]
  },
  {
   "cell_type": "code",
   "execution_count": null,
   "id": "407b76de-de5e-4b01-a2f1-1681367f4c76",
   "metadata": {},
   "outputs": [],
   "source": [
    "import pandas as pd\n",
    "import matplotlib_venn\n",
    "import matplotlib.pyplot as plt"
   ]
  },
  {
   "cell_type": "code",
   "execution_count": null,
   "id": "79d3ba32-1ad6-493a-8896-b30ad4adf596",
   "metadata": {},
   "outputs": [],
   "source": [
    "df1 = pd.read_csv('/bask/homes/f/fspo1218/amber/projects/gbif_download_standalone/species_checklists/singapore-moths-keys-nodup.csv')\n",
    "df2 = pd.read_csv('/bask/homes/f/fspo1218/amber/projects/gbif_download_standalone/species_checklists/costarica-moths-keys-nodup.csv')\n",
    "df3 = pd.read_csv('/bask/homes/f/fspo1218/amber/projects/gbif_download_standalone/species_checklists/uksi-moths-keys-nodup.csv')\n",
    "df4 = pd.read_csv('/bask/homes/f/fspo1218/amber/projects/gbif_download_standalone/species_checklists/uksi-macro-moths-keys-nodup.csv')"
   ]
  },
  {
   "cell_type": "code",
   "execution_count": null,
   "id": "f999e467-c419-489c-a41c-cba483be92de",
   "metadata": {},
   "outputs": [],
   "source": [
    "df4 = df4.apply(lambda x: x.str.strip() if x.dtype == \"object\" else x)\n",
    "\n",
    "df4.head()"
   ]
  },
  {
   "cell_type": "code",
   "execution_count": null,
   "id": "28c4250c-5d7e-483c-83e0-1f06c976425d",
   "metadata": {},
   "outputs": [],
   "source": [
    "df1.shape"
   ]
  },
  {
   "cell_type": "code",
   "execution_count": null,
   "id": "91df797c-0b68-47c5-948b-a660a8ea1d68",
   "metadata": {},
   "outputs": [],
   "source": [
    "from venny4py.venny4py import *"
   ]
  },
  {
   "cell_type": "code",
   "execution_count": null,
   "id": "fdcd72c8-73c5-4e4f-80e4-b52cb88244e4",
   "metadata": {},
   "outputs": [],
   "source": [
    "df4.shape"
   ]
  },
  {
   "cell_type": "code",
   "execution_count": null,
   "id": "d4d4b62f-b0dc-4e9a-b1e1-0672db2ab851",
   "metadata": {},
   "outputs": [],
   "source": [
    "sets = {\n",
    "    'Singapore': set(df1['gbif_species_name']),\n",
    "    'Costa Rica': set(df2['gbif_species_name']),\n",
    "    'UK': set(df3['gbif_species_name']),\n",
    "    #'UK macro': set(df4['gbif_species_name'])\n",
    "    }"
   ]
  },
  {
   "cell_type": "code",
   "execution_count": null,
   "id": "7d3fa058",
   "metadata": {},
   "outputs": [],
   "source": [
    "from itertools import combinations\n",
    "import matplotlib.pyplot as plt\n",
    "import matplotlib.patches as mpatches\n",
    "from matplotlib.patches import Ellipse\n",
    "\n",
    "#plot Venn: need to intercept to pass in label colour and transparency\n",
    "def venny4py2(sets={}, out='./', asax=False, ext='png', dpi=300, size=3.5, label_color='black'):\n",
    "    shared = get_shared(sets)\n",
    "    unique = get_unique(shared)\n",
    "    ce = 'bgrc' #colors\n",
    "    lw = size*.12 #line width\n",
    "    fs = size*2 #font size\n",
    "    nc = 2 #legend cols\n",
    "    cs = 4 #columnspacing\n",
    "\n",
    "    with open(f'{out}/Intersections_{len(sets)}.txt', 'w') as f:\n",
    "        for k, v in unique.items():\n",
    "            f.write(f'{k}: {len(v)}, {sorted(list(v))}\\n')\n",
    "\n",
    "    if asax == False:\n",
    "        plt.rcParams['figure.dpi'] = 200 #dpi in notebook\n",
    "        plt.rcParams['savefig.dpi'] = dpi #dpi in saved figure\n",
    "        fig, ax = plt.subplots(1, 1, figsize=(size, size))\n",
    "\n",
    "    else:\n",
    "        ax = asax\n",
    "\n",
    "    ax.set_xlim(0, 100)\n",
    "    ax.set_ylim(0, 100)\n",
    "    ax.axis('off')\n",
    "\n",
    "    #4 sets\n",
    "    if len(sets) == 4:\n",
    "        #draw ellipses\n",
    "        ew = 45 #width\n",
    "        eh = 75 #height\n",
    "        xe = [35, 48, 52, 65] #x coordinats\n",
    "        ye = [35, 45, 45, 35] #y coordinats\n",
    "        ae = [225, 225, 315, 315] #angles\n",
    "\n",
    "        for i, s in enumerate(sets):\n",
    "            ax.add_artist(Ellipse(xy=(xe[i], ye[i]), width=ew, height=eh, fc=ce[i],\n",
    "                                  angle=ae[i], alpha=.3))\n",
    "            ax.add_artist(Ellipse(xy=(xe[i], ye[i]), width=ew, height=eh, fc='None',\n",
    "                                  angle=ae[i], ec='black', lw=lw))\n",
    "\n",
    "        #annotate\n",
    "        xt = [12, 32, 68, 88, 14, 34, 66, 86, 26, 28, 50, 50, 72, 74, 37, 60, 40, 63, 50] #x\n",
    "        yt = [67, 79, 79, 67, 41, 70, 70, 41, 59, 26, 11, 60, 26, 59, 51, 17, 17, 51, 35] #y\n",
    "\n",
    "        for j, s in enumerate(sets):\n",
    "            ax.text(xt[j], yt[j], len(sets[s]), ha='center', va='center', fontsize=fs,\n",
    "                    color=label_color, transform=ax.transData)\n",
    "\n",
    "        for k in unique:\n",
    "            j += 1\n",
    "            ax.text(xt[j], yt[j], len(unique[k]), ha='center', va='center', fontsize=fs,\n",
    "                    color=label_color, transform=ax.transData)\n",
    "\n",
    "    #3 sets\n",
    "    if len(sets) == 3:\n",
    "        #draw circles\n",
    "        ew = 60 #width\n",
    "        eh = 60 #height\n",
    "        lw = size*.12 #line width\n",
    "        xe = [37, 63, 50] #x coordinats\n",
    "        ye = [55, 55, 32] #y coordinats\n",
    "        nc = 3 #legend columns\n",
    "        cs = 1 #columns spacing\n",
    "\n",
    "        for i, s in enumerate(sets):\n",
    "            ax.add_artist(Ellipse(xy=(xe[i], ye[i]), width=ew, height=eh, fc=ce[i],\n",
    "                                  angle=0, alpha=.3))\n",
    "            ax.add_artist(Ellipse(xy=(xe[i], ye[i]), width=ew, height=eh, fc='None',\n",
    "                                  angle=0, ec='black', lw=lw))\n",
    "\n",
    "        #annotate\n",
    "        xt = [12, 88, 28, 22, 78, 50, 50, 30, 70, 50] #x\n",
    "        yt = [80, 80,  3, 60, 60, 17, 70, 35, 35, 50] #y\n",
    "\n",
    "\n",
    "        for j, s in enumerate(sets):\n",
    "            ax.text(xt[j], yt[j], len(sets[s]), ha='center', va='center',\n",
    "                    fontsize=fs, color=label_color,\n",
    "                    transform=ax.transData)\n",
    "\n",
    "        for k in unique:\n",
    "            j += 1\n",
    "            ax.text(xt[j], yt[j], len(unique[k]), ha='center', va='center',\n",
    "                    fontsize=fs, color=label_color,\n",
    "                    transform=ax.transData)\n",
    "\n",
    "    #2 sets\n",
    "    if len(sets) == 2:\n",
    "        #draw circles\n",
    "        ew = 70 #width\n",
    "        eh = 70 #height\n",
    "        lw = size*.12 #line width\n",
    "        xe = [37, 63] #x coordinats\n",
    "        ye = [45, 45] #y coordinats\n",
    "\n",
    "        for i, s in enumerate(sets):\n",
    "            ax.add_artist(Ellipse(xy=(xe[i], ye[i]), width=ew, height=eh, fc=ce[i],\n",
    "                                  angle=0, alpha=.3))\n",
    "            ax.add_artist(Ellipse(xy=(xe[i], ye[i]), width=ew, height=eh, fc='None',\n",
    "                                  angle=0, ec='black', lw=lw))\n",
    "\n",
    "        #annotate\n",
    "        xt = [20, 80, 18, 82, 50] #x\n",
    "        yt = [80, 80, 45, 45, 45] #y\n",
    "\n",
    "        for j, s in enumerate(sets):\n",
    "            ax.text(xt[j], yt[j], len(sets[s]), ha='center', va='center', fontsize=fs,\n",
    "                    color=label_color,transform=ax.transData)\n",
    "\n",
    "        for k in unique:\n",
    "            j += 1\n",
    "            ax.text(xt[j], yt[j], len(unique[k]), ha='center', va='center', fontsize=fs,\n",
    "                    color=label_color,transform=ax.transData)\n",
    "\n",
    "    #legend\n",
    "    handles = [mpatches.Patch(color=ce[i], label=l, alpha=.3) for i, l in enumerate(sets)]\n",
    "    ax.legend(labels=sets, handles=handles, fontsize=fs*1.1, frameon=False,\n",
    "              labelcolor='white',\n",
    "              bbox_to_anchor=(.5, .99), bbox_transform=ax.transAxes, loc=9,\n",
    "              handlelength=1.5, ncol=nc, columnspacing=cs, handletextpad=.5)\n",
    "    if asax == False:\n",
    "        print(f'Saving {out}/Venn_{len(sets)}.{ext}')\n",
    "        fig.savefig(f'{out}/Venn_{len(sets)}.{ext}',\n",
    "                    bbox_inches='tight', transparent=True\n",
    "                    )"
   ]
  },
  {
   "cell_type": "code",
   "execution_count": null,
   "id": "3050c466-0cab-46e8-ba96-8c16db2f5d8f",
   "metadata": {},
   "outputs": [],
   "source": [
    "# set matplotlib background as transparent\n",
    "\n",
    "# Define the labels for each set\n",
    "venny4py2(sets=sets, out=\"./plots\", label_color='white')"
   ]
  },
  {
   "cell_type": "code",
   "execution_count": null,
   "id": "33c65363-3869-420e-a0cb-76ecf0f77e2b",
   "metadata": {},
   "outputs": [],
   "source": [
    "sets['UK macro'] - sets['UK']"
   ]
  },
  {
   "cell_type": "markdown",
   "id": "9e856362",
   "metadata": {},
   "source": [
    "Which species are the ones common to all 3 regions (drop macro)?"
   ]
  },
  {
   "cell_type": "code",
   "execution_count": null,
   "id": "b85d8d22-17e6-4584-83b4-a2d828832213",
   "metadata": {},
   "outputs": [],
   "source": [
    "# sets common to UK, Costa Rica and Singapore\n",
    "common_species = list(sets['UK'] & sets['Costa Rica'] & sets['Singapore'])\n",
    "common_species"
   ]
  },
  {
   "cell_type": "code",
   "execution_count": null,
   "id": "59f7a443",
   "metadata": {},
   "outputs": [],
   "source": [
    "# list the images files within ~/amber/data/gbif_download_standalone/\n",
    "import os\n",
    "all_files = os.listdir('/bask/homes/f/fspo1218/amber/data/gbif_download_standalone/gbif_images')\n",
    "\n",
    "# list all files in the directory strucure\n",
    "all_files = [os.path.join(dp, f) for dp, dn, filenames in os.walk('/bask/homes/f/fspo1218/amber/data/gbif_download_standalone/gbif_images') for f in filenames]\n",
    "\n",
    "\n",
    "# filter the list of files to only include those that contain common species\n",
    "common_files = [f for f in all_files if any(x in f for x in common_species)]\n",
    "\n",
    "print(len(common_files))"
   ]
  },
  {
   "cell_type": "code",
   "execution_count": null,
   "id": "3073287d",
   "metadata": {},
   "outputs": [],
   "source": [
    "common_files[0:10]"
   ]
  },
  {
   "cell_type": "code",
   "execution_count": null,
   "id": "a6e9568d",
   "metadata": {},
   "outputs": [],
   "source": [
    "# print the image of the first file\n",
    "from IPython.display import Image\n",
    "Image(filename=common_files[0])"
   ]
  },
  {
   "cell_type": "code",
   "execution_count": null,
   "id": "e5e84ada",
   "metadata": {},
   "outputs": [],
   "source": [
    "# select 20 random images from common files\n",
    "import random\n",
    "random.seed(42)\n",
    "random_files = random.sample(common_files, 20)\n",
    "\n",
    "os.makedirs('/bask/homes/f/fspo1218/amber/projects/gbif_download_standalone/common_species/', exist_ok=True)\n",
    "\n",
    "# make a copy of the random files to the dir, save with the name of the species\n",
    "for f in random_files:\n",
    "    species = [x for x in common_species if x in f][0]\n",
    "    #print(species)\n",
    "\n",
    "    image_name = os.path.basename(f)\n",
    "    #print(image_name)\n",
    "\n",
    "    save_name = '/bask/homes/f/fspo1218/amber/projects/gbif_download_standalone/common_species/{}_{}'.format(species, image_name)\n",
    "\n",
    "    # replace whitespace with underscore\n",
    "    save_name = save_name.replace(' ', '_')\n",
    "    print(save_name)\n",
    "\n",
    "    # copy the file to the new location\n",
    "    shutil.copyfile(f, save_name)\n"
   ]
  },
  {
   "cell_type": "code",
   "execution_count": null,
   "id": "94312998",
   "metadata": {},
   "outputs": [],
   "source": [
    "# create a dir ~/amber/projects/gbif_download_standalone/common_species/\n",
    "\n",
    "\n",
    "# make a copy of the common files list to\n",
    "import shutil\n",
    "for f in common_files:\n",
    "    shutil.copy(f, '/bask/homes/f/fspo1218/amber/projects/gbif_download_standalone/common_species/')\n"
   ]
  }
 ],
 "metadata": {
  "kernelspec": {
   "display_name": "Python 3",
   "language": "python",
   "name": "python3"
  },
  "language_info": {
   "codemirror_mode": {
    "name": "ipython",
    "version": 3
   },
   "file_extension": ".py",
   "mimetype": "text/x-python",
   "name": "python",
   "nbconvert_exporter": "python",
   "pygments_lexer": "ipython3",
   "version": "3.9.17"
  }
 },
 "nbformat": 4,
 "nbformat_minor": 5
}
