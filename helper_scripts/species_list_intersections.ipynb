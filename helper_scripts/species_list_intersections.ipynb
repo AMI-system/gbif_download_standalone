{
 "cells": [
  {
   "cell_type": "markdown",
   "id": "f3d829a5-152e-44a2-a39b-12a41315d1b2",
   "metadata": {},
   "source": [
    "# Species List Intersections\n",
    "\n",
    "Provide venn diagrams showing the overlap between different species lists"
   ]
  },
  {
   "cell_type": "code",
   "execution_count": null,
   "id": "407b76de-de5e-4b01-a2f1-1681367f4c76",
   "metadata": {},
   "outputs": [],
   "source": [
    "import pandas as pd\n",
    "import matplotlib_venn\n",
    "import matplotlib.pyplot as plt"
   ]
  },
  {
   "cell_type": "code",
   "execution_count": null,
   "id": "79d3ba32-1ad6-493a-8896-b30ad4adf596",
   "metadata": {},
   "outputs": [],
   "source": [
    "df1 = pd.read_csv('/bask/homes/f/fspo1218/amber/projects/gbif_download_standalone/species_checklists/singapore-moths-keys.csv')\n",
    "df2 = pd.read_csv('/bask/homes/f/fspo1218/amber/projects/gbif_download_standalone/species_checklists/costarica-moths-keys.csv')\n",
    "df3 = pd.read_csv('/bask/homes/f/fspo1218/amber/projects/gbif_download_standalone/species_checklists/uksi-moths-keys.csv')\n",
    "df4 = pd.read_csv('/bask/homes/f/fspo1218/amber/projects/gbif_download_standalone/species_checklists/uksi-macro-moths-keys.csv')"
   ]
  },
  {
   "cell_type": "code",
   "execution_count": null,
   "id": "f999e467-c419-489c-a41c-cba483be92de",
   "metadata": {},
   "outputs": [],
   "source": [
    "df4 = df4.apply(lambda x: x.str.strip() if x.dtype == \"object\" else x)\n",
    "\n",
    "df4.head()"
   ]
  },
  {
   "cell_type": "code",
   "execution_count": null,
   "id": "28c4250c-5d7e-483c-83e0-1f06c976425d",
   "metadata": {},
   "outputs": [],
   "source": [
    "df1.shape"
   ]
  },
  {
   "cell_type": "code",
   "execution_count": null,
   "id": "91df797c-0b68-47c5-948b-a660a8ea1d68",
   "metadata": {},
   "outputs": [],
   "source": [
    "from venny4py.venny4py import *"
   ]
  },
  {
   "cell_type": "code",
   "execution_count": null,
   "id": "fdcd72c8-73c5-4e4f-80e4-b52cb88244e4",
   "metadata": {},
   "outputs": [],
   "source": [
    "df4.shape"
   ]
  },
  {
   "cell_type": "code",
   "execution_count": null,
   "id": "d4d4b62f-b0dc-4e9a-b1e1-0672db2ab851",
   "metadata": {},
   "outputs": [],
   "source": [
    "sets = {\n",
    "    'Singapore': set(df1['gbif_species_name']),\n",
    "    'Costa Rica': set(df2['gbif_species_name']),\n",
    "    'UK': set(df3['gbif_species_name']),\n",
    "    'UK macro': set(df4['gbif_species_name'])}"
   ]
  },
  {
   "cell_type": "code",
   "execution_count": null,
   "id": "3050c466-0cab-46e8-ba96-8c16db2f5d8f",
   "metadata": {},
   "outputs": [],
   "source": [
    "# Define the labels for each set\n",
    "venny4py(sets=sets)"
   ]
  },
  {
   "cell_type": "code",
   "execution_count": null,
   "id": "33c65363-3869-420e-a0cb-76ecf0f77e2b",
   "metadata": {},
   "outputs": [],
   "source": [
    "sets['UK macro'] - sets['UK']"
   ]
  },
  {
   "cell_type": "code",
   "execution_count": null,
   "id": "b85d8d22-17e6-4584-83b4-a2d828832213",
   "metadata": {},
   "outputs": [],
   "source": []
  }
 ],
 "metadata": {
  "kernelspec": {
   "display_name": "kg_conda_env2 (Conda)",
   "language": "python",
   "name": "sys_kg_conda_env2"
  },
  "language_info": {
   "codemirror_mode": {
    "name": "ipython",
    "version": 3
   },
   "file_extension": ".py",
   "mimetype": "text/x-python",
   "name": "python",
   "nbconvert_exporter": "python",
   "pygments_lexer": "ipython3",
   "version": "3.9.17"
  }
 },
 "nbformat": 4,
 "nbformat_minor": 5
}
