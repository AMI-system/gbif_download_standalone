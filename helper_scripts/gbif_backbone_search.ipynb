{
 "cells": [
  {
   "cell_type": "code",
   "execution_count": 2,
   "metadata": {},
   "outputs": [],
   "source": [
    "from pygbif import species as species_api\n",
    "from pygbif import occurrences as occ"
   ]
  },
  {
   "cell_type": "code",
   "execution_count": null,
   "metadata": {},
   "outputs": [],
   "source": [
    "taxonId = 12253343\n",
    "\n",
    "data = occ.search(taxonKey=taxonId, mediatype=\"StillImage\", limit=1)\n",
    "\n",
    "data"
   ]
  },
  {
   "cell_type": "code",
   "execution_count": 3,
   "metadata": {},
   "outputs": [
    {
     "data": {
      "text/plain": [
       "{'usageKey': 1989582,\n",
       " 'scientificName': 'Nepheloleuca politia (Cramer, 1777)',\n",
       " 'canonicalName': 'Nepheloleuca politia',\n",
       " 'rank': 'SPECIES',\n",
       " 'status': 'ACCEPTED',\n",
       " 'confidence': 99,\n",
       " 'matchType': 'EXACT',\n",
       " 'kingdom': 'Animalia',\n",
       " 'phylum': 'Arthropoda',\n",
       " 'order': 'Lepidoptera',\n",
       " 'family': 'Geometridae',\n",
       " 'genus': 'Nepheloleuca',\n",
       " 'species': 'Nepheloleuca politia',\n",
       " 'kingdomKey': 1,\n",
       " 'phylumKey': 54,\n",
       " 'classKey': 216,\n",
       " 'orderKey': 797,\n",
       " 'familyKey': 6950,\n",
       " 'genusKey': 1989580,\n",
       " 'speciesKey': 1989582,\n",
       " 'synonym': False,\n",
       " 'class': 'Insecta'}"
      ]
     },
     "execution_count": 3,
     "metadata": {},
     "output_type": "execute_result"
    }
   ],
   "source": [
    "name = \"Nepheloleuca politia\"\n",
    "data = species_api.name_backbone(name=name, strict=True, rank=\"species\")\n",
    "data\n"
   ]
  },
  {
   "cell_type": "code",
   "execution_count": 4,
   "metadata": {},
   "outputs": [
    {
     "data": {
      "text/plain": [
       "{'usageKey': 1989583,\n",
       " 'acceptedUsageKey': 11462514,\n",
       " 'scientificName': 'Nepheloleuca illiturata (Guenée, 1858)',\n",
       " 'canonicalName': 'Nepheloleuca illiturata',\n",
       " 'rank': 'SPECIES',\n",
       " 'status': 'SYNONYM',\n",
       " 'confidence': 99,\n",
       " 'matchType': 'EXACT',\n",
       " 'kingdom': 'Animalia',\n",
       " 'phylum': 'Arthropoda',\n",
       " 'order': 'Lepidoptera',\n",
       " 'family': 'Geometridae',\n",
       " 'genus': 'Nepheloleuca',\n",
       " 'species': 'Nepheloleuca politia',\n",
       " 'kingdomKey': 1,\n",
       " 'phylumKey': 54,\n",
       " 'classKey': 216,\n",
       " 'orderKey': 797,\n",
       " 'familyKey': 6950,\n",
       " 'genusKey': 1989580,\n",
       " 'speciesKey': 1989582,\n",
       " 'synonym': True,\n",
       " 'class': 'Insecta'}"
      ]
     },
     "execution_count": 4,
     "metadata": {},
     "output_type": "execute_result"
    }
   ],
   "source": [
    "name = \"Nepheloleuca illiturata\"\n",
    "data = species_api.name_backbone(name=name, strict=True, rank=\"species\")\n",
    "data"
   ]
  },
  {
   "cell_type": "code",
   "execution_count": null,
   "metadata": {},
   "outputs": [],
   "source": []
  }
 ],
 "metadata": {
  "kernelspec": {
   "display_name": "gbif_download_standalone",
   "language": "python",
   "name": "python3"
  },
  "language_info": {
   "codemirror_mode": {
    "name": "ipython",
    "version": 3
   },
   "file_extension": ".py",
   "mimetype": "text/x-python",
   "name": "python",
   "nbconvert_exporter": "python",
   "pygments_lexer": "ipython3",
   "version": "3.11.5"
  },
  "orig_nbformat": 4
 },
 "nbformat": 4,
 "nbformat_minor": 2
}
