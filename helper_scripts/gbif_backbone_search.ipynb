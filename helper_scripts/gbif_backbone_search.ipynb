{
 "cells": [
  {
   "cell_type": "code",
   "execution_count": null,
   "metadata": {},
   "outputs": [],
   "source": [
    "from pygbif import species as species_api\n",
    "from pygbif import occurrences as occ"
   ]
  },
  {
   "cell_type": "code",
   "execution_count": 7,
   "metadata": {},
   "outputs": [
    {
     "data": {
      "text/plain": [
       "{'offset': 0,\n",
       " 'limit': 1,\n",
       " 'endOfRecords': False,\n",
       " 'count': 11709,\n",
       " 'results': [{'key': 4157580337,\n",
       "   'datasetKey': '8a863029-f435-446a-821e-275f4f641165',\n",
       "   'publishingOrgKey': 'c8d737e0-2ff8-42e8-b8fc-6b805d26fc5f',\n",
       "   'installationKey': '85ccfd1a-a837-48d6-9a87-96c99f6fe012',\n",
       "   'hostingOrganizationKey': '396d5f30-dea9-11db-8ab4-b8a03c50a862',\n",
       "   'publishingCountry': 'NL',\n",
       "   'protocol': 'DWC_ARCHIVE',\n",
       "   'lastCrawled': '2023-09-14T09:16:23.928+00:00',\n",
       "   'lastParsed': '2023-09-14T15:39:08.888+00:00',\n",
       "   'crawlId': 94,\n",
       "   'extensions': {'http://rs.tdwg.org/ac/terms/Multimedia': [{'http://rs.tdwg.org/ac/terms/variantLiteral': 'Best Quality',\n",
       "      'http://purl.org/dc/elements/1.1/type': 'StillImage',\n",
       "      'http://ns.adobe.com/xap/1.0/rights/Owner': 'P. Losekoot',\n",
       "      'http://purl.org/dc/terms/format': 'image/jpeg',\n",
       "      'http://purl.org/dc/terms/identifier': 'https://observation.org/photos/63640423/',\n",
       "      'http://purl.org/dc/elements/1.1/creator': 'P. Losekoot',\n",
       "      'http://purl.org/dc/terms/rights': 'CC BY-NC-ND 4.0',\n",
       "      'http://rs.tdwg.org/ac/terms/accessURI': 'https://observation.org/photos/63640423.jpg'}]},\n",
       "   'basisOfRecord': 'HUMAN_OBSERVATION',\n",
       "   'individualCount': 1,\n",
       "   'occurrenceStatus': 'PRESENT',\n",
       "   'lifeStage': 'Caterpillar',\n",
       "   'taxonKey': 7423178,\n",
       "   'kingdomKey': 1,\n",
       "   'phylumKey': 54,\n",
       "   'classKey': 216,\n",
       "   'orderKey': 797,\n",
       "   'familyKey': 4532185,\n",
       "   'genusKey': 3255940,\n",
       "   'speciesKey': 12253343,\n",
       "   'acceptedTaxonKey': 12253343,\n",
       "   'scientificName': 'Eilema complana (Linnaeus, 1758)',\n",
       "   'acceptedScientificName': 'Manulea complana (Linnaeus, 1758)',\n",
       "   'kingdom': 'Animalia',\n",
       "   'phylum': 'Arthropoda',\n",
       "   'order': 'Lepidoptera',\n",
       "   'family': 'Erebidae',\n",
       "   'genus': 'Manulea',\n",
       "   'species': 'Manulea complana',\n",
       "   'genericName': 'Eilema',\n",
       "   'specificEpithet': 'complana',\n",
       "   'taxonRank': 'SPECIES',\n",
       "   'taxonomicStatus': 'SYNONYM',\n",
       "   'iucnRedListCategory': 'NE',\n",
       "   'decimalLatitude': 52.15,\n",
       "   'decimalLongitude': 5.25,\n",
       "   'coordinateUncertaintyInMeters': 5000.0,\n",
       "   'continent': 'EUROPE',\n",
       "   'stateProvince': 'Utrecht',\n",
       "   'gadm': {'level0': {'gid': 'NLD', 'name': 'Netherlands'},\n",
       "    'level1': {'gid': 'NLD.11_1', 'name': 'Utrecht'},\n",
       "    'level2': {'gid': 'NLD.11.33_1', 'name': 'Zeist'}},\n",
       "   'year': 2023,\n",
       "   'month': 3,\n",
       "   'day': 24,\n",
       "   'eventDate': '2023-03-24T00:00:00',\n",
       "   'issues': ['OCCURRENCE_STATUS_INFERRED_FROM_INDIVIDUAL_COUNT'],\n",
       "   'modified': '2023-03-31T00:00:00.000+00:00',\n",
       "   'lastInterpreted': '2023-09-14T15:39:08.888+00:00',\n",
       "   'references': 'https://data.biodiversitydata.nl/obsint/observation/OBS.266295672',\n",
       "   'license': 'http://creativecommons.org/licenses/by-nc/4.0/legalcode',\n",
       "   'identifiers': [{'identifier': '266295672@OBS'}],\n",
       "   'media': [{'type': 'StillImage',\n",
       "     'format': 'image/jpeg',\n",
       "     'creator': 'P. Losekoot',\n",
       "     'license': 'http://creativecommons.org/licenses/by-nc-nd/4.0/',\n",
       "     'rightsHolder': 'P. Losekoot',\n",
       "     'identifier': 'https://observation.org/photos/63640423.jpg'}],\n",
       "   'facts': [],\n",
       "   'relations': [],\n",
       "   'isInCluster': False,\n",
       "   'recordedBy': 'User 141509',\n",
       "   'samplingProtocol': 'seen',\n",
       "   'geodeticDatum': 'WGS84',\n",
       "   'class': 'Insecta',\n",
       "   'countryCode': 'NL',\n",
       "   'recordedByIDs': [],\n",
       "   'identifiedByIDs': [],\n",
       "   'country': 'Netherlands',\n",
       "   'rightsHolder': 'Stichting Observation International',\n",
       "   'identifier': '266295672@OBS',\n",
       "   'catalogNumber': 'OBS.266295672',\n",
       "   'vernacularName': 'Scarce Footman',\n",
       "   'dataGeneralizations': 'WGS84 coordinates generalized with formula: `coord = floor(coord * 20) / 20`',\n",
       "   'eventTime': '10:04',\n",
       "   'locality': 'Soest - Op Hees',\n",
       "   'gbifID': '4157580337',\n",
       "   'collectionCode': 'Observations',\n",
       "   'occurrenceID': 'https://observation.org/observation/266295672',\n",
       "   'higherClassification': 'Animalia|Erebidae'}],\n",
       " 'facets': []}"
      ]
     },
     "execution_count": 7,
     "metadata": {},
     "output_type": "execute_result"
    }
   ],
   "source": [
    "taxonId = 12253343\n",
    "\n",
    "data = occ.search(taxonKey=taxonId, mediatype=\"StillImage\", limit=1)\n",
    "\n",
    "data"
   ]
  },
  {
   "cell_type": "code",
   "execution_count": null,
   "metadata": {},
   "outputs": [],
   "source": [
    "name = \"Manulea complana\"\n",
    "data = species_api.name_backbone(name=name, strict=True, rank=\"species\")\n",
    "data\n"
   ]
  },
  {
   "cell_type": "code",
   "execution_count": null,
   "metadata": {},
   "outputs": [],
   "source": [
    "name = \"Epicallia villica\"\n",
    "data = species_api.name_backbone(name=name, strict=True, rank=\"species\")\n",
    "data"
   ]
  },
  {
   "cell_type": "code",
   "execution_count": null,
   "metadata": {},
   "outputs": [],
   "source": []
  }
 ],
 "metadata": {
  "kernelspec": {
   "display_name": "gbif_download_standalone",
   "language": "python",
   "name": "python3"
  },
  "language_info": {
   "codemirror_mode": {
    "name": "ipython",
    "version": 3
   },
   "file_extension": ".py",
   "mimetype": "text/x-python",
   "name": "python",
   "nbconvert_exporter": "python",
   "pygments_lexer": "ipython3",
   "version": "3.11.5"
  },
  "orig_nbformat": 4
 },
 "nbformat": 4,
 "nbformat_minor": 2
}
