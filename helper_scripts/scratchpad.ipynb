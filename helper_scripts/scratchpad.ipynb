{
 "cells": [
  {
   "cell_type": "code",
   "execution_count": 1,
   "metadata": {},
   "outputs": [],
   "source": [
    "import pandas as pd\n",
    "import os\n",
    "import sys\n",
    "from pygbif import species as species_api\n",
    "from pygbif import occurrences as occ\n",
    "\n",
    "sys.path.append(os.path.abspath('..'))\n",
    "\n",
    "import fetch_taxon_keys\n",
    "import argparse"
   ]
  },
  {
   "cell_type": "code",
   "execution_count": 2,
   "metadata": {},
   "outputs": [
    {
     "name": "stderr",
     "output_type": "stream",
     "text": [
      "/var/folders/bf/8z6pr__14lq801rwlk2hx9r40000gr/T/ipykernel_96113/3966146101.py:3: DtypeWarning: Columns (1,3,4,5,6,7,8,9,13) have mixed types. Specify dtype option on import or set low_memory=False.\n",
      "  occ_df = pd.read_csv(\"../../gbif-species-trainer-data/dwca_files/occurrence_lepidoptera.csv\")\n"
     ]
    }
   ],
   "source": [
    "# Load the huge CSV file\n",
    "# occ_df = pd.read_csv(\"../../../data/gbif-species-trainer-AMI-fork/dwca_files/occurrence_lepidoptera.csv\")\n",
    "occ_df = pd.read_csv(\"../../gbif-species-trainer-data/dwca_files/occurrence_lepidoptera.csv\")"
   ]
  },
  {
   "cell_type": "code",
   "execution_count": 3,
   "metadata": {},
   "outputs": [
    {
     "data": {
      "text/plain": [
       "Index(['id', 'datasetName', 'basisOfRecord', 'lifeStage', 'year', 'month',\n",
       "       'day', 'decimalLatitude', 'decimalLongitude', 'taxonID', 'order',\n",
       "       'family', 'genus', 'acceptedTaxonKey', 'species',\n",
       "       'acceptedScientificName'],\n",
       "      dtype='object')"
      ]
     },
     "execution_count": 3,
     "metadata": {},
     "output_type": "execute_result"
    }
   ],
   "source": [
    "occ_df.columns"
   ]
  },
  {
   "cell_type": "code",
   "execution_count": 19,
   "metadata": {},
   "outputs": [],
   "source": [
    "occ_df[\"taxonID\"] = occ_df[\"taxonID\"].astype(str)"
   ]
  },
  {
   "cell_type": "code",
   "execution_count": 8,
   "metadata": {},
   "outputs": [
    {
     "name": "stdout",
     "output_type": "stream",
     "text": [
      "False\n"
     ]
    }
   ],
   "source": [
    "contains = \"8148822\" in occ_df[\"acceptedTaxonKey\"].values\n",
    "print(contains)"
   ]
  },
  {
   "cell_type": "code",
   "execution_count": 23,
   "metadata": {},
   "outputs": [
    {
     "name": "stdout",
     "output_type": "stream",
     "text": [
      "True\n"
     ]
    }
   ],
   "source": [
    "print(contains)"
   ]
  },
  {
   "cell_type": "code",
   "execution_count": 5,
   "metadata": {},
   "outputs": [
    {
     "data": {
      "text/plain": [
       "{'offset': 0,\n",
       " 'limit': 1,\n",
       " 'endOfRecords': False,\n",
       " 'count': 11694,\n",
       " 'results': [{'key': 4157580337,\n",
       "   'datasetKey': '8a863029-f435-446a-821e-275f4f641165',\n",
       "   'publishingOrgKey': 'c8d737e0-2ff8-42e8-b8fc-6b805d26fc5f',\n",
       "   'installationKey': '85ccfd1a-a837-48d6-9a87-96c99f6fe012',\n",
       "   'hostingOrganizationKey': '396d5f30-dea9-11db-8ab4-b8a03c50a862',\n",
       "   'publishingCountry': 'NL',\n",
       "   'protocol': 'DWC_ARCHIVE',\n",
       "   'lastCrawled': '2023-09-14T09:16:23.928+00:00',\n",
       "   'lastParsed': '2023-09-14T15:39:08.888+00:00',\n",
       "   'crawlId': 94,\n",
       "   'extensions': {'http://rs.tdwg.org/ac/terms/Multimedia': [{'http://rs.tdwg.org/ac/terms/variantLiteral': 'Best Quality',\n",
       "      'http://purl.org/dc/elements/1.1/type': 'StillImage',\n",
       "      'http://ns.adobe.com/xap/1.0/rights/Owner': 'P. Losekoot',\n",
       "      'http://purl.org/dc/terms/format': 'image/jpeg',\n",
       "      'http://purl.org/dc/terms/identifier': 'https://observation.org/photos/63640423/',\n",
       "      'http://purl.org/dc/elements/1.1/creator': 'P. Losekoot',\n",
       "      'http://purl.org/dc/terms/rights': 'CC BY-NC-ND 4.0',\n",
       "      'http://rs.tdwg.org/ac/terms/accessURI': 'https://observation.org/photos/63640423.jpg'}]},\n",
       "   'basisOfRecord': 'HUMAN_OBSERVATION',\n",
       "   'individualCount': 1,\n",
       "   'occurrenceStatus': 'PRESENT',\n",
       "   'lifeStage': 'Caterpillar',\n",
       "   'taxonKey': 7423178,\n",
       "   'kingdomKey': 1,\n",
       "   'phylumKey': 54,\n",
       "   'classKey': 216,\n",
       "   'orderKey': 797,\n",
       "   'familyKey': 4532185,\n",
       "   'genusKey': 3255940,\n",
       "   'speciesKey': 12253343,\n",
       "   'acceptedTaxonKey': 12253343,\n",
       "   'scientificName': 'Eilema complana (Linnaeus, 1758)',\n",
       "   'acceptedScientificName': 'Manulea complana (Linnaeus, 1758)',\n",
       "   'kingdom': 'Animalia',\n",
       "   'phylum': 'Arthropoda',\n",
       "   'order': 'Lepidoptera',\n",
       "   'family': 'Erebidae',\n",
       "   'genus': 'Manulea',\n",
       "   'species': 'Manulea complana',\n",
       "   'genericName': 'Eilema',\n",
       "   'specificEpithet': 'complana',\n",
       "   'taxonRank': 'SPECIES',\n",
       "   'taxonomicStatus': 'SYNONYM',\n",
       "   'iucnRedListCategory': 'NE',\n",
       "   'decimalLatitude': 52.15,\n",
       "   'decimalLongitude': 5.25,\n",
       "   'coordinateUncertaintyInMeters': 5000.0,\n",
       "   'continent': 'EUROPE',\n",
       "   'stateProvince': 'Utrecht',\n",
       "   'gadm': {'level0': {'gid': 'NLD', 'name': 'Netherlands'},\n",
       "    'level1': {'gid': 'NLD.11_1', 'name': 'Utrecht'},\n",
       "    'level2': {'gid': 'NLD.11.33_1', 'name': 'Zeist'}},\n",
       "   'year': 2023,\n",
       "   'month': 3,\n",
       "   'day': 24,\n",
       "   'eventDate': '2023-03-24T00:00:00',\n",
       "   'issues': ['OCCURRENCE_STATUS_INFERRED_FROM_INDIVIDUAL_COUNT'],\n",
       "   'modified': '2023-03-31T00:00:00.000+00:00',\n",
       "   'lastInterpreted': '2023-09-14T15:39:08.888+00:00',\n",
       "   'references': 'https://data.biodiversitydata.nl/obsint/observation/OBS.266295672',\n",
       "   'license': 'http://creativecommons.org/licenses/by-nc/4.0/legalcode',\n",
       "   'identifiers': [{'identifier': '266295672@OBS'}],\n",
       "   'media': [{'type': 'StillImage',\n",
       "     'format': 'image/jpeg',\n",
       "     'creator': 'P. Losekoot',\n",
       "     'license': 'http://creativecommons.org/licenses/by-nc-nd/4.0/',\n",
       "     'rightsHolder': 'P. Losekoot',\n",
       "     'identifier': 'https://observation.org/photos/63640423.jpg'}],\n",
       "   'facts': [],\n",
       "   'relations': [],\n",
       "   'isInCluster': False,\n",
       "   'recordedBy': 'User 141509',\n",
       "   'samplingProtocol': 'seen',\n",
       "   'geodeticDatum': 'WGS84',\n",
       "   'class': 'Insecta',\n",
       "   'countryCode': 'NL',\n",
       "   'recordedByIDs': [],\n",
       "   'identifiedByIDs': [],\n",
       "   'country': 'Netherlands',\n",
       "   'rightsHolder': 'Stichting Observation International',\n",
       "   'identifier': '266295672@OBS',\n",
       "   'catalogNumber': 'OBS.266295672',\n",
       "   'vernacularName': 'Scarce Footman',\n",
       "   'dataGeneralizations': 'WGS84 coordinates generalized with formula: `coord = floor(coord * 20) / 20`',\n",
       "   'eventTime': '10:04',\n",
       "   'locality': 'Soest - Op Hees',\n",
       "   'gbifID': '4157580337',\n",
       "   'collectionCode': 'Observations',\n",
       "   'occurrenceID': 'https://observation.org/observation/266295672',\n",
       "   'higherClassification': 'Animalia|Erebidae'}],\n",
       " 'facets': []}"
      ]
     },
     "execution_count": 5,
     "metadata": {},
     "output_type": "execute_result"
    }
   ],
   "source": [
    "data = occ.search(taxonKey=\"7423178\", mediatype=\"StillImage\", limit=1)\n",
    "data"
   ]
  },
  {
   "cell_type": "code",
   "execution_count": null,
   "metadata": {},
   "outputs": [],
   "source": [
    "data"
   ]
  },
  {
   "cell_type": "code",
   "execution_count": null,
   "metadata": {},
   "outputs": [],
   "source": []
  }
 ],
 "metadata": {
  "kernelspec": {
   "display_name": "gbif_download_standalone",
   "language": "python",
   "name": "python3"
  },
  "language_info": {
   "codemirror_mode": {
    "name": "ipython",
    "version": 3
   },
   "file_extension": ".py",
   "mimetype": "text/x-python",
   "name": "python",
   "nbconvert_exporter": "python",
   "pygments_lexer": "ipython3",
   "version": "3.11.5"
  }
 },
 "nbformat": 4,
 "nbformat_minor": 4
}
