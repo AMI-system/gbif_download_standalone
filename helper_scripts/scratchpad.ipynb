{
 "cells": [
  {
   "cell_type": "code",
   "execution_count": 1,
   "metadata": {},
   "outputs": [],
   "source": [
    "import pandas as pd\n",
    "import os\n",
    "import sys\n",
    "from pygbif import species as species_api\n",
    "from pygbif import occurrences as occ\n",
    "\n",
    "sys.path.append(os.path.abspath('..'))"
   ]
  },
  {
   "cell_type": "code",
   "execution_count": 2,
   "metadata": {},
   "outputs": [
    {
     "name": "stderr",
     "output_type": "stream",
     "text": [
      "/var/folders/bf/8z6pr__14lq801rwlk2hx9r40000gr/T/ipykernel_11969/857086536.py:3: DtypeWarning: Columns (1,3,5,6,7,8,9,13) have mixed types. Specify dtype option on import or set low_memory=False.\n",
      "  occ_df = pd.read_csv(\"../../gbif-species-trainer-data/dwca_preprocessed/occurrence_lepidoptera_20231018.csv\")\n"
     ]
    }
   ],
   "source": [
    "# Load the huge CSV file\n",
    "# occ_df = pd.read_csv(\"../../../data/gbif-species-trainer-AMI-fork/dwca_files/occurrence_lepidoptera.csv\")\n",
    "occ_df = pd.read_csv(\"../../gbif-species-trainer-data/dwca_preprocessed/occurrence_lepidoptera_20231018.csv\")"
   ]
  },
  {
   "cell_type": "code",
   "execution_count": 3,
   "metadata": {},
   "outputs": [
    {
     "data": {
      "text/plain": [
       "Index(['id', 'datasetName', 'basisOfRecord', 'lifeStage', 'year', 'month',\n",
       "       'day', 'decimalLatitude', 'decimalLongitude', 'taxonID', 'order',\n",
       "       'family', 'genus', 'acceptedTaxonKey', 'species',\n",
       "       'acceptedScientificName', 'geodeticDatum'],\n",
       "      dtype='object')"
      ]
     },
     "execution_count": 3,
     "metadata": {},
     "output_type": "execute_result"
    }
   ],
   "source": [
    "occ_df.columns"
   ]
  },
  {
   "cell_type": "code",
   "execution_count": 7,
   "metadata": {},
   "outputs": [
    {
     "data": {
      "text/html": [
       "<div>\n",
       "<style scoped>\n",
       "    .dataframe tbody tr th:only-of-type {\n",
       "        vertical-align: middle;\n",
       "    }\n",
       "\n",
       "    .dataframe tbody tr th {\n",
       "        vertical-align: top;\n",
       "    }\n",
       "\n",
       "    .dataframe thead th {\n",
       "        text-align: right;\n",
       "    }\n",
       "</style>\n",
       "<table border=\"1\" class=\"dataframe\">\n",
       "  <thead>\n",
       "    <tr style=\"text-align: right;\">\n",
       "      <th></th>\n",
       "      <th>id</th>\n",
       "      <th>datasetName</th>\n",
       "      <th>basisOfRecord</th>\n",
       "      <th>lifeStage</th>\n",
       "      <th>year</th>\n",
       "      <th>month</th>\n",
       "      <th>day</th>\n",
       "      <th>decimalLatitude</th>\n",
       "      <th>decimalLongitude</th>\n",
       "      <th>taxonID</th>\n",
       "      <th>order</th>\n",
       "      <th>family</th>\n",
       "      <th>genus</th>\n",
       "      <th>acceptedTaxonKey</th>\n",
       "      <th>species</th>\n",
       "      <th>acceptedScientificName</th>\n",
       "      <th>geodeticDatum</th>\n",
       "    </tr>\n",
       "  </thead>\n",
       "  <tbody>\n",
       "  </tbody>\n",
       "</table>\n",
       "</div>"
      ],
      "text/plain": [
       "Empty DataFrame\n",
       "Columns: [id, datasetName, basisOfRecord, lifeStage, year, month, day, decimalLatitude, decimalLongitude, taxonID, order, family, genus, acceptedTaxonKey, species, acceptedScientificName, geodeticDatum]\n",
       "Index: []"
      ]
     },
     "execution_count": 7,
     "metadata": {},
     "output_type": "execute_result"
    }
   ],
   "source": [
    "occ_df[occ_df[\"species\"] == \"Nepheloleuca politia illiturata\"]"
   ]
  },
  {
   "cell_type": "code",
   "execution_count": null,
   "metadata": {},
   "outputs": [],
   "source": [
    "type_counts = occ_df[\"acceptedTaxonKey\"].apply(type).value_counts()\n",
    "\n",
    "type_counts"
   ]
  },
  {
   "cell_type": "code",
   "execution_count": null,
   "metadata": {},
   "outputs": [],
   "source": [
    "a = occ_df[occ_df[\"acceptedTaxonKey\"].apply(lambda x: isinstance(x, float))]"
   ]
  },
  {
   "cell_type": "code",
   "execution_count": null,
   "metadata": {},
   "outputs": [],
   "source": [
    "a[\"acceptedTaxonKey\"][983040]"
   ]
  },
  {
   "cell_type": "code",
   "execution_count": null,
   "metadata": {},
   "outputs": [],
   "source": []
  },
  {
   "cell_type": "code",
   "execution_count": null,
   "metadata": {},
   "outputs": [],
   "source": [
    "9479256 in occ_df[\"acceptedTaxonKey\"]"
   ]
  },
  {
   "cell_type": "code",
   "execution_count": null,
   "metadata": {},
   "outputs": [],
   "source": [
    "contains = \"8148822\" in occ_df[\"acceptedTaxonKey\"].values\n",
    "print(contains)"
   ]
  },
  {
   "cell_type": "code",
   "execution_count": null,
   "metadata": {},
   "outputs": [],
   "source": [
    "print(contains)"
   ]
  },
  {
   "cell_type": "code",
   "execution_count": null,
   "metadata": {},
   "outputs": [],
   "source": [
    "data = occ.search(taxonKey=\"7423178\", mediatype=\"StillImage\", limit=1)\n",
    "data"
   ]
  },
  {
   "cell_type": "code",
   "execution_count": null,
   "metadata": {},
   "outputs": [],
   "source": [
    "data"
   ]
  },
  {
   "cell_type": "code",
   "execution_count": null,
   "metadata": {},
   "outputs": [],
   "source": []
  }
 ],
 "metadata": {
  "kernelspec": {
   "display_name": "gbif_download_standalone",
   "language": "python",
   "name": "python3"
  },
  "language_info": {
   "codemirror_mode": {
    "name": "ipython",
    "version": 3
   },
   "file_extension": ".py",
   "mimetype": "text/x-python",
   "name": "python",
   "nbconvert_exporter": "python",
   "pygments_lexer": "ipython3",
   "version": "3.11.5"
  }
 },
 "nbformat": 4,
 "nbformat_minor": 4
}
