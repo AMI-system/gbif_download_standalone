{
 "cells": [
  {
   "cell_type": "code",
   "execution_count": null,
   "metadata": {},
   "outputs": [],
   "source": [
    "import pandas as pd\n",
    "import os\n",
    "import sys\n",
    "import json"
   ]
  },
  {
   "cell_type": "code",
   "execution_count": null,
   "metadata": {},
   "outputs": [],
   "source": [
    "if sys.platform.startswith(\"linux\"):\n",
    "    data_dir = \"/bask/projects/v/vjgo8416-amber/data/gbif_download_standalone/\"\n",
    "elif sys.platform == \"darwin\":\n",
    "    data_dir = \"/Users/lbokeria/Documents/projects/gbif-species-trainer-data/\"\n",
    "else:\n",
    "    print(\"Not linux or mac!\")\n",
    "\n",
    "checklist_name = \"uksi-moths-keys-nodup\"\n",
    "\n",
    "gbif_img_loc = os.path.join(data_dir,\"gbif_images\")\n",
    "\n",
    "df = pd.read_csv(os.path.join(\"../species_checklists\",checklist_name+\".csv\"))"
   ]
  },
  {
   "cell_type": "code",
   "execution_count": null,
   "metadata": {},
   "outputs": [],
   "source": [
    "df[\"n_imgs\"] = \"\"\n",
    "for idx, row in df.iterrows():\n",
    "    \n",
    "    family  = row[\"family_name\"]\n",
    "    genus   = row[\"genus_name\"]\n",
    "    species = row[\"gbif_species_name\"]\n",
    "    \n",
    "    # Check if directory exists \n",
    "    species_dir = (\n",
    "        os.path.join(gbif_img_loc,family,genus,species)\n",
    "        )\n",
    "    \n",
    "    if os.path.isdir(species_dir):\n",
    "        n_images_on_disk = len(\n",
    "            [f for f in os.listdir(species_dir) if f.lower().endswith('.jpg') ]\n",
    "            )\n",
    "        # print(f\"{species} Count files method has\", n_images_on_disk, \"images\")\n",
    "        \n",
    "        # Load metadata\n",
    "        try:\n",
    "            \n",
    "            with open(os.path.join(species_dir,\"meta_data.json\")) as file:\n",
    "            \n",
    "                meta_data = json.load(file)\n",
    "            \n",
    "            # Count the number of images for this species\n",
    "            md2_n_imgs_downloaded = 0\n",
    "\n",
    "            try:\n",
    "                # 2nd way of counting images\n",
    "                md2 = pd.read_json(\n",
    "                    os.path.join(species_dir,\"meta_data.json\"), orient = 'index'\n",
    "                    )\n",
    "                \n",
    "                if md2.empty:\n",
    "                    md2_n_imgs_downloaded = 0\n",
    "                else:\n",
    "                    md2_n_imgs_downloaded = md2[\"image_is_downloaded\"].sum()\n",
    "\n",
    "                # print(f\"{species} Count dataframe metadata has\", md2_n_imgs_downloaded, \"images\")            \n",
    "\n",
    "            except Exception as e:\n",
    "                print(e)\n",
    "                print(f\"{species} error counting dataframe way: {e}\")\n",
    "                        \n",
    "            # Do n images match?\n",
    "            if n_images_on_disk == md2_n_imgs_downloaded:\n",
    "                # print(f\"N images match for {species_dir}\")\n",
    "                pass\n",
    "            else:\n",
    "                print(\n",
    "                    f\"Mismatch! File count {n_images_on_disk}, \"\n",
    "                    f\"metadata has {md2_n_imgs_downloaded}, {species_dir}\"\n",
    "                )\n",
    "        except Exception as e:\n",
    "            pass\n",
    "            print(f\"No metadata for {species_dir}\")\n",
    "            \n",
    "    else:\n",
    "        \n",
    "        n_images_on_disk = 0\n",
    "    \n",
    "    # print(f\"{species} has {n_images_on_disk} images\")\n",
    "    \n",
    "    # Record this\n",
    "    df.loc[idx, \"n_imgs\"] = n_images_on_disk\n",
    "    \n",
    "    "
   ]
  },
  {
   "cell_type": "code",
   "execution_count": null,
   "metadata": {},
   "outputs": [],
   "source": [
    "df"
   ]
  },
  {
   "cell_type": "code",
   "execution_count": null,
   "metadata": {},
   "outputs": [],
   "source": [
    "species_dir = \"/Users/lbokeria/Documents/projects/gbif-species-trainer-data/gbif_images/tests5/Sesiidae/Paranthrene/Paranthrene tabaniformis\"\n",
    "\n",
    "n_images_on_disk = len(\n",
    "        [f for f in os.listdir(species_dir) if f.lower().endswith('.jpg') ]\n",
    "        )\n",
    "print(n_images_on_disk)\n",
    "\n",
    "# 2nd way of counting images\n",
    "md2 = pd.read_json(\n",
    "        os.path.join(species_dir,\"meta_data.json\"), orient = 'index'\n",
    "        )\n",
    "\n",
    "if md2.empty:\n",
    "        md2_n_imgs_downloaded = 0\n",
    "else:\n",
    "        md2_n_imgs_downloaded = md2[\"image_is_downloaded\"].sum()\n",
    "        \n",
    "print(md2_n_imgs_downloaded)"
   ]
  },
  {
   "cell_type": "code",
   "execution_count": null,
   "metadata": {},
   "outputs": [],
   "source": [
    "for f in os.listdir(species_dir):\n",
    "    if f == \"meta_data.json\":\n",
    "        continue\n",
    "    if not md2.loc[f][\"image_is_downloaded\"]:\n",
    "        print(f)\n",
    "\n",
    "# \"3905445525.jpg\" in md2.index"
   ]
  },
  {
   "cell_type": "code",
   "execution_count": null,
   "metadata": {},
   "outputs": [],
   "source": [
    "os.path.exists(os.path.join(species_dir,\"3003600761.jpg\"))"
   ]
  },
  {
   "cell_type": "code",
   "execution_count": null,
   "metadata": {},
   "outputs": [],
   "source": [
    "media_df = pd.read_csv(\"/Users/lbokeria/Documents/projects/gbif-species-trainer-data/dwca_preprocessed/multimedia_lepidoptera_20231018.csv\")\n"
   ]
  },
  {
   "cell_type": "code",
   "execution_count": null,
   "metadata": {},
   "outputs": [],
   "source": [
    "a = media_df[media_df[\"coreid\"] == 3003600761]"
   ]
  },
  {
   "cell_type": "code",
   "execution_count": null,
   "metadata": {},
   "outputs": [],
   "source": [
    "image_url = a[\"identifier\"].iloc[0]\n",
    "image_url"
   ]
  },
  {
   "cell_type": "code",
   "execution_count": null,
   "metadata": {},
   "outputs": [],
   "source": []
  },
  {
   "cell_type": "code",
   "execution_count": null,
   "metadata": {},
   "outputs": [],
   "source": [
    "\"https://files.plutof.ut.ee/public/orig/10/4D/104D9B04653A2839360BA8E4F16F5E56B2D8C401125459CFEEE33F848554724F.CR2\""
   ]
  },
  {
   "cell_type": "code",
   "execution_count": null,
   "metadata": {},
   "outputs": [],
   "source": [
    "from urllib.request import urlretrieve\n",
    "\n",
    "write_location = \"/Users/lbokeria/Desktop\"\n",
    "\n",
    "# print(\"Trying   the image download\", image_url)\n",
    "image_write_path = os.path.join(write_location,str(124)+\".jpg\")\n",
    "try:\n",
    "    urlretrieve(image_url, image_write_path)\n",
    "    print(\"success\")\n",
    "except Exception as e:\n",
    "    print(f\"Error: {e}\")"
   ]
  },
  {
   "cell_type": "code",
   "execution_count": null,
   "metadata": {},
   "outputs": [],
   "source": [
    "# Save the df\n",
    "# df.to_csv(os.path.join(\"../data_stats_files/\",\"data_stats_\"+checklist_name+\".csv\"))"
   ]
  }
 ],
 "metadata": {
  "kernelspec": {
   "display_name": "gbif_download_standalone",
   "language": "python",
   "name": "python3"
  },
  "language_info": {
   "codemirror_mode": {
    "name": "ipython",
    "version": 3
   },
   "file_extension": ".py",
   "mimetype": "text/x-python",
   "name": "python",
   "nbconvert_exporter": "python",
   "pygments_lexer": "ipython3",
   "version": "3.11.5"
  }
 },
 "nbformat": 4,
 "nbformat_minor": 4
}
