{
 "cells": [
  {
   "cell_type": "code",
   "execution_count": 6,
   "metadata": {},
   "outputs": [],
   "source": [
    "import pandas as pd\n",
    "import os\n",
    "import sys\n",
    "import json"
   ]
  },
  {
   "cell_type": "code",
   "execution_count": 7,
   "metadata": {},
   "outputs": [],
   "source": [
    "if sys.platform.startswith(\"linux\"):\n",
    "    data_dir = \"/bask/projects/v/vjgo8416-amber/data/gbif_download_standalone/\"\n",
    "elif sys.platform == \"darwin\":\n",
    "    data_dir = \"/Users/lbokeria/Documents/projects/gbif-species-trainer-data/\"\n",
    "else:\n",
    "    print(\"Not linux or mac!\")\n",
    "\n",
    "checklist_name = \"uksi-moths-keys-nodup\"\n",
    "\n",
    "df = pd.read_csv(os.path.join(\"../species_checklists\",checklist_name+\".csv\"))"
   ]
  },
  {
   "cell_type": "code",
   "execution_count": 8,
   "metadata": {},
   "outputs": [
    {
     "name": "stdout",
     "output_type": "stream",
     "text": [
      "N images MISmatch. File count is 1652, metadata has 1651, species: Catoptria falsella\n",
      "N images MISmatch. File count is 1309, metadata has 922, species: Watsonalla cultraria\n",
      "N images MISmatch. File count is 1586, metadata has 1585, species: Catocala fraxini\n",
      "N images MISmatch. File count is 1857, metadata has 1856, species: Hypena proboscidalis\n",
      "N images MISmatch. File count is 1913, metadata has 1912, species: Lymantria monacha\n",
      "N images MISmatch. File count is 1896, metadata has 1895, species: Scoliopteryx libatrix\n",
      "N images MISmatch. File count is 1001, metadata has 1000, species: Spilosoma lubricipeda\n",
      "N images MISmatch. File count is 1583, metadata has 1582, species: Agriopis marginaria\n",
      "N images MISmatch. File count is 1557, metadata has 1556, species: Angerona prunaria\n",
      "N images MISmatch. File count is 1456, metadata has 1455, species: Archiearis parthenias\n",
      "N images MISmatch. File count is 1685, metadata has 1000, species: Biston strataria\n",
      "N images MISmatch. File count is 1312, metadata has 1311, species: Cleora cinctaria\n",
      "N images MISmatch. File count is 1622, metadata has 1621, species: Cosmorhoe ocellata\n",
      "N images MISmatch. File count is 1265, metadata has 1263, species: Ennomos autumnaria\n",
      "N images MISmatch. File count is 1644, metadata has 1642, species: Eulithis populata\n",
      "N images MISmatch. File count is 1347, metadata has 1346, species: Eupithecia absinthiata\n",
      "N images MISmatch. File count is 324, metadata has 323, species: Eupithecia distinctaria\n",
      "N images MISmatch. File count is 1194, metadata has 1193, species: Eupithecia nanata\n",
      "N images MISmatch. File count is 1706, metadata has 1705, species: Lycia hirtaria\n",
      "N images MISmatch. File count is 1150, metadata has 462, species: Paradarisa consonaria\n",
      "N images MISmatch. File count is 836, metadata has 186, species: Phibalapteryx virgata\n",
      "N images MISmatch. File count is 1476, metadata has 1475, species: Phigalia pilosaria\n",
      "N images MISmatch. File count is 1071, metadata has 1000, species: Scopula rubiginata\n",
      "N images MISmatch. File count is 742, metadata has 329, species: Eriogaster lanestris\n",
      "N images MISmatch. File count is 1018, metadata has 624, species: Trichiura crataegi\n",
      "N images MISmatch. File count is 1784, metadata has 1783, species: Anaplectoides prasina\n",
      "N images MISmatch. File count is 635, metadata has 378, species: Apamea anceps\n",
      "N images MISmatch. File count is 799, metadata has 638, species: Archanara dissoluta\n",
      "N images MISmatch. File count is 1562, metadata has 1000, species: Brachionycha nubeculosa\n",
      "N images MISmatch. File count is 1930, metadata has 1928, species: Caradrina morpheus\n",
      "N images MISmatch. File count is 290, metadata has 105, species: Xanthia gilvago\n",
      "N images MISmatch. File count is 1923, metadata has 1922, species: Conistra vaccinii\n",
      "N images MISmatch. File count is 1235, metadata has 1000, species: Cosmia trapezina\n",
      "N images MISmatch. File count is 1061, metadata has 1000, species: Eupsilia transversa\n",
      "N images MISmatch. File count is 291, metadata has 258, species: Globia algae\n",
      "N images MISmatch. File count is 672, metadata has 641, species: Globia sparganii\n",
      "N images MISmatch. File count is 1556, metadata has 1555, species: Lithophane socia\n",
      "N images MISmatch. File count is 863, metadata has 373, species: Polychrysia moneta\n",
      "N images MISmatch. File count is 537, metadata has 70, species: Stilbia anomala\n",
      "N images MISmatch. File count is 888, metadata has 539, species: Tiliacea citrago\n",
      "N images MISmatch. File count is 794, metadata has 473, species: Meganola albula\n",
      "N images MISmatch. File count is 1320, metadata has 1000, species: Clostera curtula\n",
      "N images MISmatch. File count is 1219, metadata has 1000, species: Acrobasis advenella\n",
      "N images MISmatch. File count is 681, metadata has 513, species: Acrobasis repandana\n",
      "N images MISmatch. File count is 1350, metadata has 1000, species: Aglossa pinguinalis\n",
      "N images MISmatch. File count is 249, metadata has 93, species: Ancylosis oblitella\n",
      "N images MISmatch. File count is 400, metadata has 272, species: Assara terebrella\n",
      "N images MISmatch. File count is 156, metadata has 19, species: Corcyra cephalonica\n",
      "N images MISmatch. File count is 444, metadata has 301, species: Cryptoblabes bistriga\n",
      "N images MISmatch. File count is 1163, metadata has 1000, species: Dioryctria abietella\n",
      "N images MISmatch. File count is 239, metadata has 111, species: Ephestia kuehniella\n",
      "N images MISmatch. File count is 797, metadata has 709, species: Euzophera pinguis\n",
      "N images MISmatch. File count is 119, metadata has 7, species: Homoeosoma nimbella\n",
      "N images MISmatch. File count is 1124, metadata has 1000, species: Homoeosoma sinuella\n",
      "N images MISmatch. File count is 683, metadata has 602, species: Myelois circumvoluta\n",
      "N images MISmatch. File count is 346, metadata has 268, species: Nephopterix angustella\n",
      "N images MISmatch. File count is 74, metadata has 1, species: Paralipsa gularis\n",
      "N images MISmatch. File count is 104, metadata has 25, species: Pempelia genistella\n",
      "N images MISmatch. File count is 141, metadata has 77, species: Phycitodes maritima\n",
      "N images MISmatch. File count is 1024, metadata has 1000, species: Hemaris fuciformis\n",
      "N images MISmatch. File count is 944, metadata has 926, species: Hemaris tityus\n"
     ]
    }
   ],
   "source": [
    "df[\"n_imgs\"] = \"\"\n",
    "for idx, row in df.iterrows():\n",
    "    \n",
    "    family  = row[\"family_name\"]\n",
    "    genus   = row[\"genus_name\"]\n",
    "    species = row[\"gbif_species_name\"]\n",
    "    \n",
    "    # Check if directory exists \n",
    "    species_dir = (\n",
    "        os.path.join(data_dir,\"gbif_images\",\"sandbox\",family,genus,species)\n",
    "        )\n",
    "    \n",
    "    if os.path.isdir(species_dir):\n",
    "        n_images_on_disk = len(\n",
    "            [f for f in os.listdir(species_dir) if f.lower().endswith('.jpg') ]\n",
    "            )\n",
    "        # print(f\"{species} Count files method has\", n_images_on_disk, \"images\")\n",
    "        \n",
    "        # Load metadata\n",
    "        try:\n",
    "            \n",
    "            with open(os.path.join(species_dir,\"meta_data.json\")) as file:\n",
    "            \n",
    "                meta_data = json.load(file)\n",
    "            \n",
    "            # Count the number of images for this species\n",
    "            n_imgs_metadata = 0\n",
    "\n",
    "            for key, value in meta_data.items():\n",
    "                if value.get(\"image_is_downloaded\") == True:\n",
    "                    n_imgs_metadata += 1\n",
    "            # print(f\"{species} Count json metadata has\", n_imgs_metadata, \"images\") \n",
    "            \n",
    "            try:\n",
    "                # 2nd way of counting images\n",
    "                md2 = pd.read_json(\n",
    "                    os.path.join(species_dir,\"meta_data.json\"), orient = 'index'\n",
    "                    )\n",
    "                \n",
    "                if md2.empty:\n",
    "                    md2_n_imgs_downloaded = 0\n",
    "                else:\n",
    "                    md2_n_imgs_downloaded = md2[\"image_is_downloaded\"].sum()\n",
    "\n",
    "                # print(f\"{species} Count dataframe metadata has\", md2_n_imgs_downloaded, \"images\")            \n",
    "\n",
    "                if md2_n_imgs_downloaded != n_imgs_metadata:\n",
    "                    print(f\"Two ways of calculating metadata images don't match for {species_dir}\")\n",
    "            except Exception as e:\n",
    "                print(e)\n",
    "                print(f\"{species} error counting dataframe way: {e}\")\n",
    "                        \n",
    "            # Do n images match?\n",
    "            if n_images_on_disk == n_imgs_metadata:\n",
    "                # print(f\"N images match for {species_dir}\")\n",
    "                pass\n",
    "            else:\n",
    "                print(\n",
    "                    f\"N images MISmatch. File count is {n_images_on_disk}, \"\n",
    "                    f\"metadata has {n_imgs_metadata}, species: {species}\"\n",
    "                )\n",
    "        except Exception as e:\n",
    "            pass\n",
    "            print(f\"No metadata for {species_dir}\")\n",
    "            \n",
    "    else:\n",
    "        \n",
    "        n_images_on_disk = 0\n",
    "    \n",
    "    # print(f\"{species} has {n_images_on_disk} images\")\n",
    "    \n",
    "    # Record this\n",
    "    df.loc[idx, \"n_imgs\"] = n_images_on_disk\n",
    "    \n",
    "    "
   ]
  },
  {
   "cell_type": "code",
   "execution_count": 15,
   "metadata": {},
   "outputs": [
    {
     "data": {
      "text/plain": [
       "{}"
      ]
     },
     "execution_count": 15,
     "metadata": {},
     "output_type": "execute_result"
    }
   ],
   "source": [
    "species_dir = \"/bask/homes/r/rybf4168/vjgo8416-amber/data/gbif_download_standalone/gbif_images/tests/Adelidae/Nemophora/Nemophora aurisparsella\"\n",
    "\n",
    "with open(os.path.join(species_dir,\"meta_data.json\")) as file:\n",
    "\n",
    "    meta_data = json.load(file)\n",
    "\n",
    "meta_data"
   ]
  },
  {
   "cell_type": "code",
   "execution_count": 20,
   "metadata": {},
   "outputs": [
    {
     "data": {
      "text/plain": [
       "True"
      ]
     },
     "execution_count": 20,
     "metadata": {},
     "output_type": "execute_result"
    }
   ],
   "source": [
    "a = pd.read_json(os.path.join(species_dir,\"meta_data.json\"), orient='index')\n",
    "a.empty"
   ]
  },
  {
   "cell_type": "code",
   "execution_count": null,
   "metadata": {},
   "outputs": [],
   "source": [
    "# Save the df\n",
    "df.to_csv(os.path.join(\"../data_stats_files/\",\"data_stats_\"+checklist_name+\".csv\"))"
   ]
  }
 ],
 "metadata": {
  "kernelspec": {
   "display_name": "gbif_download_standalone (Conda)",
   "language": "python",
   "name": "sys_gbif_download_standalone"
  },
  "language_info": {
   "codemirror_mode": {
    "name": "ipython",
    "version": 3
   },
   "file_extension": ".py",
   "mimetype": "text/x-python",
   "name": "python",
   "nbconvert_exporter": "python",
   "pygments_lexer": "ipython3",
   "version": "3.11.5"
  }
 },
 "nbformat": 4,
 "nbformat_minor": 4
}
