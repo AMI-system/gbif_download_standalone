{
 "cells": [
  {
   "cell_type": "code",
   "execution_count": null,
   "metadata": {},
   "outputs": [],
   "source": [
    "import pandas as pd\n",
    "import os\n",
    "import sys\n",
    "import json"
   ]
  },
  {
   "cell_type": "code",
   "execution_count": 28,
   "metadata": {},
   "outputs": [],
   "source": [
    "if sys.platform.startswith(\"linux\"):\n",
    "    data_dir = \"/bask/projects/v/vjgo8416-amber/data/gbif_download_standalone/\"\n",
    "elif sys.platform == \"darwin\":\n",
    "    data_dir = \"/Users/lbokeria/Documents/projects/gbif-species-trainer-data/\"\n",
    "else:\n",
    "    print(\"Not linux or mac!\")\n",
    "\n",
    "checklist_name = \"uksi-moths\"\n",
    "\n",
    "df = pd.read_csv(os.path.join(\"../species_checklists\",checklist_name+\"-keys-nodup.csv\"))"
   ]
  },
  {
   "cell_type": "code",
   "execution_count": null,
   "metadata": {},
   "outputs": [],
   "source": [
    "df[\"n_imgs\"] = \"\"\n",
    "for idx, row in df.iterrows():\n",
    "    \n",
    "    family  = row[\"family_name\"]\n",
    "    genus   = row[\"genus_name\"]\n",
    "    species = row[\"gbif_species_name\"]\n",
    "    \n",
    "    # Check if directory exists \n",
    "    species_dir = (\n",
    "        os.path.join(data_dir,\"gbif_images\",\"sandbox\",family,genus,species)\n",
    "        )\n",
    "    \n",
    "    if os.path.isdir(species_dir):\n",
    "        n_images_on_disk = len(\n",
    "            [f for f in os.listdir(species_dir) if f.lower().endswith('.jpg') ]\n",
    "            )\n",
    "        # print(n_images_on_disk)\n",
    "        \n",
    "        # Load metadata\n",
    "        try:\n",
    "            \n",
    "            with open(os.path.join(species_dir,\"meta_data.json\")) as file:\n",
    "            \n",
    "                meta_data = json.load(file)\n",
    "            \n",
    "            # Count the number of images for this species\n",
    "            n_imgs_metadata = 0\n",
    "\n",
    "            for key, value in meta_data.items():\n",
    "                if value.get(\"image_is_downloaded\") == True:\n",
    "                    n_imgs_metadata += 1\n",
    "            \n",
    "            # Do n images match?\n",
    "            if n_images_on_disk == n_imgs_metadata:\n",
    "                # print(f\"N images match for {species_dir}\")\n",
    "                pass\n",
    "            else:\n",
    "                print(f\"N images MISmatch for {species_dir}\")\n",
    "        except Exception as e:\n",
    "            print(f\"No metadata for {species_dir}\")\n",
    "            \n",
    "    else:\n",
    "        \n",
    "        n_images_on_disk = 0\n",
    "    \n",
    "    # print(f\"{species} has {n_images_on_disk} images\")\n",
    "    \n",
    "    # Record this\n",
    "    df.loc[idx, \"n_imgs\"] = n_images_on_disk\n",
    "    \n",
    "    "
   ]
  },
  {
   "cell_type": "code",
   "execution_count": 29,
   "metadata": {},
   "outputs": [],
   "source": [
    "# Save the df\n",
    "df.to_csv(os.path.join(\"../data_stats_files/\",\"data_stats_\"+checklist_name+\".csv\"))"
   ]
  }
 ],
 "metadata": {
  "kernelspec": {
   "display_name": "gbif_download_standalone",
   "language": "python",
   "name": "python3"
  },
  "language_info": {
   "codemirror_mode": {
    "name": "ipython",
    "version": 3
   },
   "file_extension": ".py",
   "mimetype": "text/x-python",
   "name": "python",
   "nbconvert_exporter": "python",
   "pygments_lexer": "ipython3",
   "version": "3.11.5"
  }
 },
 "nbformat": 4,
 "nbformat_minor": 2
}
