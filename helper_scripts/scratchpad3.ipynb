{
 "cells": [
  {
   "cell_type": "code",
   "execution_count": 1,
   "metadata": {},
   "outputs": [],
   "source": [
    "import argparse\n",
    "import os\n",
    "\n",
    "from dwca.read import DwCAReader"
   ]
  },
  {
   "cell_type": "code",
   "execution_count": 4,
   "metadata": {},
   "outputs": [],
   "source": [
    "dwca_file = \"/Users/lbokeria/Documents/projects/gbif-species-trainer-data/dwca_files/Erebidae_2023_10_03/\""
   ]
  },
  {
   "cell_type": "code",
   "execution_count": 5,
   "metadata": {},
   "outputs": [
    {
     "name": "stdout",
     "output_type": "stream",
     "text": [
      "Starting reading the multimedia file...\n"
     ]
    },
    {
     "name": "stderr",
     "output_type": "stream",
     "text": [
      "/Users/lbokeria/miniforge3/envs/gbif_download_standalone/lib/python3.11/site-packages/dwca/read.py:203: DtypeWarning: Columns (7) have mixed types. Specify dtype option on import or set low_memory=False.\n",
      "  df = read_csv(self.absolute_temporary_path(relative_path), **kwargs)\n"
     ]
    },
    {
     "name": "stdout",
     "output_type": "stream",
     "text": [
      "Finished reading the multimedia...\n",
      "Starting reading the occurrence file...\n"
     ]
    },
    {
     "name": "stderr",
     "output_type": "stream",
     "text": [
      "/Users/lbokeria/miniforge3/envs/gbif_download_standalone/lib/python3.11/site-packages/dwca/read.py:203: DtypeWarning: Columns (1,2,3,5,7,8,9,10,11,12,13,14,15,16,18,19,20,21,22,23,24,25,28,29,30,31,32,33,35,36,38,39,40,41,42,43,44,45,46,47,48,50,51,52,53,54,55,56,57,63,64,65,67,68,69,70,71,72,73,74,75,76,77,78,79,80,81,82,83,84,86,89,90,96,97,98,99,101,102,103,104,105,110,111,112,113,114,115,116,119,121,124,125,126,127,128,129,130,131,132,133,134,135,137,138,139,140,141,143,144,145,146,147,149,155,159,161,164,165,166,168,169,171,179,195,199,201,202,203,204,205,206,207,208,209) have mixed types. Specify dtype option on import or set low_memory=False.\n",
      "  df = read_csv(self.absolute_temporary_path(relative_path), **kwargs)\n"
     ]
    },
    {
     "name": "stdout",
     "output_type": "stream",
     "text": [
      "Finished reading the occurrence...\n"
     ]
    }
   ],
   "source": [
    "# Read the dwca files\n",
    "with DwCAReader(path=dwca_file) as dwca:\n",
    "\n",
    "    print('Starting reading the multimedia file...')\n",
    "\n",
    "    media_df = dwca.pd_read(\n",
    "        \"multimedia.txt\",\n",
    "        parse_dates=True,\n",
    "        on_bad_lines=\"skip\")\n",
    "\n",
    "    print('Finished reading the multimedia...')\n",
    "\n",
    "    print('Starting reading the occurrence file...')\n",
    "\n",
    "    occ_df = dwca.pd_read(\n",
    "        \"occurrence.txt\",\n",
    "        parse_dates=True,\n",
    "        on_bad_lines=\"skip\")\n",
    "\n",
    "    print('Finished reading the occurrence...')"
   ]
  }
 ],
 "metadata": {
  "kernelspec": {
   "display_name": "gbif_download_standalone",
   "language": "python",
   "name": "python3"
  },
  "language_info": {
   "codemirror_mode": {
    "name": "ipython",
    "version": 3
   },
   "file_extension": ".py",
   "mimetype": "text/x-python",
   "name": "python",
   "nbconvert_exporter": "python",
   "pygments_lexer": "ipython3",
   "version": "3.11.5"
  }
 },
 "nbformat": 4,
 "nbformat_minor": 4
}
