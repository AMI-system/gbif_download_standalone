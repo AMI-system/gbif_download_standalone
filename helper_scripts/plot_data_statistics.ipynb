{
 "cells": [
  {
   "cell_type": "markdown",
   "metadata": {},
   "source": [
    "# Download Summary Plots\n",
    "\n",
    "Take the data_statistics.csv file that shows us how many images we have for species. Merge with the moths list CSV file. Then create a histogram to see how many images we have for each species."
   ]
  },
  {
   "cell_type": "code",
   "execution_count": null,
   "metadata": {},
   "outputs": [],
   "source": [
    "import os\n",
    "import pandas as pd\n",
    "import matplotlib.pyplot as plt\n",
    "import seaborn as sns\n",
    "\n",
    "sns.set(rc={'figure.figsize':(2,10)})\n",
    "plt.figure(figsize=(2,5))"
   ]
  },
  {
   "cell_type": "code",
   "execution_count": null,
   "metadata": {},
   "outputs": [],
   "source": [
    "home_dir = os.path.dirname(os.getcwd())\n",
    "home_dir"
   ]
  },
  {
   "cell_type": "markdown",
   "metadata": {},
   "source": [
    "## Using the Stats files"
   ]
  },
  {
   "cell_type": "code",
   "execution_count": null,
   "metadata": {},
   "outputs": [],
   "source": [
    "def report_image_counts_broken(stat_path, region_name, plot_both=True,\n",
    "                        zoom_cutoff=400, font_color='black', bw=20, bar_color='indigo',\n",
    "                        break_lower = 1000, break_upper = 6000, ymax=6500):\n",
    "\n",
    "    # Read data\n",
    "    data_stats = pd.read_csv(stat_path)\n",
    "\n",
    "    # Calculate species counts\n",
    "    n_species = len(data_stats)\n",
    "    n_species_1000 = len(data_stats[data_stats[\"n_imgs\"] == 1000])\n",
    "    n_species_0 = len(data_stats[data_stats[\"n_imgs\"] == 0])\n",
    "    n_images = data_stats[\"n_imgs\"].sum()\n",
    "\n",
    "    # Set seaborn style to dark\n",
    "    sns.set_style(\"dark\")\n",
    "\n",
    "    upper_range = ymax-break_upper\n",
    "    lower_range = break_lower\n",
    "\n",
    "    # Create subplots\n",

    "    fig, ax = plt.subplots(2, 1, figsize=(7.5, 3), sharex=True,\n",
    "                        gridspec_kw={'height_ratios': [upper_range/lower_range, 1]})\n",
    "\n",
    "    # Adjust plot styles for dark background and white font\n",
    "    for a in ax:\n",
    "        a.spines['bottom'].set_color(font_color)\n",
    "        a.spines['top'].set_color(font_color)\n",
    "        a.spines['left'].set_color(font_color)\n",
    "        a.spines['right'].set_color(font_color)\n",
    "        a.tick_params(axis='both', colors=font_color)\n",
    "\n",
    "\n",
    "    # Plot histogram\n",
    "    sns.histplot(data_stats, color=bar_color, ax=ax[0], x=\"n_imgs\",\n",
    "                binwidth=bw, palette='bright', edgecolor=font_color,\n",
    "                linewidth=0.5, alpha=0.75)\n",
    "    sns.histplot(data_stats, color=bar_color, ax=ax[1], x=\"n_imgs\",\n",
    "                binwidth=bw, palette='bright', edgecolor=font_color,\n",
    "                linewidth=0.5, alpha=0.75)\n",
    "    ax[0].set_title(f\"Histogram of image counts for {region_name} species\", color=font_color)\n",
    "    ax[1].set_xlabel(\"Image count\", color=font_color)\n",
    "    ax[0].set_ylabel(\"Species count\", color=font_color)\n",
    "    ax[1].set_ylabel(\"\", color=font_color)\n",
    "\n",
    "    # Apply broken y-axis\n",
    "    ax[1].set_ylim(0, break_lower)\n",
    "    ax[0].set_ylim(break_upper, ymax)\n",
    "\n",
    "    # Hide the spines between break_lower and break_upper\n",
    "    #for a in ax:\n",
    "    ax[1].spines['top'].set_visible(False)\n",
    "    ax[0].spines['bottom'].set_visible(False)\n",
    "    #a.spines['left'].set_visible(False)\n",
    "    #a.spines['right'].set_visible(False)\n",
    "\n",
    "    ax[0].tick_params(axis='both', length=10, colors=font_color)\n",
    "    ax[1].tick_params(axis='both', length=10, colors=font_color)\n",
    "\n",
    "    # Add a break line\n",
    "    d = .015\n",
    "    kwargs = dict(transform=ax[0].transAxes, color=font_color, clip_on=False)\n",
    "    ax[0].plot((-d, +d), (-d, +d), **kwargs)\n",
    "    ax[0].plot((1 - d, 1 + d), (-d, +d), **kwargs)\n",
    "    kwargs.update(transform=ax[1].transAxes)\n",
    "    ax[1].plot((-d, +d), (1 - d, 1 + d), **kwargs)\n",
    "    ax[1].plot((1 - d, 1 + d), (1 - d, 1 + d), **kwargs)\n",
    "\n",
    "    plt.savefig(f'./plots/{region_name}_image_counts_broken.png', transparent=True)\n"
   ]
  },
  {
   "cell_type": "code",
   "execution_count": null,
   "metadata": {},
   "outputs": [],
   "source": [
    "import pandas as pd\n",
    "import matplotlib.pyplot as plt\n",
    "import seaborn as sns\n",
    "\n",
    "def report_image_counts(stat_path, region_name, plot_both=True,\n",
    "                        zoom_cutoff=400, font_color='black', bar_color='indigo'):\n",
    "    # Set seaborn style to dark\n",
    "    sns.set_style(\"dark\")\n",
    "\n",
    "    data_stats = pd.read_csv(stat_path)\n",
    "    n_species = len(data_stats)\n",
    "    print(n_species)\n",
    "\n",
    "    # How many with 1000?\n",
    "    n_species_1000 = len(data_stats[data_stats[\"n_imgs\"] == 1000])\n",
    "    print(f\"{n_species_1000} species have 1000 images for {region_name} (out of {n_species})\")\n",
    "\n",
    "    # How many with 1000?\n",
    "    n_species_0 = len(data_stats[data_stats[\"n_imgs\"] == 0])\n",
    "    print(f\"{n_species_0} species have 0 images for {region_name} (out of {n_species})\")\n",
    "\n",
    "    # Total number of images\n",
    "    n_images = data_stats[\"n_imgs\"].sum()\n",
    "    print(f\"Total of {n_images} images downloaded for {region_name}\")\n",
    "\n",
    "    if plot_both:\n",
    "        fig, ax = plt.subplots(1, 2, figsize=(15, 3))\n",
    "        ax0 = ax[0]\n",
    "    else:\n",
    "        fig, ax = plt.subplots(1, 1, figsize=(7.5, 3))\n",
    "        ax0 = ax\n",
    "\n",
    "    # Adjust plot styles for dark background and white font\n",
    "    sns.histplot(data_stats, color=bar_color, ax=ax0, x=\"n_imgs\",\n",
    "                 binwidth=20, palette='bright', edgecolor=font_color,\n",
    "                 linewidth=0.5, alpha=0.75)\n",
    "    ax0.set_title(f\"Histogram of image counts for {region_name} species\", color=font_color)\n",
    "    ax0.set_xlabel(\"Image count\", color=font_color)\n",
    "    ax0.set_ylabel(\"Species count\", color=font_color)\n",
    "    ax0.tick_params(axis='both', colors=font_color)\n",
    "\n",
    "    if plot_both:\n",
    "        sns.histplot(data=data_stats.loc[data_stats['n_imgs'] > 0, ],\n",
    "                    color=bar_color, ax=ax[1], x=\"n_imgs\", binwidth=20,\n",
    "                    palette='bright', edgecolor=font_color, linewidth=0.5,\n",
    "                    alpha=0.75)\n",
    "        ax[1].set_title(f\"Histogram of image counts for {region_name} species (>0 images)\", color=font_color)\n",
    "        ax[1].set_xlabel(\"Image count\", color=font_color)\n",
    "        ax[1].set_ylabel(\"Species count\", color=font_color)\n",
    "        ax[1].tick_params(axis='both', colors=font_color)\n",
    "\n",
    "    # Save plot with transparent background for dark theme\n",
    "    plt.savefig(f'./plots/{region_name}_image_counts.png', transparent=True)"
   ]
  },
  {
   "cell_type": "markdown",
   "metadata": {},
   "source": [
    "## Downloaded Images"
   ]
  },
  {
   "cell_type": "code",
   "execution_count": null,
   "metadata": {},
   "outputs": [],
   "source": [
    "checklist_name = \"uksi-moths-keys\"\n",
    "uk_path = os.path.join(home_dir,\"data_stats_files\",\"data_stats_\"+checklist_name+\".csv\")\n",
    "\n",
    "report_image_counts(uk_path, \"UK\", font_color='white', plot_both=False, bar_color='teal')\n",
    "report_image_counts_broken(uk_path, \"UK\", font_color='white', plot_both=False,\n",
    "                           ymax=650, break_lower=300, break_upper=550, bar_color='teal')"
   ]
  },
  {
   "cell_type": "code",
   "execution_count": null,
   "metadata": {},
   "outputs": [],
   "source": [
    "checklist_name = \"uksi-macro-moths-keys\"\n",
    "uk_path = os.path.join(home_dir,\"data_stats_files\",\"data_stats_\"+checklist_name+\".csv\")\n",
    "\n",
    "report_image_counts(uk_path, \"UK macro\")"
   ]
  },
  {
   "cell_type": "code",
   "execution_count": null,
   "metadata": {},
   "outputs": [],
   "source": [
    "checklist_name = \"singapore-moths-keys-nodup\"\n",
    "singapore_path = os.path.join(home_dir,\"data_stats_files\",\"data_stats_\"+checklist_name+\".csv\")\n",
    "\n",
    "report_image_counts(singapore_path, \"Singapore\", font_color='white', plot_both=False, bar_color='indigo')"
   ]
  },
  {
   "cell_type": "code",
   "execution_count": null,
   "metadata": {},
   "outputs": [],
   "source": [
    "checklist_name = \"costarica-moths-keys-nodup\"\n",
    "cr_path = os.path.join(home_dir,\"data_stats_files\",\"data_stats_\"+checklist_name+\".csv\")\n",
    "\n",
    "report_image_counts(cr_path, \"Costa Rica\", zoom_cutoff=50, font_color='white', plot_both=False, bar_color='gold')\n",
    "report_image_counts_broken(cr_path, \"Costa Rica\", font_color='white', plot_both=False,\n",
    "                           ymax=6000, break_lower=200, break_upper=5100, bw=20, bar_color='gold')"
   ]
  },
  {
   "cell_type": "markdown",
   "metadata": {},
   "source": [
    "## Counting from file paths"
   ]
  },
  {
   "cell_type": "markdown",
   "metadata": {},
   "source": [
    "First lets calculate the data statistics for the cropped images. "
   ]
  },
  {
   "cell_type": "code",
   "execution_count": null,
   "metadata": {},
   "outputs": [],
   "source": [
    "checklist_path = os.path.join(f\"/bask/projects/v/vjgo8416-amber/projects/gbif_download_standalone/species_checklists/{checklist_name}.csv\")\n",
    "\n",
    "checklist_species = pd.read_csv(checklist_path)\n",
    "\n",
    "checklist_species.head()\n"
   ]
  },
  {
   "cell_type": "code",
   "execution_count": null,
   "metadata": {},
   "outputs": [],
   "source": [
    "import os\n",
    "import pathlib  # BB\n",
    "\n",
    "def report_crop_images(checklist_name,\n",
    "                       region_name,\n",
    "                       image_path = '/bask/homes/f/fspo1218/amber/data/binary_moth_training/gbif_crops/',\n",
    "                       zoom_cutoff=400,\n",
    "                       add_missing=True):\n",
    "\n",
    "    result = [filepath for filepath in pathlib.Path(image_path).glob('**/*.jpg')]  # BB\n",
    "    #result = [os.path.join(dp, f) for dp, dn, filenames in os.walk(image_path) for f in filenames if os.path.splitext(f)[1] == '.jpg']\n",
    "    checklist_path = os.path.join(f\"/bask/projects/v/vjgo8416-amber/projects/gbif_download_standalone/species_checklists/{checklist_name}-nodup.csv\")\n",
    "\n",
    "    checklist_species = pd.read_csv(checklist_path)\n",
    "\n",
    "    df = pd.DataFrame({'path':result})\n",
    "\n",
    "    df['species'] = [os.path.basename(os.path.dirname(path)) for path in df['path']]\n",
    "    df['genus'] = [os.path.basename(os.path.dirname(os.path.dirname(path))) for path in df['path']]\n",
    "    df['family'] = [os.path.basename(os.path.dirname(os.path.dirname(os.path.dirname(path)))) for path in df['path']]\n",
    "    df = df.loc[df['species'] != '.ipynb_checkpoints', ]\n",
    "\n",
    "    df2 = df[['species', 'genus', 'family']].value_counts()\n",
    "    df2 = df2.reset_index(name='counts')\n",
    "    df2.columns = ['species', 'genus', 'family', 'n_imgs']\n",
    "\n",
    "    df2 = df2.loc[df2['species'].isin(checklist_species['species_name_provided']), ]\n",
    "\n",
    "\n",
    "\n",
    "    # For each checklist_species not included, add a row with 0\n",
    "    if add_missing:\n",
    "        checklist_missing = checklist_species.loc[~checklist_species['gbif_species_name'].isin(df2['species']), ]\n",
    "        checklist_missing = checklist_missing[['gbif_species_name', 'genus_name', 'family_name']]\n",
    "        checklist_missing['n_imgs'] = 0\n",
    "        checklist_missing.columns = ['species', 'genus', 'family', 'n_imgs']\n",
    "        df2 = pd.concat([df2, checklist_missing])\n",
    "\n",
    "    # How many with 500?\n",
    "    n_species=df2.shape[0]\n",
    "    n_species_1000 = len(df2[df2[\"n_imgs\"] >= 1000])\n",
    "    print(f\"{n_species_1000} species have ≥ 1000 images (out of {n_species})\")\n",
    "\n",
    "    n_species_0 = len(df2[df2[\"n_imgs\"] == 0])\n",
    "    print(f\"{n_species_0} species have 0 images (out of {n_species})\")\n",
    "\n",
    "    #return df2\n",
    "    fig, ax = plt.subplots(1, 2, figsize=(15, 3))\n",
    "    sns.histplot(df2,\n",
    "                ax=ax[0],\n",
    "                x=\"n_imgs\",\n",
    "                binwidth=20).set(title=f\"Histogram of cropped image counts for {region_name} species\")\n",
    "\n",
    "    ax[0].set_xlabel(\"Image count\")\n",
    "    ax[0].set_ylabel(\"Species count\")\n",
    "\n",
    "    sns.histplot(df2.loc[df2['n_imgs'] <= 400, ],\n",
    "                ax=ax[1],\n",
    "                  x=\"n_imgs\",\n",
    "                  binwidth=20).set(title=f\"Histogram of cropped image counts for {region_name} species\\n(zoomed to n ≤ {zoom_cutoff})\")\n",
    "\n",
    "    ax[1].set_xlabel(\"Image count\")\n",
    "    ax[1].set_ylabel(\"Species count\")\n",
    "    plt.savefig(f'./plots/{region_name}_image_counts_cropped.png', bbox_inches=\"tight\")\n",
    "\n",
    "    return df2"
   ]
  },
  {
   "cell_type": "code",
   "execution_count": null,
   "metadata": {},
   "outputs": [],
   "source": [
    "out = report_crop_images(\"uksi-moths-keys\", \"UK Macro\",\n",
    "                         image_path = '/bask/homes/f/fspo1218/amber/data/gbif_download_standalone/gbif_images/',\n",
    "                         add_missing=True)\n",
    "\n",
    "out.head()"
   ]
  },
  {
   "cell_type": "code",
   "execution_count": null,
   "metadata": {},
   "outputs": [],
   "source": [
    "out.shape"
   ]
  },
  {
   "cell_type": "code",
   "execution_count": null,
   "metadata": {},
   "outputs": [],
   "source": [
    "out[out['species'].str.contains('cossus', case=False)]"
   ]
  },
  {
   "cell_type": "code",
   "execution_count": null,
   "metadata": {},
   "outputs": [],
   "source": [
    "report_crop_images(\"uksi-moths-keys\", \"UK\",\n",
    "                   image_path = '/bask/homes/f/fspo1218/amber/data/gbif_download_standalone/gbif_images/',\n",
    "                   add_missing=False)"
   ]
  },
  {
   "cell_type": "code",
   "execution_count": null,
   "metadata": {},
   "outputs": [],
   "source": [
    "report_crop_images(\"singapore-moths-keys\", \"Singapore\", add_missing=True)"
   ]
  },
  {
   "cell_type": "code",
   "execution_count": null,
   "metadata": {},
   "outputs": [],
   "source": [
    "report_crop_images(\"costarica-moths-keys\", \"Costa Rica\", add_missing=False)"
   ]
  },
  {
   "cell_type": "code",
   "execution_count": null,
   "metadata": {},
   "outputs": [],
   "source": []
  }
 ],
 "metadata": {
  "kernelspec": {
   "display_name": "Python 3",
   "language": "python",
   "name": "python3"
  },
  "language_info": {
   "codemirror_mode": {
    "name": "ipython",
    "version": 3
   },
   "file_extension": ".py",
   "mimetype": "text/x-python",
   "name": "python",
   "nbconvert_exporter": "python",
   "pygments_lexer": "ipython3",
   "version": "3.9.17"
  }
 },
 "nbformat": 4,
 "nbformat_minor": 4
}
