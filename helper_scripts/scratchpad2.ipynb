{
 "cells": [
  {
   "cell_type": "code",
   "execution_count": 3,
   "metadata": {},
   "outputs": [],
   "source": [
    "import pandas as pd\n",
    "import os\n",
    "import sys\n",
    "from pygbif import species as species_api\n",
    "from pygbif import occurrences as occ\n",
    "from dwca.read import DwCAReader\n",
    "\n",
    "sys.path.append(os.path.abspath('..'))\n",
    "\n",
    "import fetch_taxon_keys\n",
    "import argparse"
   ]
  },
  {
   "cell_type": "code",
   "execution_count": 5,
   "metadata": {},
   "outputs": [
    {
     "name": "stdout",
     "output_type": "stream",
     "text": [
      "Starting reading the multimedia file...\n"
     ]
    },
    {
     "name": "stderr",
     "output_type": "stream",
     "text": [
      "/bask/homes/r/rybf4168/.conda/envs/gbif_download_standalone/lib/python3.11/site-packages/dwca/read.py:203: DtypeWarning: Columns (7) have mixed types. Specify dtype option on import or set low_memory=False.\n",
      "  df = read_csv(self.absolute_temporary_path(relative_path), **kwargs)\n"
     ]
    },
    {
     "name": "stdout",
     "output_type": "stream",
     "text": [
      "Finished reading the multimedia...\n",
      "Starting reading the occurrence file...\n"
     ]
    },
    {
     "name": "stderr",
     "output_type": "stream",
     "text": [
      "/bask/homes/r/rybf4168/.conda/envs/gbif_download_standalone/lib/python3.11/site-packages/dwca/read.py:203: DtypeWarning: Columns (2,9,26,35,39,42,46,47,48,54,56,57,58,59,60,61,62,64,65,66,67,68,69,70,71,74,75,76,77,78,79,81,82,84,85,86,87,88,89,90,91,92,93,94,95,96,97,98,99,100,101,102,103,109,110,111,113,114,115,116,117,118,119,120,121,122,123,124,125,126,127,128,129,130,132,135,136,142,143,144,145,147,148,149,150,151,153,155,156,157,158,159,160,161,162,163,165,167,170,171,172,173,174,175,176,177,178,179,180,181,183,184,185,186,187,189,190,191,192,193,195,201,204,205,207,210,211,212,214,215,217,219,220,221,222,224,225,227,228,229,230,231,232,242,243,247,249,250,251,252,253,254,255,256) have mixed types. Specify dtype option on import or set low_memory=False.\n",
      "  df = read_csv(self.absolute_temporary_path(relative_path), **kwargs)\n"
     ]
    },
    {
     "name": "stdout",
     "output_type": "stream",
     "text": [
      "Finished reading the occurrence file...\n"
     ]
    }
   ],
   "source": [
    "# Load the occ dwca file\n",
    "\n",
    "dwca_file = \"../../../data/gbif-species-trainer-AMI-fork/dwca_files/Erebidae.zip\"\n",
    "\n",
    "with DwCAReader(dwca_file) as dwca:\n",
    "\n",
    "    print('Starting reading the multimedia file...')\n",
    "    media_df = dwca.pd_read(\n",
    "        \"multimedia.txt\", parse_dates=True, on_bad_lines=\"skip\")\n",
    "    print('Finished reading the multimedia...')\n",
    "\n",
    "    print('Starting reading the occurrence file...')\n",
    "    occ_df = dwca.pd_read(\n",
    "        \"occurrence.txt\", parse_dates=True, on_bad_lines=\"skip\")\n",
    "    print('Finished reading the occurrence file...')\n",
    "\n",
    "\n",
    "\n"
   ]
  },
  {
   "cell_type": "code",
   "execution_count": 6,
   "metadata": {},
   "outputs": [
    {
     "data": {
      "text/plain": [
       "Index(['id', 'abstract', 'accessRights', 'accrualMethod', 'accrualPeriodicity',\n",
       "       'accrualPolicy', 'alternative', 'audience', 'available',\n",
       "       'bibliographicCitation',\n",
       "       ...\n",
       "       'level0Name', 'level1Gid', 'level1Name', 'level2Gid', 'level2Name',\n",
       "       'level3Gid', 'level3Name', 'iucnRedListCategory', 'eventType',\n",
       "       'geodeticDatum'],\n",
       "      dtype='object', length=260)"
      ]
     },
     "execution_count": 6,
     "metadata": {},
     "output_type": "execute_result"
    }
   ],
   "source": [
    "occ_df.columns"
   ]
  },
  {
   "cell_type": "code",
   "execution_count": 9,
   "metadata": {},
   "outputs": [],
   "source": [
    "occ_df[\"taxonID\"] = occ_df[\"taxonID\"].astype(str)"
   ]
  },
  {
   "cell_type": "code",
   "execution_count": 14,
   "metadata": {},
   "outputs": [],
   "source": [
    "contains = \"5115818\" in occ_df[\"taxonID\"].values"
   ]
  },
  {
   "cell_type": "code",
   "execution_count": 15,
   "metadata": {},
   "outputs": [
    {
     "name": "stdout",
     "output_type": "stream",
     "text": [
      "True\n"
     ]
    }
   ],
   "source": [
    "print(contains)"
   ]
  },
  {
   "cell_type": "code",
   "execution_count": 12,
   "metadata": {},
   "outputs": [],
   "source": [
    "data = occ.search(taxonKey=\"8148822\", mediatype=\"StillImage\", limit=1)"
   ]
  },
  {
   "cell_type": "code",
   "execution_count": 13,
   "metadata": {},
   "outputs": [
    {
     "data": {
      "text/plain": [
       "{'offset': 0,\n",
       " 'limit': 1,\n",
       " 'endOfRecords': False,\n",
       " 'count': 4604,\n",
       " 'results': [{'key': 4028651238,\n",
       "   'datasetKey': '50c9509d-22c7-4a22-a47d-8c48425ef4a7',\n",
       "   'publishingOrgKey': '28eb1a3f-1c15-4a95-931a-4af90ecb574d',\n",
       "   'installationKey': '997448a8-f762-11e1-a439-00145eb45e9a',\n",
       "   'hostingOrganizationKey': '28eb1a3f-1c15-4a95-931a-4af90ecb574d',\n",
       "   'publishingCountry': 'US',\n",
       "   'protocol': 'DWC_ARCHIVE',\n",
       "   'lastCrawled': '2023-09-28T05:00:54.279+00:00',\n",
       "   'lastParsed': '2023-09-28T14:01:30.570+00:00',\n",
       "   'crawlId': 399,\n",
       "   'extensions': {'http://rs.gbif.org/terms/1.0/Multimedia': [{'http://rs.tdwg.org/dwc/terms/catalogNumber': '254185702',\n",
       "      'http://purl.org/dc/terms/references': 'https://www.inaturalist.org/photos/254185702',\n",
       "      'http://purl.org/dc/terms/format': 'image/jpeg',\n",
       "      'http://purl.org/dc/terms/identifier': 'https://inaturalist-open-data.s3.amazonaws.com/photos/254185702/original.jpeg',\n",
       "      'http://purl.org/dc/terms/rightsHolder': 'StefanVV',\n",
       "      'http://purl.org/dc/terms/publisher': 'iNaturalist',\n",
       "      'http://purl.org/dc/terms/creator': 'StefanVV',\n",
       "      'http://purl.org/dc/terms/created': '2023-01-30T13:42:26-08:00',\n",
       "      'http://purl.org/dc/terms/license': 'http://creativecommons.org/licenses/by-nc/4.0/',\n",
       "      'http://purl.org/dc/terms/type': 'StillImage'}]},\n",
       "   'basisOfRecord': 'HUMAN_OBSERVATION',\n",
       "   'occurrenceStatus': 'PRESENT',\n",
       "   'taxonKey': 5115818,\n",
       "   'kingdomKey': 1,\n",
       "   'phylumKey': 54,\n",
       "   'classKey': 216,\n",
       "   'orderKey': 797,\n",
       "   'familyKey': 4532185,\n",
       "   'genusKey': 4689585,\n",
       "   'speciesKey': 8148822,\n",
       "   'acceptedTaxonKey': 8148822,\n",
       "   'scientificName': 'Arctia villica Linnaeus, 1758',\n",
       "   'acceptedScientificName': 'Epicallia villica Linnaeus, 1758',\n",
       "   'kingdom': 'Animalia',\n",
       "   'phylum': 'Arthropoda',\n",
       "   'order': 'Lepidoptera',\n",
       "   'family': 'Erebidae',\n",
       "   'genus': 'Epicallia',\n",
       "   'species': 'Epicallia villica',\n",
       "   'genericName': 'Arctia',\n",
       "   'specificEpithet': 'villica',\n",
       "   'taxonRank': 'SPECIES',\n",
       "   'taxonomicStatus': 'SYNONYM',\n",
       "   'iucnRedListCategory': 'NE',\n",
       "   'dateIdentified': '2023-01-30T11:58:42',\n",
       "   'decimalLatitude': 42.506233,\n",
       "   'decimalLongitude': 26.264169,\n",
       "   'coordinateUncertaintyInMeters': 1173.0,\n",
       "   'continent': 'EUROPE',\n",
       "   'stateProvince': 'Sliven',\n",
       "   'gadm': {'level0': {'gid': 'BGR', 'name': 'Bulgaria'},\n",
       "    'level1': {'gid': 'BGR.19_1', 'name': 'Sliven'},\n",
       "    'level2': {'gid': 'BGR.19.3_1', 'name': 'Sliven'}},\n",
       "   'year': 2023,\n",
       "   'month': 1,\n",
       "   'day': 30,\n",
       "   'eventDate': '2023-01-30T13:42:26',\n",
       "   'issues': ['COORDINATE_ROUNDED',\n",
       "    'CONTINENT_DERIVED_FROM_COORDINATES',\n",
       "    'TAXON_MATCH_TAXON_ID_IGNORED'],\n",
       "   'modified': '2023-07-26T06:43:27.000+00:00',\n",
       "   'lastInterpreted': '2023-09-28T14:01:30.570+00:00',\n",
       "   'references': 'https://www.inaturalist.org/observations/147691975',\n",
       "   'license': 'http://creativecommons.org/licenses/by-nc/4.0/legalcode',\n",
       "   'identifiers': [{'identifier': '147691975'}],\n",
       "   'media': [{'type': 'StillImage',\n",
       "     'format': 'image/jpeg',\n",
       "     'references': 'https://www.inaturalist.org/photos/254185702',\n",
       "     'created': '2023-01-30T21:42:26.000+00:00',\n",
       "     'creator': 'StefanVV',\n",
       "     'publisher': 'iNaturalist',\n",
       "     'license': 'http://creativecommons.org/licenses/by-nc/4.0/',\n",
       "     'rightsHolder': 'StefanVV',\n",
       "     'identifier': 'https://inaturalist-open-data.s3.amazonaws.com/photos/254185702/original.jpeg'}],\n",
       "   'facts': [],\n",
       "   'relations': [],\n",
       "   'isInCluster': False,\n",
       "   'datasetName': 'iNaturalist research-grade observations',\n",
       "   'recordedBy': 'StefanVV',\n",
       "   'identifiedBy': 'Christoph Posch',\n",
       "   'geodeticDatum': 'WGS84',\n",
       "   'class': 'Insecta',\n",
       "   'countryCode': 'BG',\n",
       "   'recordedByIDs': [],\n",
       "   'identifiedByIDs': [],\n",
       "   'country': 'Bulgaria',\n",
       "   'rightsHolder': 'StefanVV',\n",
       "   'identifier': '147691975',\n",
       "   'http://unknown.org/nick': 'stefanvv',\n",
       "   'verbatimEventDate': '2023-01-30 13:42:26',\n",
       "   'verbatimLocality': 'Кермен',\n",
       "   'gbifID': '4028651238',\n",
       "   'collectionCode': 'Observations',\n",
       "   'occurrenceID': 'https://www.inaturalist.org/observations/147691975',\n",
       "   'taxonID': '336697',\n",
       "   'catalogNumber': '147691975',\n",
       "   'institutionCode': 'iNaturalist',\n",
       "   'eventTime': '13:42:26+02:00',\n",
       "   'http://unknown.org/captive': 'wild',\n",
       "   'identificationID': '330644002'}],\n",
       " 'facets': []}"
      ]
     },
     "execution_count": 13,
     "metadata": {},
     "output_type": "execute_result"
    }
   ],
   "source": [
    "data"
   ]
  },
  {
   "cell_type": "code",
   "execution_count": null,
   "metadata": {},
   "outputs": [],
   "source": []
  }
 ],
 "metadata": {
  "kernelspec": {
   "display_name": "gbif_download_standalone (Conda)",
   "language": "python",
   "name": "sys_gbif_download_standalone"
  },
  "language_info": {
   "codemirror_mode": {
    "name": "ipython",
    "version": 3
   },
   "file_extension": ".py",
   "mimetype": "text/x-python",
   "name": "python",
   "nbconvert_exporter": "python",
   "pygments_lexer": "ipython3",
   "version": "3.11.5"
  }
 },
 "nbformat": 4,
 "nbformat_minor": 4
}
