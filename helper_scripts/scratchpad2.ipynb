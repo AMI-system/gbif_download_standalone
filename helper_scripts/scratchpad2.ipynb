{
 "cells": [
  {
   "cell_type": "code",
   "execution_count": 1,
   "metadata": {},
   "outputs": [],
   "source": [
    "import pandas as pd\n",
    "import os\n",
    "import sys\n",
    "from pygbif import species as species_api\n",
    "from pygbif import occurrences as occ\n",
    "from dwca.read import DwCAReader\n",
    "\n",
    "sys.path.append(os.path.abspath('..'))\n",
    "\n",
    "import fetch_taxon_keys\n",
    "import argparse"
   ]
  },
  {
   "cell_type": "code",
   "execution_count": 2,
   "metadata": {},
   "outputs": [
    {
     "name": "stdout",
     "output_type": "stream",
     "text": [
      "Starting reading the multimedia file...\n"
     ]
    },
    {
     "name": "stderr",
     "output_type": "stream",
     "text": [
      "/Users/lbokeria/miniforge3/envs/gbif_download_standalone/lib/python3.11/site-packages/dwca/read.py:203: DtypeWarning: Columns (7) have mixed types. Specify dtype option on import or set low_memory=False.\n",
      "  df = read_csv(self.absolute_temporary_path(relative_path), **kwargs)\n"
     ]
    },
    {
     "name": "stdout",
     "output_type": "stream",
     "text": [
      "Finished reading the multimedia...\n",
      "Starting reading the occurrence file...\n"
     ]
    },
    {
     "name": "stderr",
     "output_type": "stream",
     "text": [
      "/Users/lbokeria/miniforge3/envs/gbif_download_standalone/lib/python3.11/site-packages/dwca/read.py:203: DtypeWarning: Columns (1,2,3,5,7,8,9,10,11,12,13,14,15,16,18,19,20,21,22,23,24,25,28,29,30,31,32,33,35,36,38,39,40,41,42,43,44,45,46,47,48,50,51,52,53,54,55,56,57,63,64,65,67,68,69,70,71,72,73,74,75,76,77,78,79,80,81,82,83,84,86,89,90,96,97,98,99,101,102,103,104,105,110,111,112,113,114,115,116,119,121,124,125,126,127,128,129,130,131,132,133,134,135,137,138,139,140,141,143,144,145,146,147,149,155,159,161,164,165,166,168,169,171,179,195,199,201,202,203,204,205,206,207,208,209) have mixed types. Specify dtype option on import or set low_memory=False.\n",
      "  df = read_csv(self.absolute_temporary_path(relative_path), **kwargs)\n"
     ]
    },
    {
     "name": "stdout",
     "output_type": "stream",
     "text": [
      "Finished reading the occurrence file...\n"
     ]
    }
   ],
   "source": [
    "# Load the occ dwca file\n",
    "\n",
    "# dwca_file = \"../../../data/gbif-species-trainer-AMI-fork/dwca_files/Erebidae.zip\"\n",
    "dwca_file = \"../../gbif-species-trainer-data/dwca_files/Erebidae_2023_10_03.zip\"\n",
    "\n",
    "with DwCAReader(dwca_file) as dwca:\n",
    "\n",
    "    print('Starting reading the multimedia file...')\n",
    "    media_df = dwca.pd_read(\n",
    "        \"multimedia.txt\", parse_dates=True, on_bad_lines=\"skip\")\n",
    "    print('Finished reading the multimedia...')\n",
    "\n",
    "    print('Starting reading the occurrence file...')\n",
    "    occ_df = dwca.pd_read(\n",
    "        \"occurrence.txt\", parse_dates=True, on_bad_lines=\"skip\")\n",
    "    print('Finished reading the occurrence file...')\n",
    "\n",
    "\n",
    "\n"
   ]
  },
  {
   "cell_type": "code",
   "execution_count": 3,
   "metadata": {},
   "outputs": [
    {
     "data": {
      "text/plain": [
       "Index(['id', 'accessRights', 'bibliographicCitation', 'language', 'license',\n",
       "       'modified', 'publisher', 'references', 'rightsHolder', 'type',\n",
       "       ...\n",
       "       'level0Name', 'level1Gid', 'level1Name', 'level2Gid', 'level2Name',\n",
       "       'level3Gid', 'level3Name', 'iucnRedListCategory', 'eventType',\n",
       "       'geodeticDatum'],\n",
       "      dtype='object', length=213)"
      ]
     },
     "execution_count": 3,
     "metadata": {},
     "output_type": "execute_result"
    }
   ],
   "source": [
    "occ_df.columns"
   ]
  },
  {
   "cell_type": "code",
   "execution_count": 4,
   "metadata": {},
   "outputs": [
    {
     "name": "stdout",
     "output_type": "stream",
     "text": [
      "True\n"
     ]
    }
   ],
   "source": [
    "occ_df[\"taxonID\"] = occ_df[\"taxonID\"].astype(str)\n",
    "\n",
    "contains = \"5115818\" in occ_df[\"taxonID\"].values\n",
    "\n",
    "print(contains)"
   ]
  },
  {
   "cell_type": "code",
   "execution_count": 7,
   "metadata": {},
   "outputs": [],
   "source": [
    "a = occ_df[occ_df[\"taxonID\"] == \"5115818\"]"
   ]
  },
  {
   "cell_type": "code",
   "execution_count": 8,
   "metadata": {},
   "outputs": [],
   "source": [
    "occ_df[\"acceptedTaxonKey\"] = occ_df[\"acceptedTaxonKey\"].astype(str)"
   ]
  },
  {
   "cell_type": "code",
   "execution_count": 9,
   "metadata": {},
   "outputs": [
    {
     "name": "stdout",
     "output_type": "stream",
     "text": [
      "False\n"
     ]
    }
   ],
   "source": [
    "contains = \"5115818\" in occ_df[\"acceptedTaxonKey\"].values\n",
    "print(contains)"
   ]
  },
  {
   "cell_type": "code",
   "execution_count": 10,
   "metadata": {},
   "outputs": [
    {
     "name": "stdout",
     "output_type": "stream",
     "text": [
      "True\n"
     ]
    }
   ],
   "source": [
    "contains = \"8148822\" in occ_df[\"acceptedTaxonKey\"].values\n",
    "print(contains)"
   ]
  },
  {
   "cell_type": "code",
   "execution_count": 10,
   "metadata": {},
   "outputs": [
    {
     "data": {
      "text/html": [
       "<div>\n",
       "<style scoped>\n",
       "    .dataframe tbody tr th:only-of-type {\n",
       "        vertical-align: middle;\n",
       "    }\n",
       "\n",
       "    .dataframe tbody tr th {\n",
       "        vertical-align: top;\n",
       "    }\n",
       "\n",
       "    .dataframe thead th {\n",
       "        text-align: right;\n",
       "    }\n",
       "</style>\n",
       "<table border=\"1\" class=\"dataframe\">\n",
       "  <thead>\n",
       "    <tr style=\"text-align: right;\">\n",
       "      <th></th>\n",
       "      <th>id</th>\n",
       "      <th>accessRights</th>\n",
       "      <th>bibliographicCitation</th>\n",
       "      <th>language</th>\n",
       "      <th>license</th>\n",
       "      <th>modified</th>\n",
       "      <th>publisher</th>\n",
       "      <th>references</th>\n",
       "      <th>rightsHolder</th>\n",
       "      <th>type</th>\n",
       "      <th>...</th>\n",
       "      <th>level0Name</th>\n",
       "      <th>level1Gid</th>\n",
       "      <th>level1Name</th>\n",
       "      <th>level2Gid</th>\n",
       "      <th>level2Name</th>\n",
       "      <th>level3Gid</th>\n",
       "      <th>level3Name</th>\n",
       "      <th>iucnRedListCategory</th>\n",
       "      <th>eventType</th>\n",
       "      <th>geodeticDatum</th>\n",
       "    </tr>\n",
       "  </thead>\n",
       "  <tbody>\n",
       "  </tbody>\n",
       "</table>\n",
       "<p>0 rows × 213 columns</p>\n",
       "</div>"
      ],
      "text/plain": [
       "Empty DataFrame\n",
       "Columns: [id, accessRights, bibliographicCitation, language, license, modified, publisher, references, rightsHolder, type, institutionID, collectionID, datasetID, institutionCode, collectionCode, datasetName, ownerInstitutionCode, basisOfRecord, informationWithheld, dataGeneralizations, dynamicProperties, occurrenceID, catalogNumber, recordNumber, recordedBy, recordedByID, individualCount, organismQuantity, organismQuantityType, sex, lifeStage, reproductiveCondition, behavior, establishmentMeans, degreeOfEstablishment, pathway, georeferenceVerificationStatus, occurrenceStatus, preparations, disposition, associatedOccurrences, associatedReferences, associatedSequences, associatedTaxa, otherCatalogNumbers, occurrenceRemarks, organismID, organismName, organismScope, associatedOrganisms, previousIdentifications, organismRemarks, materialSampleID, eventID, parentEventID, fieldNumber, eventDate, eventTime, startDayOfYear, endDayOfYear, year, month, day, verbatimEventDate, habitat, samplingProtocol, sampleSizeValue, sampleSizeUnit, samplingEffort, fieldNotes, eventRemarks, locationID, higherGeographyID, higherGeography, continent, waterBody, islandGroup, island, countryCode, stateProvince, county, municipality, locality, verbatimLocality, verbatimElevation, verticalDatum, verbatimDepth, minimumDistanceAboveSurfaceInMeters, maximumDistanceAboveSurfaceInMeters, locationAccordingTo, locationRemarks, decimalLatitude, decimalLongitude, coordinateUncertaintyInMeters, coordinatePrecision, pointRadiusSpatialFit, verbatimCoordinateSystem, verbatimSRS, footprintWKT, footprintSRS, ...]\n",
       "Index: []\n",
       "\n",
       "[0 rows x 213 columns]"
      ]
     },
     "execution_count": 10,
     "metadata": {},
     "output_type": "execute_result"
    }
   ],
   "source": [
    "occ_df_small = occ_df[occ_df[\"acceptedTaxonKey\"] == \"5115818\"]\n",
    "occ_df_small"
   ]
  },
  {
   "cell_type": "code",
   "execution_count": null,
   "metadata": {},
   "outputs": [],
   "source": [
    "data = occ.search(taxonKey=\"5115818\", mediatype=\"StillImage\", limit=1)\n",
    "data\n"
   ]
  },
  {
   "cell_type": "code",
   "execution_count": null,
   "metadata": {},
   "outputs": [],
   "source": [
    "data = occ.search(taxonKey=\"8148822\", mediatype=\"StillImage\", limit=1)\n",
    "data"
   ]
  }
 ],
 "metadata": {
  "kernelspec": {
   "display_name": "gbif_download_standalone",
   "language": "python",
   "name": "python3"
  },
  "language_info": {
   "codemirror_mode": {
    "name": "ipython",
    "version": 3
   },
   "file_extension": ".py",
   "mimetype": "text/x-python",
   "name": "python",
   "nbconvert_exporter": "python",
   "pygments_lexer": "ipython3",
   "version": "3.11.5"
  }
 },
 "nbformat": 4,
 "nbformat_minor": 4
}
