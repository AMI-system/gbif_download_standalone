{
 "cells": [
  {
   "cell_type": "code",
   "execution_count": 1,
   "id": "f90cd8ed-c1f7-46ba-81ce-0b2e6c655faf",
   "metadata": {},
   "outputs": [],
   "source": [
    "import os\n",
    "import pandas as pd\n",
    "import shutil"
   ]
  },
  {
   "cell_type": "code",
   "execution_count": null,
   "id": "a2122c12-ad9f-4f61-87f7-b63612686a27",
   "metadata": {},
   "outputs": [],
   "source": [
    "home_dir = \"/bask/projects/v/vjgo8416-amber/projects/gbif_download_standalone/\"\n",
    "data_dir = \"/bask/projects/v/vjgo8416-amber/data/gbif_download_standalone/\""
   ]
  },
  {
   "cell_type": "code",
   "execution_count": null,
   "id": "4adf107c-f420-4ab0-9520-7f3a66499da4",
   "metadata": {},
   "outputs": [],
   "source": [
    "slr = pd.read_csv(os.path.join(home_dir,\"species_checklists\",\"costarica-moths-keys-nodup.csv\"))"
   ]
  },
  {
   "cell_type": "code",
   "execution_count": null,
   "id": "2eb5a093-4604-4473-8978-daa70d199e0a",
   "metadata": {},
   "outputs": [],
   "source": [
    "slr.shape"
   ]
  },
  {
   "cell_type": "code",
   "execution_count": null,
   "id": "ff5d80ee-0583-4d2f-8e12-51b785d1385f",
   "metadata": {},
   "outputs": [],
   "source": [
    "slr.head(10)"
   ]
  },
  {
   "cell_type": "code",
   "execution_count": null,
   "id": "264d110e-8ef2-46f2-bca1-f3f6ae6568e4",
   "metadata": {},
   "outputs": [],
   "source": [
    "for idx, iRow in slr.iterrows():\n",
    "        \n",
    "    if iRow[\"gbif_species_name\"] != \"NotAvail\":\n",
    "        \n",
    "        # Get the folder name\n",
    "        dirname = os.path.join(data_dir,\"gbif_images\",iRow[\"family_name\"],iRow[\"genus_name\"],iRow[\"gbif_species_name\"])\n",
    "        \n",
    "        if os.path.isdir(dirname):\n",
    "            print('Deleting...')\n",
    "            shutil.rmtree(dirname)\n",
    "            print('Deleted!')\n",
    "        else:\n",
    "            print('Not a dir')\n",
    "    \n",
    "    \n",
    "    \n",
    "    "
   ]
  },
  {
   "cell_type": "code",
   "execution_count": null,
   "id": "6ff66e92-0b0f-415b-8c4c-9a61a8462c33",
   "metadata": {},
   "outputs": [],
   "source": []
  }
 ],
 "metadata": {
  "kernelspec": {
   "display_name": "gbif_download_standalone",
   "language": "python",
   "name": "python3"
  },
  "language_info": {
   "codemirror_mode": {
    "name": "ipython",
    "version": 3
   },
   "file_extension": ".py",
   "mimetype": "text/x-python",
   "name": "python",
   "nbconvert_exporter": "python",
   "pygments_lexer": "ipython3",
   "version": "3.11.5"
  }
 },
 "nbformat": 4,
 "nbformat_minor": 5
}
