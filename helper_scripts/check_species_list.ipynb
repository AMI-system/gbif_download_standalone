{
 "cells": [
  {
   "cell_type": "markdown",
   "metadata": {},
   "source": [
    "This script is used to quickly run fetch_taxon_keys code to get the taxonomic keys for a given species list"
   ]
  },
  {
   "cell_type": "code",
   "execution_count": 1,
   "metadata": {},
   "outputs": [],
   "source": [
    "import pandas as pd\n",
    "import os\n",
    "import sys\n",
    "\n",
    "sys.path.append(os.path.abspath('..'))\n",
    "\n",
    "import fetch_taxon_keys"
   ]
  },
  {
   "cell_type": "code",
   "execution_count": 2,
   "metadata": {},
   "outputs": [
    {
     "name": "stdout",
     "output_type": "stream",
     "text": [
      "Fetching for Nemophora aurisparsella\n",
      "Fetching for Nemophora decisella\n",
      "Fetching for Atteva fabriciella\n",
      "Fetching for Atteva wallengreni\n",
      "Fetching for Gunda subnotata\n",
      "Fetching for Ocinara albicollis\n",
      "Fetching for Penicillifera apicalis\n",
      "Fetching for Trilocha varians\n",
      "Fetching for Nigilgia anactis\n",
      "Fetching for Synechodes rotanicola\n"
     ]
    },
    {
     "name": "stderr",
     "output_type": "stream",
     "text": [
      "\n",
      "KeyboardInterrupt\n",
      "\n"
     ]
    }
   ],
   "source": [
    "# Fetch the taxonomic keys\n",
    "from types import SimpleNamespace\n",
    "\n",
    "args = SimpleNamespace(\n",
    "    species_filepath=\"../species_checklists/singapore-moths-preprocessed.csv\",\n",
    "    column_name_species=\"Scientific Name\",\n",
    "    column_name_authority=\"Authority\",\n",
    "    output_filepath=\"../species_checklists/singapore-moths-keys.csv\",\n",
    "    place=\"Tbilisi04October2023\",\n",
    "    use_pooling=False\n",
    ")\n",
    "\n",
    "fetch_taxon_keys.save_taxon_keys(args)"
   ]
  }
 ],
 "metadata": {
  "kernelspec": {
   "display_name": "gbif_download_standalone",
   "language": "python",
   "name": "python3"
  },
  "language_info": {
   "codemirror_mode": {
    "name": "ipython",
    "version": 3
   },
   "file_extension": ".py",
   "mimetype": "text/x-python",
   "name": "python",
   "nbconvert_exporter": "python",
   "pygments_lexer": "ipython3",
   "version": "3.11.5"
  },
  "orig_nbformat": 4
 },
 "nbformat": 4,
 "nbformat_minor": 2
}
