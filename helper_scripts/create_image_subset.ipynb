{
 "cells": [
  {
   "cell_type": "markdown",
   "id": "91019c3b-4ec4-461d-ba60-e4b3cd8ea375",
   "metadata": {},
   "source": [
    "# Subset Training Data"
   ]
  },
  {
   "cell_type": "markdown",
   "id": "f8a14d00-da76-4ddc-b0f2-35434a239f19",
   "metadata": {},
   "source": [
    "Create a subset of images for a particular region"
   ]
  },
  {
   "cell_type": "code",
   "execution_count": null,
   "id": "7810dd7f-516e-4548-ab85-84ee13d0605e",
   "metadata": {},
   "outputs": [],
   "source": [
    "import os\n",
    "import shutil\n",
    "import pandas as pd\n",
    "\n",
    "def filter_images_by_csvs(csv_path1, csv_path2, source_dir, destination_dir):\n",
    "    # Read CSV files to get the list of species from both files\n",
    "    df1 = pd.read_csv(csv_path1)\n",
    "    df2 = pd.read_csv(csv_path2)\n",
    "    species_set1 = set(df1['gbif_species_name'].astype(str))  # Assuming 'species' is the column containing species names\n",
    "    species_set2 = set(df2['gbif_species_name'].astype(str))\n",
    "\n",
    "    # Combine species from both CSVs\n",
    "    combined_species_set = species_set1.union(species_set2)\n",
    "\n",
    "    for family_dir in os.listdir(source_dir):\n",
    "        family_path = os.path.join(source_dir, family_dir)\n",
    "\n",
    "        if os.path.isdir(family_path):\n",
    "            for genus_dir in os.listdir(family_path):\n",
    "\n",
    "                genus_path = os.path.join(family_path, genus_dir)\n",
    "                if os.path.isdir(genus_path):\n",
    "                    for species_dir in os.listdir(genus_path):\n",
    "                        species_path = os.path.join(genus_path, species_dir)\n",
    "                        if os.path.isdir(species_path):\n",
    "                            if species_dir in combined_species_set:\n",
    "                                destination_species_path = os.path.join(destination_dir, family_dir, genus_dir, species_dir)\n",
    "                                source_species_path = os.path.join(source_dir, family_dir, genus_dir, species_dir)\n",
    "                                os.makedirs(destination_species_path, exist_ok=True)\n",
    "\n",
    "                                print(family_dir)\n",
    "                                print('- ' + genus_dir)\n",
    "\n",
    "                                for file_name in os.listdir(source_species_path):\n",
    "                                    if file_name.lower().endswith(\".jpeg\") or file_name.lower().endswith(\".jpg\") or file_name.lower().endswith(\".json\"):\n",
    "                                        source_file_path = os.path.join(source_species_path, file_name)\n",
    "                                        destination_file_path = os.path.join(destination_species_path, file_name)\n",
    "\n",
    "                                        shutil.copy(source_file_path, destination_file_path)\n",
    "\n",
    "\n",
    "\n",
    "                                #print('Copying ' + species_dir)\n",
    "\n",
    "                                # for file_name in os.listdir(species_path):\n",
    "                                #     image_path = os.path.join(species_path, file_name)\n",
    "\n"
   ]
  },
  {
   "cell_type": "code",
   "execution_count": null,
   "id": "2212ce6e-6f11-4c89-938b-c568174750e7",
   "metadata": {},
   "outputs": [],
   "source": [
    "csv_path1 = '/bask/homes/f/fspo1218/amber/projects/gbif_download_standalone/species_checklists/costarica-moths-keys-nodup.csv'\n",
    "csv_path2 = '/bask/homes/f/fspo1218/amber/projects/gbif_download_standalone/species_checklists/singapore-moths-keys-nodup.csv'\n",
    "source_directory = '/bask/homes/f/fspo1218/amber/data/gbif_download_standalone/gbif_images'\n",
    "destination_directory = '/bask/homes/f/fspo1218/amber/data/gbif_download_standalone/gbif_s_cr'\n",
    "\n",
    "filter_images_by_csvs(csv_path1, csv_path2, source_directory, destination_directory)"
   ]
  },
  {
   "cell_type": "code",
   "execution_count": null,
   "id": "666585b6-43ee-4a69-87ab-0a6759af985f",
   "metadata": {},
   "outputs": [],
   "source": []
  }
 ],
 "metadata": {
  "kernelspec": {
   "display_name": "kg_conda_env2 (Conda)",
   "language": "python",
   "name": "sys_kg_conda_env2"
  },
  "language_info": {
   "codemirror_mode": {
    "name": "ipython",
    "version": 3
   },
   "file_extension": ".py",
   "mimetype": "text/x-python",
   "name": "python",
   "nbconvert_exporter": "python",
   "pygments_lexer": "ipython3",
   "version": "3.9.17"
  }
 },
 "nbformat": 4,
 "nbformat_minor": 5
}
