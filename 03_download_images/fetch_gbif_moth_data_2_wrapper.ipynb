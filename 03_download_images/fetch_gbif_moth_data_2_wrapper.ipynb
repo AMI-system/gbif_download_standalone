{
 "cells": [
  {
   "cell_type": "code",
   "execution_count": 4,
   "metadata": {},
   "outputs": [],
   "source": [
    "from types import SimpleNamespace\n",
    "import argparse\n",
    "\n",
    "from fetch_gbif_moth_data2 import prep_and_read_files"
   ]
  },
  {
   "cell_type": "code",
   "execution_count": 5,
   "metadata": {},
   "outputs": [],
   "source": [
    "# args = SimpleNamespace(\n",
    "#     write_directory=\"/bask/homes/r/rybf4168/vjgo8416-amber/data/gbif_download_standalone/gbif_images/tests/\",\n",
    "#     dwca_dir=\"/bask/homes/r/rybf4168/vjgo8416-amber/data/gbif_download_standalone/dwca_preprocessed/occurrence_dataframes_20231018/\",\n",
    "#     species_checklist=\"/bask/homes/r/rybf4168/vjgo8416-amber/projects/gbif_download_standalone/species_checklists/uksi-moths-keys-nodup-small.csv\",\n",
    "#     use_parallel=False,\n",
    "#     use_multiproc=False,\n",
    "#     max_data_sp=10,\n",
    "#     skip_non_adults=True\n",
    "# )\n",
    "\n",
    "args = SimpleNamespace(\n",
    "    write_directory=\"/Users/lbokeria/Documents/projects/gbif-species-trainer-data/sandbox/gbif_images/\",\n",
    "    dwca_dir=\"/Users/lbokeria/Documents/projects/gbif-species-trainer-data/dwca_files/Sesiidae/\",\n",
    "    species_checklist=\"/Users/lbokeria/Documents/projects/gbif_download_standalone/species_checklists/uksi-moths-keys-nodup-small.csv\",\n",
    "    use_parallel=False,\n",
    "    use_multiproc=False,\n",
    "    max_data_sp=2,\n",
    "    skip_non_adults=True\n",
    ")"
   ]
  },
  {
   "cell_type": "code",
   "execution_count": 6,
   "metadata": {},
   "outputs": [
    {
     "name": "stdout",
     "output_type": "stream",
     "text": [
      "Calling download function...\n",
      "Downloading for Bembecia ichneumoniformis\n"
     ]
    },
    {
     "name": "stderr",
     "output_type": "stream",
     "text": [
      "/Users/lbokeria/miniforge3/envs/gbif_download_standalone/lib/python3.11/site-packages/dwca/read.py:203: DtypeWarning: Columns (61,76,180) have mixed types. Specify dtype option on import or set low_memory=False.\n",
      "  df = read_csv(self.absolute_temporary_path(relative_path), **kwargs)\n"
     ]
    },
    {
     "name": "stdout",
     "output_type": "stream",
     "text": [
      "Creating metadata\n",
      "Downloading complete for Bembecia ichneumoniformis with 2 images.\n",
      "Downloading for Paranthrene tabaniformis\n",
      "Creating metadata\n",
      "Downloading complete for Paranthrene tabaniformis with 2 images.\n",
      "Downloading for Pennisetia hylaeiformis\n",
      "Creating metadata\n",
      "Downloading complete for Pennisetia hylaeiformis with 2 images.\n",
      "Downloading for Pyropteron chrysidiformis\n",
      "Creating metadata\n",
      "Downloading complete for Pyropteron chrysidiformis with 2 images.\n",
      "Downloading for Pyropteron muscaeformis\n",
      "Creating metadata\n",
      "Downloading complete for Pyropteron muscaeformis with 0 images.\n",
      "Downloading for Sesia apiformis\n",
      "Creating metadata\n",
      "Downloading complete for Sesia apiformis with 2 images.\n",
      "Downloading for Sesia bembeciformis\n",
      "Creating metadata\n",
      "Downloading complete for Sesia bembeciformis with 2 images.\n",
      "Downloading for Synanthedon andrenaeformis\n",
      "Creating metadata\n",
      "Error downloading URL: 'nan'. Error: expected string or bytes-like object, got 'float'\n",
      "Downloading complete for Synanthedon andrenaeformis with 2 images.\n",
      "Downloading for Synanthedon culiciformis\n",
      "Creating metadata\n",
      "Downloading complete for Synanthedon culiciformis with 2 images.\n",
      "Downloading for Synanthedon flaviventris\n",
      "Creating metadata\n",
      "Downloading complete for Synanthedon flaviventris with 2 images.\n",
      "Downloading for Synanthedon formicaeformis\n",
      "Creating metadata\n",
      "Downloading complete for Synanthedon formicaeformis with 2 images.\n",
      "Downloading for Synanthedon myopaeformis\n",
      "Creating metadata\n",
      "Downloading complete for Synanthedon myopaeformis with 2 images.\n",
      "Downloading for Synanthedon scoliaeformis\n",
      "Creating metadata\n",
      "Downloading complete for Synanthedon scoliaeformis with 2 images.\n",
      "Downloading for Synanthedon spheciformis\n",
      "Creating metadata\n",
      "Downloading complete for Synanthedon spheciformis with 2 images.\n",
      "Downloading for Synanthedon tipuliformis\n",
      "Creating metadata\n",
      "Downloading complete for Synanthedon tipuliformis with 2 images.\n",
      "Downloading for Synanthedon vespiformis\n",
      "Creating metadata\n",
      "Downloading complete for Synanthedon vespiformis with 2 images.\n",
      "Finished downloading for the given list! Time taken: 36 seconds\n",
      "Done with the download function\n"
     ]
    }
   ],
   "source": [
    "prep_and_read_files(args)"
   ]
  },
  {
   "cell_type": "code",
   "execution_count": null,
   "metadata": {},
   "outputs": [],
   "source": []
  }
 ],
 "metadata": {
  "kernelspec": {
   "display_name": "gbif_download_standalone",
   "language": "python",
   "name": "python3"
  },
  "language_info": {
   "codemirror_mode": {
    "name": "ipython",
    "version": 3
   },
   "file_extension": ".py",
   "mimetype": "text/x-python",
   "name": "python",
   "nbconvert_exporter": "python",
   "pygments_lexer": "ipython3",
   "version": "3.11.5"
  }
 },
 "nbformat": 4,
 "nbformat_minor": 4
}
