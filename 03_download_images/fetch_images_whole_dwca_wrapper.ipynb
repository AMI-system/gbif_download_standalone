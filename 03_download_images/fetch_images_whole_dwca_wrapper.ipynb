{
 "cells": [
  {
   "cell_type": "code",
   "execution_count": 1,
   "metadata": {},
   "outputs": [],
   "source": [
    "from types import SimpleNamespace\n",
    "import sys\n",
    "import os\n",
    "\n",
    "from fetch_images_whole_dwca import prep_and_read_files"
   ]
  },
  {
   "cell_type": "code",
   "execution_count": 2,
   "metadata": {},
   "outputs": [],
   "source": [
    "if sys.platform.startswith(\"linux\"):\n",
    "    data_dir = \"/bask/projects/v/vjgo8416-amber/data/gbif_download_standalone/\"\n",
    "    project_dir = \"\"\n",
    "elif sys.platform == \"darwin\":\n",
    "    data_dir = \"/Users/lbokeria/Documents/projects/gbif-species-trainer-data/\"\n",
    "    project_dir = \"/Users/lbokeria/Documents/projects/gbif_download_standalone/\"\n",
    "else:\n",
    "    print(\"Not linux or mac!\")\n",
    "    \n",
    "checklist_name = \"uksi-moths-keys-nodup-small\"\n",
    "write_director = \"tests_whole\""
   ]
  },
  {
   "cell_type": "code",
   "execution_count": 3,
   "metadata": {},
   "outputs": [],
   "source": [
    "args = SimpleNamespace(\n",
    "    write_directory  =os.path.join(data_dir,write_director),\n",
    "    dwca_dir        =os.path.join(data_dir,\"dwca_files\",\n",
    "                                   \"Sesiidae\"),\n",
    "    species_checklist=os.path.join(project_dir,\"species_checklists\",\n",
    "                                   checklist_name+\".csv\"),\n",
    "    use_parallel=True,\n",
    "    use_multiproc=False,\n",
    "    max_data_sp=10,\n",
    "    skip_non_adults=True\n",
    ")"
   ]
  },
  {
   "cell_type": "code",
   "execution_count": 4,
   "metadata": {},
   "outputs": [
    {
     "name": "stdout",
     "output_type": "stream",
     "text": [
      "Starting to read dwca files. This could take a while...\n",
      "Reading the multimedia.txt...\n",
      "Finished reading the multimedia.txt\n",
      "Reading the occurrence.txt...\n",
      "Finished reading the occurrence.txt...\n",
      "Downloading for Paranthrene tabaniformis\n",
      "Downloading for Bembecia ichneumoniformis\n",
      "Downloading for Pennisetia hylaeiformis\n",
      "Downloading for Pyropteron chrysidiformis\n",
      "Downloading for Sesia apiformis\n",
      "Downloading for Pyropteron muscaeformis\n",
      "Downloading for Sesia bembeciformis\n",
      "Downloading for Synanthedon andrenaeformisDownloading for Synanthedon flaviventris\n",
      "Downloading for Synanthedon culiciformis\n",
      "\n",
      "Downloading for Synanthedon formicaeformis\n",
      "Downloading for Synanthedon myopaeformis\n",
      "Downloading for Synanthedon scoliaeformis\n",
      "Downloading for Synanthedon spheciformis\n",
      "Downloading complete for Pyropteron muscaeformis with 0 images.\n",
      "Downloading for Synanthedon tipuliformis\n"
     ]
    },
    {
     "name": "stderr",
     "output_type": "stream",
     "text": [
      "/Users/lbokeria/miniforge3/envs/gbif_download_standalone/lib/python3.11/site-packages/dwca/read.py:203: DtypeWarning: Columns (61,76,180) have mixed types. Specify dtype option on import or set low_memory=False.\n",
      "  df = read_csv(self.absolute_temporary_path(relative_path), **kwargs)\n"
     ]
    },
    {
     "name": "stdout",
     "output_type": "stream",
     "text": [
      "Downloading complete for Pyropteron chrysidiformis with 10 images.\n",
      "Downloading for Synanthedon vespiformis\n",
      "Downloading complete for Synanthedon andrenaeformis with 10 images.\n",
      "Downloading complete for Sesia apiformis with 10 images.\n",
      "Downloading complete for Sesia bembeciformis with 10 images.\n",
      "Downloading complete for Synanthedon tipuliformis with 10 images.\n",
      "Downloading complete for Synanthedon myopaeformis with 10 images.\n",
      "Downloading complete for Synanthedon flaviventris with 10 images.\n",
      "Downloading complete for Synanthedon formicaeformis with 10 images.\n",
      "Downloading complete for Synanthedon vespiformis with 10 images.\n",
      "Downloading complete for Synanthedon spheciformis with 10 images.\n",
      "Downloading complete for Pennisetia hylaeiformis with 10 images.\n",
      "Downloading complete for Bembecia ichneumoniformis with 10 images.\n",
      "Downloading complete for Synanthedon culiciformis with 10 images.\n",
      "Downloading complete for Synanthedon scoliaeformis with 10 images.\n",
      "Downloading complete for Paranthrene tabaniformis with 10 images.\n",
      "Finished downloading for the given list! Time taken: 20 seconds\n"
     ]
    }
   ],
   "source": [
    "prep_and_read_files(args)"
   ]
  },
  {
   "cell_type": "code",
   "execution_count": null,
   "metadata": {},
   "outputs": [],
   "source": []
  }
 ],
 "metadata": {
  "kernelspec": {
   "display_name": "gbif_download_standalone",
   "language": "python",
   "name": "python3"
  },
  "language_info": {
   "codemirror_mode": {
    "name": "ipython",
    "version": 3
   },
   "file_extension": ".py",
   "mimetype": "text/x-python",
   "name": "python",
   "nbconvert_exporter": "python",
   "pygments_lexer": "ipython3",
   "version": "3.11.5"
  }
 },
 "nbformat": 4,
 "nbformat_minor": 4
}
