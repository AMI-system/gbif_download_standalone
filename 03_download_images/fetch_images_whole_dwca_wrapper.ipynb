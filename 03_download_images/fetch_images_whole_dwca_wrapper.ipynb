{
 "cells": [
  {
   "cell_type": "code",
   "execution_count": 1,
   "metadata": {},
   "outputs": [],
   "source": [
    "from types import SimpleNamespace\n",
    "import sys\n",
    "import os\n",
    "\n",
    "from fetch_images_whole_dwca import prep_and_read_files"
   ]
  },
  {
   "cell_type": "code",
   "execution_count": 5,
   "metadata": {},
   "outputs": [],
   "source": [
    "if sys.platform.startswith(\"linux\"):\n",
    "    data_dir = \"/bask/projects/v/vjgo8416-amber/data/gbif_download_standalone/\"\n",
    "    project_dir = \"/bask/homes/r/rybf4168/vjgo8416-amber/projects/gbif_download_standalone\"\n",
    "elif sys.platform == \"darwin\":\n",
    "    data_dir = \"/Users/lbokeria/Documents/projects/gbif-species-trainer-data/\"\n",
    "    project_dir = \"/Users/lbokeria/Documents/projects/gbif_download_standalone/\"\n",
    "else:\n",
    "    print(\"Not linux or mac!\")\n",
    "    \n",
    "checklist_name = \"uksi-moths-keys-nodup-small-pyropteron\"\n",
    "write_director = \"tests_whole-pyropteron\""
   ]
  },
  {
   "cell_type": "code",
   "execution_count": 6,
   "metadata": {},
   "outputs": [],
   "source": [
    "args = SimpleNamespace(\n",
    "    write_directory  =os.path.join(data_dir,write_director),\n",
    "    dwca_dir        =os.path.join(data_dir,\"dwca_files\",\n",
    "                                   \"lepidoptera_20231018\"),\n",
    "    species_checklist=os.path.join(project_dir,\"species_checklists\",\n",
    "                                   checklist_name+\".csv\"),\n",
    "    use_parallel=True,\n",
    "    use_multiproc=False,\n",
    "    max_data_sp=10,\n",
    "    skip_non_adults=True\n",
    ")"
   ]
  },
  {
   "cell_type": "code",
   "execution_count": 7,
   "metadata": {},
   "outputs": [
    {
     "name": "stdout",
     "output_type": "stream",
     "text": [
      "Starting to read dwca files. This could take a while...\n",
      "Reading the multimedia.txt...\n",
      "Finished reading the multimedia.txt\n",
      "Reading the occurrence.txt...\n"
     ]
    },
    {
     "name": "stderr",
     "output_type": "stream",
     "text": [
      "/bask/homes/r/rybf4168/.conda/envs/gbif_download_standalone/lib/python3.11/site-packages/dwca/read.py:203: DtypeWarning: Columns (15,30,61,62,91,92,134,183,192) have mixed types. Specify dtype option on import or set low_memory=False.\n",
      "  df = read_csv(self.absolute_temporary_path(relative_path), **kwargs)\n"
     ]
    },
    {
     "name": "stdout",
     "output_type": "stream",
     "text": [
      "Finished reading the occurrence.txt...\n",
      "Downloading for Pyropteron chrysidiformis\n",
      "Downloading complete for Pyropteron chrysidiformis with 0 images.\n",
      "Finished downloading for the given list! Time taken: 19 seconds\n"
     ]
    }
   ],
   "source": [
    "prep_and_read_files(args)"
   ]
  },
  {
   "cell_type": "code",
   "execution_count": null,
   "metadata": {},
   "outputs": [],
   "source": []
  }
 ],
 "metadata": {
  "kernelspec": {
   "display_name": "gbif_download_standalone (Conda)",
   "language": "python",
   "name": "sys_gbif_download_standalone"
  },
  "language_info": {
   "codemirror_mode": {
    "name": "ipython",
    "version": 3
   },
   "file_extension": ".py",
   "mimetype": "text/x-python",
   "name": "python",
   "nbconvert_exporter": "python",
   "pygments_lexer": "ipython3",
   "version": "3.11.5"
  }
 },
 "nbformat": 4,
 "nbformat_minor": 4
}
