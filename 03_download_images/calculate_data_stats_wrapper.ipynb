{
 "cells": [
  {
   "cell_type": "code",
   "execution_count": 5,
   "metadata": {},
   "outputs": [],
   "source": [
    "from types import SimpleNamespace\n",
    "import argparse\n",
    "import sys\n",
    "import os\n",
    "\n",
    "from calculate_data_stats import check_stats, setup_logger"
   ]
  },
  {
   "cell_type": "code",
   "execution_count": 9,
   "metadata": {},
   "outputs": [],
   "source": [
    "if sys.platform.startswith(\"linux\"):\n",
    "    data_dir = \"/bask/projects/v/vjgo8416-amber/data/gbif_download_standalone/\"\n",
    "    project_dir = \"/bask/homes/r/rybf4168/vjgo8416-amber/projects/gbif_download_standalone\"\n",
    "elif sys.platform == \"darwin\":\n",
    "    data_dir = \"/Users/lbokeria/Documents/projects/gbif-species-trainer-data/\"\n",
    "    project_dir = \"/Users/lbokeria/Documents/projects/gbif_download_standalone/\"\n",
    "else:\n",
    "    print(\"Not linux or mac!\")\n",
    "    \n",
    "checklist_name = \"singapore-moths-keys\""
   ]
  },
  {
   "cell_type": "code",
   "execution_count": 10,
   "metadata": {},
   "outputs": [],
   "source": [
    "args = SimpleNamespace(\n",
    "    write_directory  =os.path.join(project_dir,\"data_stats_files\"),\n",
    "    species_checklist=os.path.join(project_dir,\"species_checklists\",\n",
    "                                   checklist_name+\".csv\"),\n",
    "    gbif_img_dir     =os.path.join(data_dir,\"gbif_images\")\n",
    "    \n",
    ")"
   ]
  },
  {
   "cell_type": "code",
   "execution_count": 11,
   "metadata": {},
   "outputs": [
    {
     "name": "stderr",
     "output_type": "stream",
     "text": [
      "WARNING:Error File /bask/projects/v/vjgo8416-amber/data/gbif_download_standalone/gbif_images/Crambidae/Calamotropha/Calamotropha obliterans/meta_data.json does not exist for /bask/projects/v/vjgo8416-amber/data/gbif_download_standalone/gbif_images/Crambidae/Calamotropha/Calamotropha obliterans\n",
      "WARNING:Error File /bask/projects/v/vjgo8416-amber/data/gbif_download_standalone/gbif_images/Crambidae/Glaucocharis/Glaucocharis margretella/meta_data.json does not exist for /bask/projects/v/vjgo8416-amber/data/gbif_download_standalone/gbif_images/Crambidae/Glaucocharis/Glaucocharis margretella\n",
      "WARNING:Error File /bask/projects/v/vjgo8416-amber/data/gbif_download_standalone/gbif_images/Crambidae/Glaucocharis/Glaucocharis subalbilinealis/meta_data.json does not exist for /bask/projects/v/vjgo8416-amber/data/gbif_download_standalone/gbif_images/Crambidae/Glaucocharis/Glaucocharis subalbilinealis\n",
      "WARNING:Error File /bask/projects/v/vjgo8416-amber/data/gbif_download_standalone/gbif_images/Crambidae/Balaenifrons/Balaenifrons ochrochroa/meta_data.json does not exist for /bask/projects/v/vjgo8416-amber/data/gbif_download_standalone/gbif_images/Crambidae/Balaenifrons/Balaenifrons ochrochroa\n",
      "WARNING:Error File /bask/projects/v/vjgo8416-amber/data/gbif_download_standalone/gbif_images/Crambidae/Pagyda/Pagyda furcatalis/meta_data.json does not exist for /bask/projects/v/vjgo8416-amber/data/gbif_download_standalone/gbif_images/Crambidae/Pagyda/Pagyda furcatalis\n",
      "WARNING:Error File /bask/projects/v/vjgo8416-amber/data/gbif_download_standalone/gbif_images/Crambidae/Piletocera/Piletocera micralis/meta_data.json does not exist for /bask/projects/v/vjgo8416-amber/data/gbif_download_standalone/gbif_images/Crambidae/Piletocera/Piletocera micralis\n",
      "WARNING:Error File /bask/projects/v/vjgo8416-amber/data/gbif_download_standalone/gbif_images/Crambidae/Sameodes/Sameodes abstrusalis/meta_data.json does not exist for /bask/projects/v/vjgo8416-amber/data/gbif_download_standalone/gbif_images/Crambidae/Sameodes/Sameodes abstrusalis\n",
      "WARNING:Error File /bask/projects/v/vjgo8416-amber/data/gbif_download_standalone/gbif_images/Erebidae/Amata/Amata derivata/meta_data.json does not exist for /bask/projects/v/vjgo8416-amber/data/gbif_download_standalone/gbif_images/Erebidae/Amata/Amata derivata\n",
      "WARNING:Error File /bask/projects/v/vjgo8416-amber/data/gbif_download_standalone/gbif_images/Erebidae/Caeneressa/Caeneressa marcescoides/meta_data.json does not exist for /bask/projects/v/vjgo8416-amber/data/gbif_download_standalone/gbif_images/Erebidae/Caeneressa/Caeneressa marcescoides\n",
      "WARNING:Error File /bask/projects/v/vjgo8416-amber/data/gbif_download_standalone/gbif_images/Erebidae/Cyana/Cyana clama/meta_data.json does not exist for /bask/projects/v/vjgo8416-amber/data/gbif_download_standalone/gbif_images/Erebidae/Cyana/Cyana clama\n",
      "WARNING:Error File /bask/projects/v/vjgo8416-amber/data/gbif_download_standalone/gbif_images/Erebidae/Hergovitsia/Hergovitsia magnifica/meta_data.json does not exist for /bask/projects/v/vjgo8416-amber/data/gbif_download_standalone/gbif_images/Erebidae/Hergovitsia/Hergovitsia magnifica\n",
      "WARNING:Error File /bask/projects/v/vjgo8416-amber/data/gbif_download_standalone/gbif_images/Erebidae/Katha/Katha brevivalva/meta_data.json does not exist for /bask/projects/v/vjgo8416-amber/data/gbif_download_standalone/gbif_images/Erebidae/Katha/Katha brevivalva\n",
      "WARNING:Error File /bask/projects/v/vjgo8416-amber/data/gbif_download_standalone/gbif_images/Erebidae/Miltochrista/Miltochrista acutiseriata/meta_data.json does not exist for /bask/projects/v/vjgo8416-amber/data/gbif_download_standalone/gbif_images/Erebidae/Miltochrista/Miltochrista acutiseriata\n",
      "WARNING:Error File /bask/projects/v/vjgo8416-amber/data/gbif_download_standalone/gbif_images/Erebidae/Miltochrista/Miltochrista falciseriata/meta_data.json does not exist for /bask/projects/v/vjgo8416-amber/data/gbif_download_standalone/gbif_images/Erebidae/Miltochrista/Miltochrista falciseriata\n",
      "WARNING:Error File /bask/projects/v/vjgo8416-amber/data/gbif_download_standalone/gbif_images/Erebidae/Oxacme/Oxacme asymmetrica/meta_data.json does not exist for /bask/projects/v/vjgo8416-amber/data/gbif_download_standalone/gbif_images/Erebidae/Oxacme/Oxacme asymmetrica\n",
      "WARNING:Error File /bask/projects/v/vjgo8416-amber/data/gbif_download_standalone/gbif_images/Erebidae/Tospitis/Tospitis aurantimaculus/meta_data.json does not exist for /bask/projects/v/vjgo8416-amber/data/gbif_download_standalone/gbif_images/Erebidae/Tospitis/Tospitis aurantimaculus\n",
      "WARNING:Error File /bask/projects/v/vjgo8416-amber/data/gbif_download_standalone/gbif_images/Erebidae/Tospitis/Tospitis variabilis/meta_data.json does not exist for /bask/projects/v/vjgo8416-amber/data/gbif_download_standalone/gbif_images/Erebidae/Tospitis/Tospitis variabilis\n",
      "WARNING:Error File /bask/projects/v/vjgo8416-amber/data/gbif_download_standalone/gbif_images/Erebidae/Veslema/Veslema flavifrons/meta_data.json does not exist for /bask/projects/v/vjgo8416-amber/data/gbif_download_standalone/gbif_images/Erebidae/Veslema/Veslema flavifrons\n",
      "WARNING:Error File /bask/projects/v/vjgo8416-amber/data/gbif_download_standalone/gbif_images/Erebidae/Corgatha/Corgatha rubecula/meta_data.json does not exist for /bask/projects/v/vjgo8416-amber/data/gbif_download_standalone/gbif_images/Erebidae/Corgatha/Corgatha rubecula\n",
      "WARNING:Error File /bask/projects/v/vjgo8416-amber/data/gbif_download_standalone/gbif_images/Noctuidae/Eublemma/Eublemma carneola/meta_data.json does not exist for /bask/projects/v/vjgo8416-amber/data/gbif_download_standalone/gbif_images/Noctuidae/Eublemma/Eublemma carneola\n",
      "WARNING:Error File /bask/projects/v/vjgo8416-amber/data/gbif_download_standalone/gbif_images/Noctuidae/Eugnathia/Eugnathia xenia/meta_data.json does not exist for /bask/projects/v/vjgo8416-amber/data/gbif_download_standalone/gbif_images/Noctuidae/Eugnathia/Eugnathia xenia\n",
      "WARNING:Error File /bask/projects/v/vjgo8416-amber/data/gbif_download_standalone/gbif_images/Noctuidae/Hyposada/Hyposada serendipitatis/meta_data.json does not exist for /bask/projects/v/vjgo8416-amber/data/gbif_download_standalone/gbif_images/Noctuidae/Hyposada/Hyposada serendipitatis\n",
      "WARNING:Error File /bask/projects/v/vjgo8416-amber/data/gbif_download_standalone/gbif_images/Erebidae/Saroba/Saroba flavipicta/meta_data.json does not exist for /bask/projects/v/vjgo8416-amber/data/gbif_download_standalone/gbif_images/Erebidae/Saroba/Saroba flavipicta\n",
      "WARNING:Error File /bask/projects/v/vjgo8416-amber/data/gbif_download_standalone/gbif_images/Erebidae/Adrapsa/Adrapsa tenomigera/meta_data.json does not exist for /bask/projects/v/vjgo8416-amber/data/gbif_download_standalone/gbif_images/Erebidae/Adrapsa/Adrapsa tenomigera\n",
      "WARNING:Error File /bask/projects/v/vjgo8416-amber/data/gbif_download_standalone/gbif_images/Erebidae/Hadennia/Hadennia harmani/meta_data.json does not exist for /bask/projects/v/vjgo8416-amber/data/gbif_download_standalone/gbif_images/Erebidae/Hadennia/Hadennia harmani\n",
      "WARNING:Error File /bask/projects/v/vjgo8416-amber/data/gbif_download_standalone/gbif_images/Erebidae/Hadennia/Hadennia nigerrima/meta_data.json does not exist for /bask/projects/v/vjgo8416-amber/data/gbif_download_standalone/gbif_images/Erebidae/Hadennia/Hadennia nigerrima\n",
      "WARNING:Error File /bask/projects/v/vjgo8416-amber/data/gbif_download_standalone/gbif_images/Erebidae/Polypogon/Polypogon warleyi/meta_data.json does not exist for /bask/projects/v/vjgo8416-amber/data/gbif_download_standalone/gbif_images/Erebidae/Polypogon/Polypogon warleyi\n",
      "WARNING:Error File /bask/projects/v/vjgo8416-amber/data/gbif_download_standalone/gbif_images/Erebidae/Acidon/Acidon rectivia/meta_data.json does not exist for /bask/projects/v/vjgo8416-amber/data/gbif_download_standalone/gbif_images/Erebidae/Acidon/Acidon rectivia\n",
      "WARNING:Error File /bask/projects/v/vjgo8416-amber/data/gbif_download_standalone/gbif_images/Erebidae/Acidon/Acidon sabada/meta_data.json does not exist for /bask/projects/v/vjgo8416-amber/data/gbif_download_standalone/gbif_images/Erebidae/Acidon/Acidon sabada\n",
      "WARNING:Error File /bask/projects/v/vjgo8416-amber/data/gbif_download_standalone/gbif_images/Erebidae/Gonoglasa/Gonoglasa camptogramma/meta_data.json does not exist for /bask/projects/v/vjgo8416-amber/data/gbif_download_standalone/gbif_images/Erebidae/Gonoglasa/Gonoglasa camptogramma\n",
      "WARNING:Error File /bask/projects/v/vjgo8416-amber/data/gbif_download_standalone/gbif_images/Erebidae/Feathalina/Feathalina postreducta/meta_data.json does not exist for /bask/projects/v/vjgo8416-amber/data/gbif_download_standalone/gbif_images/Erebidae/Feathalina/Feathalina postreducta\n",
      "WARNING:Error File /bask/projects/v/vjgo8416-amber/data/gbif_download_standalone/gbif_images/Erebidae/Arctornis/Arctornis ungula/meta_data.json does not exist for /bask/projects/v/vjgo8416-amber/data/gbif_download_standalone/gbif_images/Erebidae/Arctornis/Arctornis ungula\n",
      "WARNING:Error File /bask/projects/v/vjgo8416-amber/data/gbif_download_standalone/gbif_images/Erebidae/Throana/Throana amyntoralis/meta_data.json does not exist for /bask/projects/v/vjgo8416-amber/data/gbif_download_standalone/gbif_images/Erebidae/Throana/Throana amyntoralis\n",
      "WARNING:Error File /bask/projects/v/vjgo8416-amber/data/gbif_download_standalone/gbif_images/Erebidae/Arthisma/Arthisma mutilata/meta_data.json does not exist for /bask/projects/v/vjgo8416-amber/data/gbif_download_standalone/gbif_images/Erebidae/Arthisma/Arthisma mutilata\n",
      "WARNING:Error File /bask/projects/v/vjgo8416-amber/data/gbif_download_standalone/gbif_images/Erebidae/Chorsia/Chorsia dinglei/meta_data.json does not exist for /bask/projects/v/vjgo8416-amber/data/gbif_download_standalone/gbif_images/Erebidae/Chorsia/Chorsia dinglei\n",
      "WARNING:Error File /bask/projects/v/vjgo8416-amber/data/gbif_download_standalone/gbif_images/Erebidae/Oglasa/Oglasa basicomma/meta_data.json does not exist for /bask/projects/v/vjgo8416-amber/data/gbif_download_standalone/gbif_images/Erebidae/Oglasa/Oglasa basicomma\n",
      "WARNING:Error File /bask/projects/v/vjgo8416-amber/data/gbif_download_standalone/gbif_images/Erebidae/Oglasa/Oglasa sordidula/meta_data.json does not exist for /bask/projects/v/vjgo8416-amber/data/gbif_download_standalone/gbif_images/Erebidae/Oglasa/Oglasa sordidula\n",
      "WARNING:Error File /bask/projects/v/vjgo8416-amber/data/gbif_download_standalone/gbif_images/Geometridae/Comostola/Comostola quantula/meta_data.json does not exist for /bask/projects/v/vjgo8416-amber/data/gbif_download_standalone/gbif_images/Geometridae/Comostola/Comostola quantula\n",
      "WARNING:Error File /bask/projects/v/vjgo8416-amber/data/gbif_download_standalone/gbif_images/Geometridae/Sauris/Sauris contorta/meta_data.json does not exist for /bask/projects/v/vjgo8416-amber/data/gbif_download_standalone/gbif_images/Geometridae/Sauris/Sauris contorta\n",
      "WARNING:Error File /bask/projects/v/vjgo8416-amber/data/gbif_download_standalone/gbif_images/Geometridae/Chrysocraspeda/Chrysocraspeda tigrina/meta_data.json does not exist for /bask/projects/v/vjgo8416-amber/data/gbif_download_standalone/gbif_images/Geometridae/Chrysocraspeda/Chrysocraspeda tigrina\n",
      "WARNING:Error File /bask/projects/v/vjgo8416-amber/data/gbif_download_standalone/gbif_images/Immidae/Imma/Imma homocrossa/meta_data.json does not exist for /bask/projects/v/vjgo8416-amber/data/gbif_download_standalone/gbif_images/Immidae/Imma/Imma homocrossa\n",
      "WARNING:Error File /bask/projects/v/vjgo8416-amber/data/gbif_download_standalone/gbif_images/Immidae/Moca/Moca tesseraria/meta_data.json does not exist for /bask/projects/v/vjgo8416-amber/data/gbif_download_standalone/gbif_images/Immidae/Moca/Moca tesseraria\n",
      "WARNING:Error File /bask/projects/v/vjgo8416-amber/data/gbif_download_standalone/gbif_images/Lasiocampidae/Metanastria/Metanastria mantra/meta_data.json does not exist for /bask/projects/v/vjgo8416-amber/data/gbif_download_standalone/gbif_images/Lasiocampidae/Metanastria/Metanastria mantra\n",
      "WARNING:Error File /bask/projects/v/vjgo8416-amber/data/gbif_download_standalone/gbif_images/Lecithoceridae/Tisis/Tisis meliorella/meta_data.json does not exist for /bask/projects/v/vjgo8416-amber/data/gbif_download_standalone/gbif_images/Lecithoceridae/Tisis/Tisis meliorella\n",
      "WARNING:Error File /bask/projects/v/vjgo8416-amber/data/gbif_download_standalone/gbif_images/Lecithoceridae/Thubana/Thubana erycinae/meta_data.json does not exist for /bask/projects/v/vjgo8416-amber/data/gbif_download_standalone/gbif_images/Lecithoceridae/Thubana/Thubana erycinae\n",
      "WARNING:Error File /bask/projects/v/vjgo8416-amber/data/gbif_download_standalone/gbif_images/Lecithoceridae/Torodora/Torodora epicharis/meta_data.json does not exist for /bask/projects/v/vjgo8416-amber/data/gbif_download_standalone/gbif_images/Lecithoceridae/Torodora/Torodora epicharis\n",
      "WARNING:Error File /bask/projects/v/vjgo8416-amber/data/gbif_download_standalone/gbif_images/Limacodidae/Cania/Cania minuta/meta_data.json does not exist for /bask/projects/v/vjgo8416-amber/data/gbif_download_standalone/gbif_images/Limacodidae/Cania/Cania minuta\n",
      "WARNING:Error File /bask/projects/v/vjgo8416-amber/data/gbif_download_standalone/gbif_images/Limacodidae/Narosa/Narosa rosipuncta/meta_data.json does not exist for /bask/projects/v/vjgo8416-amber/data/gbif_download_standalone/gbif_images/Limacodidae/Narosa/Narosa rosipuncta\n",
      "WARNING:Error File /bask/projects/v/vjgo8416-amber/data/gbif_download_standalone/gbif_images/Limacodidae/Pseudidonauton/Pseudidonauton bhaga/meta_data.json does not exist for /bask/projects/v/vjgo8416-amber/data/gbif_download_standalone/gbif_images/Limacodidae/Pseudidonauton/Pseudidonauton bhaga\n",
      "WARNING:Error File /bask/projects/v/vjgo8416-amber/data/gbif_download_standalone/gbif_images/Noctuidae/Callopistria/Callopistria leucobasis/meta_data.json does not exist for /bask/projects/v/vjgo8416-amber/data/gbif_download_standalone/gbif_images/Noctuidae/Callopistria/Callopistria leucobasis\n",
      "WARNING:Error File /bask/projects/v/vjgo8416-amber/data/gbif_download_standalone/gbif_images/Noctuidae/Callopistria/Callopistria wallacei/meta_data.json does not exist for /bask/projects/v/vjgo8416-amber/data/gbif_download_standalone/gbif_images/Noctuidae/Callopistria/Callopistria wallacei\n",
      "WARNING:Error File /bask/projects/v/vjgo8416-amber/data/gbif_download_standalone/gbif_images/Noctuidae/Mudaria/Mudaria magniplaga/meta_data.json does not exist for /bask/projects/v/vjgo8416-amber/data/gbif_download_standalone/gbif_images/Noctuidae/Mudaria/Mudaria magniplaga\n",
      "WARNING:Error File /bask/projects/v/vjgo8416-amber/data/gbif_download_standalone/gbif_images/Nolidae/Carea/Carea inducens/meta_data.json does not exist for /bask/projects/v/vjgo8416-amber/data/gbif_download_standalone/gbif_images/Nolidae/Carea/Carea inducens\n",
      "WARNING:Error File /bask/projects/v/vjgo8416-amber/data/gbif_download_standalone/gbif_images/Nolidae/Siglophora/Siglophora malickyi/meta_data.json does not exist for /bask/projects/v/vjgo8416-amber/data/gbif_download_standalone/gbif_images/Nolidae/Siglophora/Siglophora malickyi\n",
      "WARNING:Error File /bask/projects/v/vjgo8416-amber/data/gbif_download_standalone/gbif_images/Xyloryctidae/Caenorycta/Caenorycta anholochrysa/meta_data.json does not exist for /bask/projects/v/vjgo8416-amber/data/gbif_download_standalone/gbif_images/Xyloryctidae/Caenorycta/Caenorycta anholochrysa\n",
      "WARNING:Error File /bask/projects/v/vjgo8416-amber/data/gbif_download_standalone/gbif_images/Pyralidae/Stericta/Stericta sectilis/meta_data.json does not exist for /bask/projects/v/vjgo8416-amber/data/gbif_download_standalone/gbif_images/Pyralidae/Stericta/Stericta sectilis\n",
      "WARNING:Error File /bask/projects/v/vjgo8416-amber/data/gbif_download_standalone/gbif_images/Pyralidae/Indomyrlaea/Indomyrlaea ferreotincta/meta_data.json does not exist for /bask/projects/v/vjgo8416-amber/data/gbif_download_standalone/gbif_images/Pyralidae/Indomyrlaea/Indomyrlaea ferreotincta\n",
      "WARNING:Error File /bask/projects/v/vjgo8416-amber/data/gbif_download_standalone/gbif_images/Tortricidae/Grapholita/Grapholita comanticosta/meta_data.json does not exist for /bask/projects/v/vjgo8416-amber/data/gbif_download_standalone/gbif_images/Tortricidae/Grapholita/Grapholita comanticosta\n",
      "WARNING:Error File /bask/projects/v/vjgo8416-amber/data/gbif_download_standalone/gbif_images/Zygaenidae/Anarbudas/Anarbudas bipartita/meta_data.json does not exist for /bask/projects/v/vjgo8416-amber/data/gbif_download_standalone/gbif_images/Zygaenidae/Anarbudas/Anarbudas bipartita\n",
      "WARNING:Error File /bask/projects/v/vjgo8416-amber/data/gbif_download_standalone/gbif_images/Zygaenidae/Boradiopsis/Boradiopsis bipartita/meta_data.json does not exist for /bask/projects/v/vjgo8416-amber/data/gbif_download_standalone/gbif_images/Zygaenidae/Boradiopsis/Boradiopsis bipartita\n",
      "WARNING:Error File /bask/projects/v/vjgo8416-amber/data/gbif_download_standalone/gbif_images/Zygaenidae/Chalcosia/Chalcosia phalaenaria/meta_data.json does not exist for /bask/projects/v/vjgo8416-amber/data/gbif_download_standalone/gbif_images/Zygaenidae/Chalcosia/Chalcosia phalaenaria\n"
     ]
    }
   ],
   "source": [
    "check_stats(args)"
   ]
  },
  {
   "cell_type": "code",
   "execution_count": null,
   "metadata": {},
   "outputs": [],
   "source": []
  }
 ],
 "metadata": {
  "kernelspec": {
   "display_name": "gbif_download_standalone (Conda)",
   "language": "python",
   "name": "sys_gbif_download_standalone"
  },
  "language_info": {
   "codemirror_mode": {
    "name": "ipython",
    "version": 3
   },
   "file_extension": ".py",
   "mimetype": "text/x-python",
   "name": "python",
   "nbconvert_exporter": "python",
   "pygments_lexer": "ipython3",
   "version": "3.11.5"
  }
 },
 "nbformat": 4,
 "nbformat_minor": 4
}
