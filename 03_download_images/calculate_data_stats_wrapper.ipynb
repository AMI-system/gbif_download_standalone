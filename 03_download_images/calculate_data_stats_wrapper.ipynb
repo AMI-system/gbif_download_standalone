{
 "cells": [
  {
   "cell_type": "code",
   "execution_count": 1,
   "metadata": {},
   "outputs": [],
   "source": [
    "from types import SimpleNamespace\n",
    "import argparse\n",
    "import sys\n",
    "import os\n",
    "\n",
    "from calculate_data_stats import check_stats, setup_logger"
   ]
  },
  {
   "cell_type": "code",
   "execution_count": 5,
   "metadata": {},
   "outputs": [],
   "source": [
    "if sys.platform.startswith(\"linux\"):\n",
    "    data_dir = \"/bask/projects/v/vjgo8416-amber/data/gbif_download_standalone/\"\n",
    "    project_dir = \"/bask/homes/r/rybf4168/vjgo8416-amber/projects/gbif_download_standalone\"\n",
    "elif sys.platform == \"darwin\":\n",
    "    data_dir = \"/Users/lbokeria/Documents/projects/gbif-species-trainer-data/\"\n",
    "    project_dir = \"/Users/lbokeria/Documents/projects/gbif_download_standalone/\"\n",
    "else:\n",
    "    print(\"Not linux or mac!\")\n",
    "    \n",
    "checklist_name = \"uksi-moths-keys\""
   ]
  },
  {
   "cell_type": "code",
   "execution_count": 6,
   "metadata": {},
   "outputs": [],
   "source": [
    "args = SimpleNamespace(\n",
    "    write_directory  =os.path.join(project_dir,\"data_stats_files\"),\n",
    "    species_checklist=os.path.join(project_dir,\"species_checklists\",\n",
    "                                   checklist_name+\".csv\"),\n",
    "    gbif_img_dir     =os.path.join(data_dir,\"gbif_images\")\n",
    "    \n",
    ")"
   ]
  },
  {
   "cell_type": "code",
   "execution_count": 7,
   "metadata": {},
   "outputs": [
    {
     "name": "stderr",
     "output_type": "stream",
     "text": [
      "WARNING:Error File /bask/projects/v/vjgo8416-amber/data/gbif_download_standalone/gbif_images/Crambidae/Congethes/Congethes punctiferalis/meta_data.json does not exist for /bask/projects/v/vjgo8416-amber/data/gbif_download_standalone/gbif_images/Crambidae/Congethes/Congethes punctiferalis\n",
      "WARNING:Error File /bask/projects/v/vjgo8416-amber/data/gbif_download_standalone/gbif_images/Crambidae/Diasemia/Diasemia reticularia/meta_data.json does not exist for /bask/projects/v/vjgo8416-amber/data/gbif_download_standalone/gbif_images/Crambidae/Diasemia/Diasemia reticularia\n",
      "WARNING:Error File /bask/projects/v/vjgo8416-amber/data/gbif_download_standalone/gbif_images/Crambidae/Oligostigma/Oligostigma polydectalis/meta_data.json does not exist for /bask/projects/v/vjgo8416-amber/data/gbif_download_standalone/gbif_images/Crambidae/Oligostigma/Oligostigma polydectalis\n",
      "WARNING:Error File /bask/projects/v/vjgo8416-amber/data/gbif_download_standalone/gbif_images/Gelechiidae/Caryocolum/Caryocolum gerronella/meta_data.json does not exist for /bask/projects/v/vjgo8416-amber/data/gbif_download_standalone/gbif_images/Gelechiidae/Caryocolum/Caryocolum gerronella\n"
     ]
    }
   ],
   "source": [
    "check_stats(args)"
   ]
  },
  {
   "cell_type": "code",
   "execution_count": null,
   "metadata": {},
   "outputs": [],
   "source": []
  }
 ],
 "metadata": {
  "kernelspec": {
   "display_name": "kg_conda_env2 (Conda)",
   "language": "python",
   "name": "sys_kg_conda_env2"
  },
  "language_info": {
   "codemirror_mode": {
    "name": "ipython",
    "version": 3
   },
   "file_extension": ".py",
   "mimetype": "text/x-python",
   "name": "python",
   "nbconvert_exporter": "python",
   "pygments_lexer": "ipython3",
   "version": "3.9.17"
  }
 },
 "nbformat": 4,
 "nbformat_minor": 4
}
