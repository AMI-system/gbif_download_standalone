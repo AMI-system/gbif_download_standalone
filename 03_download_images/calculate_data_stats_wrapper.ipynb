{
 "cells": [
  {
   "cell_type": "markdown",
   "metadata": {},
   "source": [
    "# Calculate the data statistics from image downloads"
   ]
  },
  {
   "cell_type": "code",
   "execution_count": 1,
   "metadata": {},
   "outputs": [],
   "source": [
    "from types import SimpleNamespace\n",
    "import argparse\n",
    "import sys\n",
    "import os\n",
    "\n",
    "from calculate_data_stats import check_stats, setup_logger"
   ]
  },
  {
   "cell_type": "code",
   "execution_count": 34,
   "metadata": {},
   "outputs": [],
   "source": [
    "if sys.platform.startswith(\"linux\"):\n",
    "    data_dir = \"/bask/homes/f/fspo1218/amber/data/gbif_download_standalone/\"\n",
    "    project_dir = \"/bask/homes/f/fspo1218/amber/projects/gbif_download_standalone\"\n",
    "elif sys.platform == \"darwin\":\n",
    "    data_dir = \"/Users/lbokeria/Documents/projects/gbif-species-trainer-data/\"\n",
    "    project_dir = \"/Users/lbokeria/Documents/projects/gbif_download_standalone/\"\n",
    "else:\n",
    "    print(\"Not linux or mac!\")\n",
    "    \n",
    "checklist_name = \"uksi-macro-moths-keys-nodup\""
   ]
  },
  {
   "cell_type": "code",
   "execution_count": 35,
   "metadata": {},
   "outputs": [
    {
     "name": "stdout",
     "output_type": "stream",
     "text": [
      "/bask/homes/f/fspo1218/amber/data/gbif_download_standalone/gbif_images\n"
     ]
    }
   ],
   "source": [
    "gbif_img_dir     =os.path.join(data_dir,\"gbif_images\")\n",
    "print(gbif_img_dir)"
   ]
  },
  {
   "cell_type": "code",
   "execution_count": 36,
   "metadata": {},
   "outputs": [],
   "source": [
    "args = SimpleNamespace(\n",
    "    write_directory  =os.path.join(project_dir,\"data_stats_files\"),\n",
    "    species_checklist=os.path.join(project_dir,\"species_checklists\",\n",
    "                                   checklist_name+\".csv\"),\n",
    "    gbif_img_dir     =os.path.join(data_dir,\"gbif_images\")\n",
    "    \n",
    ")"
   ]
  },
  {
   "cell_type": "code",
   "execution_count": 37,
   "metadata": {},
   "outputs": [],
   "source": [
    "check_stats(args)"
   ]
  },
  {
   "cell_type": "markdown",
   "metadata": {},
   "source": [
    "# Take a look at the file"
   ]
  },
  {
   "cell_type": "code",
   "execution_count": 33,
   "metadata": {},
   "outputs": [
    {
     "data": {
      "text/html": [
       "<div>\n",
       "<style scoped>\n",
       "    .dataframe tbody tr th:only-of-type {\n",
       "        vertical-align: middle;\n",
       "    }\n",
       "\n",
       "    .dataframe tbody tr th {\n",
       "        vertical-align: top;\n",
       "    }\n",
       "\n",
       "    .dataframe thead th {\n",
       "        text-align: right;\n",
       "    }\n",
       "</style>\n",
       "<table border=\"1\" class=\"dataframe\">\n",
       "  <thead>\n",
       "    <tr style=\"text-align: right;\">\n",
       "      <th></th>\n",
       "      <th>accepted_taxon_key</th>\n",
       "      <th>order_name</th>\n",
       "      <th>family_name</th>\n",
       "      <th>genus_name</th>\n",
       "      <th>species_name_provided</th>\n",
       "      <th>authority_name_provided</th>\n",
       "      <th>search_species_name</th>\n",
       "      <th>gbif_species_name</th>\n",
       "      <th>confidence</th>\n",
       "      <th>status</th>\n",
       "      <th>match_type</th>\n",
       "      <th>rank</th>\n",
       "      <th>source</th>\n",
       "      <th>n_imgs</th>\n",
       "    </tr>\n",
       "  </thead>\n",
       "  <tbody>\n",
       "    <tr>\n",
       "      <th>0</th>\n",
       "      <td>1860989</td>\n",
       "      <td>Lepidoptera</td>\n",
       "      <td>Adelidae</td>\n",
       "      <td>Adela</td>\n",
       "      <td>Adela ridingsella</td>\n",
       "      <td>NaN</td>\n",
       "      <td>Adela ridingsella</td>\n",
       "      <td>Adela ridingsella</td>\n",
       "      <td>99</td>\n",
       "      <td>ACCEPTED</td>\n",
       "      <td>EXACT</td>\n",
       "      <td>SPECIES</td>\n",
       "      <td>London03Nov2023</td>\n",
       "      <td>0</td>\n",
       "    </tr>\n",
       "    <tr>\n",
       "      <th>1</th>\n",
       "      <td>1751497</td>\n",
       "      <td>Lepidoptera</td>\n",
       "      <td>Megalopygidae</td>\n",
       "      <td>Trosia</td>\n",
       "      <td>Trosia semirufa</td>\n",
       "      <td>NaN</td>\n",
       "      <td>Trosia semirufa</td>\n",
       "      <td>Trosia semirufa</td>\n",
       "      <td>99</td>\n",
       "      <td>ACCEPTED</td>\n",
       "      <td>EXACT</td>\n",
       "      <td>SPECIES</td>\n",
       "      <td>London03Nov2023</td>\n",
       "      <td>0</td>\n",
       "    </tr>\n",
       "    <tr>\n",
       "      <th>2</th>\n",
       "      <td>1751509</td>\n",
       "      <td>Lepidoptera</td>\n",
       "      <td>Megalopygidae</td>\n",
       "      <td>Trosia</td>\n",
       "      <td>Trosia misda</td>\n",
       "      <td>NaN</td>\n",
       "      <td>Trosia misda</td>\n",
       "      <td>Trosia misda</td>\n",
       "      <td>99</td>\n",
       "      <td>ACCEPTED</td>\n",
       "      <td>EXACT</td>\n",
       "      <td>SPECIES</td>\n",
       "      <td>London03Nov2023</td>\n",
       "      <td>0</td>\n",
       "    </tr>\n",
       "    <tr>\n",
       "      <th>3</th>\n",
       "      <td>1751496</td>\n",
       "      <td>Lepidoptera</td>\n",
       "      <td>Megalopygidae</td>\n",
       "      <td>Trosia</td>\n",
       "      <td>Trosia incostata</td>\n",
       "      <td>NaN</td>\n",
       "      <td>Trosia incostata</td>\n",
       "      <td>Trosia incostata</td>\n",
       "      <td>99</td>\n",
       "      <td>ACCEPTED</td>\n",
       "      <td>EXACT</td>\n",
       "      <td>SPECIES</td>\n",
       "      <td>London03Nov2023</td>\n",
       "      <td>0</td>\n",
       "    </tr>\n",
       "    <tr>\n",
       "      <th>4</th>\n",
       "      <td>1751512</td>\n",
       "      <td>Lepidoptera</td>\n",
       "      <td>Megalopygidae</td>\n",
       "      <td>Trosia</td>\n",
       "      <td>Trosia fallax</td>\n",
       "      <td>NaN</td>\n",
       "      <td>Trosia fallax</td>\n",
       "      <td>Trosia fallax</td>\n",
       "      <td>99</td>\n",
       "      <td>ACCEPTED</td>\n",
       "      <td>EXACT</td>\n",
       "      <td>SPECIES</td>\n",
       "      <td>London03Nov2023</td>\n",
       "      <td>0</td>\n",
       "    </tr>\n",
       "  </tbody>\n",
       "</table>\n",
       "</div>"
      ],
      "text/plain": [
       "   accepted_taxon_key   order_name    family_name genus_name  \\\n",
       "0             1860989  Lepidoptera       Adelidae      Adela   \n",
       "1             1751497  Lepidoptera  Megalopygidae     Trosia   \n",
       "2             1751509  Lepidoptera  Megalopygidae     Trosia   \n",
       "3             1751496  Lepidoptera  Megalopygidae     Trosia   \n",
       "4             1751512  Lepidoptera  Megalopygidae     Trosia   \n",
       "\n",
       "  species_name_provided  authority_name_provided search_species_name  \\\n",
       "0     Adela ridingsella                      NaN   Adela ridingsella   \n",
       "1       Trosia semirufa                      NaN     Trosia semirufa   \n",
       "2          Trosia misda                      NaN        Trosia misda   \n",
       "3      Trosia incostata                      NaN    Trosia incostata   \n",
       "4         Trosia fallax                      NaN       Trosia fallax   \n",
       "\n",
       "   gbif_species_name  confidence    status match_type     rank  \\\n",
       "0  Adela ridingsella          99  ACCEPTED      EXACT  SPECIES   \n",
       "1    Trosia semirufa          99  ACCEPTED      EXACT  SPECIES   \n",
       "2       Trosia misda          99  ACCEPTED      EXACT  SPECIES   \n",
       "3   Trosia incostata          99  ACCEPTED      EXACT  SPECIES   \n",
       "4      Trosia fallax          99  ACCEPTED      EXACT  SPECIES   \n",
       "\n",
       "            source  n_imgs  \n",
       "0  London03Nov2023       0  \n",
       "1  London03Nov2023       0  \n",
       "2  London03Nov2023       0  \n",
       "3  London03Nov2023       0  \n",
       "4  London03Nov2023       0  "
      ]
     },
     "execution_count": 33,
     "metadata": {},
     "output_type": "execute_result"
    }
   ],
   "source": [
    "import pandas as pd\n",
    "\n",
    "data_stats = pd.read_csv(os.path.join(project_dir,\"data_stats_files\",\"data_stats_\"+checklist_name+\".csv\"))\n",
    "\n",
    "data_stats.head()"
   ]
  },
  {
   "cell_type": "code",
   "execution_count": null,
   "metadata": {},
   "outputs": [],
   "source": []
  },
  {
   "cell_type": "code",
   "execution_count": null,
   "metadata": {},
   "outputs": [],
   "source": []
  }
 ],
 "metadata": {
  "kernelspec": {
   "display_name": "kg_conda_env2 (Conda)",
   "language": "python",
   "name": "sys_kg_conda_env2"
  },
  "language_info": {
   "codemirror_mode": {
    "name": "ipython",
    "version": 3
   },
   "file_extension": ".py",
   "mimetype": "text/x-python",
   "name": "python",
   "nbconvert_exporter": "python",
   "pygments_lexer": "ipython3",
   "version": "3.9.17"
  }
 },
 "nbformat": 4,
 "nbformat_minor": 4
}
