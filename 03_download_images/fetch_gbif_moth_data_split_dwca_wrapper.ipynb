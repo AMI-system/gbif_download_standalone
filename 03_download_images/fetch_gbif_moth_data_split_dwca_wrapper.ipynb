{
 "cells": [
  {
   "cell_type": "code",
   "execution_count": 1,
   "metadata": {},
   "outputs": [],
   "source": [
    "from types import SimpleNamespace\n",
    "import argparse\n",
    "import sys\n",
    "import os\n",
    "\n",
    "from fetch_gbif_moth_data import prep_and_read_files"
   ]
  },
  {
   "cell_type": "code",
   "execution_count": 2,
   "metadata": {},
   "outputs": [],
   "source": [
    "if sys.platform.startswith(\"linux\"):\n",
    "    data_dir = \"/bask/projects/v/vjgo8416-amber/data/gbif_download_standalone/\"\n",
    "    project_dir = \"\"\n",
    "elif sys.platform == \"darwin\":\n",
    "    data_dir = \"/Users/lbokeria/Documents/projects/gbif-species-trainer-data/\"\n",
    "    project_dir = \"/Users/lbokeria/Documents/projects/gbif_download_standalone/\"\n",
    "else:\n",
    "    print(\"Not linux or mac!\")\n",
    "    \n",
    "checklist_name = \"singapore-moths-keys-nodup-small\""
   ]
  },
  {
   "cell_type": "code",
   "execution_count": 3,
   "metadata": {},
   "outputs": [],
   "source": [
    "args = SimpleNamespace(\n",
    "    write_directory  =os.path.join(data_dir,\"gbif_images\",\"tests2\"),\n",
    "    occ_files        =os.path.join(data_dir,\"dwca_preprocessed\",\n",
    "                                   \"occurrence_dataframes_20231018/\"),\n",
    "    media_file       =os.path.join(data_dir,\"dwca_preprocessed\",\n",
    "                                   \"multimedia_lepidoptera_20231018.csv\"),\n",
    "    species_checklist=os.path.join(project_dir,\"species_checklists\",\n",
    "                                   checklist_name+\".csv\"),\n",
    "    use_parallel=True,\n",
    "    use_multiproc=False,\n",
    "    max_data_sp=30,\n",
    "    skip_non_adults=True\n",
    ")\n",
    "\n",
    "# args = SimpleNamespace(\n",
    "#     write_directory=\"/bask/homes/r/rybf4168/vjgo8416-amber/data/gbif_download_standalone/gbif_images/tests/\",\n",
    "#     occ_files=\"/bask/homes/r/rybf4168/vjgo8416-amber/data/gbif_download_standalone/dwca_preprocessed/occurrence_dataframes_20231018/\",\n",
    "#     media_file=\"/bask/homes/r/rybf4168/vjgo8416-amber/data/gbif_download_standalone/dwca_preprocessed/multimedia_lepidoptera_20231018.csv\",\n",
    "#     species_checklist=\"/bask/homes/r/rybf4168/vjgo8416-amber/projects/gbif_download_standalone/species_checklists/singapore-moths-keys-nodup-small.csv\",\n",
    "#     use_parallel=True,\n",
    "#     use_multiproc=False,\n",
    "#     max_data_sp=10,\n",
    "#     skip_non_adults=True\n",
    "# )"
   ]
  },
  {
   "cell_type": "code",
   "execution_count": 4,
   "metadata": {},
   "outputs": [
    {
     "name": "stdout",
     "output_type": "stream",
     "text": [
      "reading media\n",
      "done\n",
      "Downloading for Nemophora aurisparsella\n",
      "Downloading for Nemophora decisella\n",
      "Downloading for Atteva fabriciella\n",
      "Downloading for Atteva wallengreni\n",
      "Downloading for Gunda subnotata\n",
      "Downloading for Ocinara albicollis\n",
      "Downloading for Penicillifera apicalis\n",
      "Downloading for Trilocha variansDownloading for Phycodes limata\n",
      "\n",
      "Downloading for Tetragonus catamitus\n",
      "Downloading complete for Gunda subnotata with 0 images.\n",
      "Downloading complete for Nemophora aurisparsella with 0 images.\n",
      "Downloading complete for Nemophora decisella with 5 images.\n",
      "Downloading complete for Ocinara albicollis with 5 images.\n",
      "Downloading complete for Phycodes limata with 5 images.\n",
      "Downloading complete for Atteva fabriciella with 5 images.\n",
      "Downloading complete for Atteva wallengreni with 5 images.\n",
      "Downloading complete for Tetragonus catamitus with 5 images.\n",
      "Downloading complete for Penicillifera apicalis with 5 images.\n",
      "Downloading complete for Trilocha varians with 5 images.\n",
      "Finished downloading for the given list! Time taken: 12 seconds\n"
     ]
    }
   ],
   "source": [
    "prep_and_read_files(args)"
   ]
  },
  {
   "cell_type": "code",
   "execution_count": null,
   "metadata": {},
   "outputs": [],
   "source": []
  }
 ],
 "metadata": {
  "kernelspec": {
   "display_name": "gbif_download_standalone",
   "language": "python",
   "name": "python3"
  },
  "language_info": {
   "codemirror_mode": {
    "name": "ipython",
    "version": 3
   },
   "file_extension": ".py",
   "mimetype": "text/x-python",
   "name": "python",
   "nbconvert_exporter": "python",
   "pygments_lexer": "ipython3",
   "version": "3.11.5"
  }
 },
 "nbformat": 4,
 "nbformat_minor": 4
}
