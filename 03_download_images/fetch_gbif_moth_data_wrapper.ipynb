{
 "cells": [
  {
   "cell_type": "code",
   "execution_count": null,
   "metadata": {},
   "outputs": [],
   "source": [
    "from types import SimpleNamespace\n",
    "import argparse\n",
    "\n",
    "from fetch_gbif_moth_data import prep_and_read_files"
   ]
  },
  {
   "cell_type": "code",
   "execution_count": null,
   "metadata": {},
   "outputs": [],
   "source": [
    "args = SimpleNamespace(\n",
    "    write_directory=\"/bask/homes/r/rybf4168/vjgo8416-amber/data/gbif_download_standalone/gbif_images/tests/\",\n",
    "    occ_files=\"/bask/homes/r/rybf4168/vjgo8416-amber/data/gbif_download_standalone/dwca_preprocessed/occurrence_dataframes_20231018/\",\n",
    "    media_file=\"/bask/homes/r/rybf4168/vjgo8416-amber/data/gbif_download_standalone/dwca_preprocessed/multimedia_lepidoptera_20231018.csv\",\n",
    "    species_checklist=\"/bask/homes/r/rybf4168/vjgo8416-amber/projects/gbif_download_standalone/species_checklists/uksi-moths-keys-nodup-small.csv\",\n",
    "    use_parallel=True,\n",
    "    use_multiproc=False,\n",
    "    max_data_sp=100,\n",
    "    skip_non_adults=True\n",
    ")\n",
    "\n",
    "# args = SimpleNamespace(\n",
    "#     write_directory=\"/bask/homes/r/rybf4168/vjgo8416-amber/data/gbif_download_standalone/gbif_images/tests/\",\n",
    "#     occ_files=\"/bask/homes/r/rybf4168/vjgo8416-amber/data/gbif_download_standalone/dwca_preprocessed/occurrence_dataframes_20231018/\",\n",
    "#     media_file=\"/bask/homes/r/rybf4168/vjgo8416-amber/data/gbif_download_standalone/dwca_preprocessed/multimedia_lepidoptera_20231018.csv\",\n",
    "#     species_checklist=\"/bask/homes/r/rybf4168/vjgo8416-amber/projects/gbif_download_standalone/species_checklists/singapore-moths-keys-nodup-small.csv\",\n",
    "#     use_parallel=True,\n",
    "#     use_multiproc=False,\n",
    "#     max_data_sp=10,\n",
    "#     skip_non_adults=True\n",
    "# )"
   ]
  },
  {
   "cell_type": "code",
   "execution_count": null,
   "metadata": {},
   "outputs": [],
   "source": [
    "prep_and_read_files(args)"
   ]
  },
  {
   "cell_type": "code",
   "execution_count": null,
   "metadata": {},
   "outputs": [],
   "source": []
  }
 ],
 "metadata": {
  "kernelspec": {
   "display_name": "gbif_download_standalone",
   "language": "python",
   "name": "python3"
  },
  "language_info": {
   "codemirror_mode": {
    "name": "ipython",
    "version": 3
   },
   "file_extension": ".py",
   "mimetype": "text/x-python",
   "name": "python",
   "nbconvert_exporter": "python",
   "pygments_lexer": "ipython3",
   "version": "3.11.5"
  }
 },
 "nbformat": 4,
 "nbformat_minor": 4
}
