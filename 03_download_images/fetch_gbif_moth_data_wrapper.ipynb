{
 "cells": [
  {
   "cell_type": "code",
   "execution_count": 1,
   "metadata": {},
   "outputs": [],
   "source": [
    "from types import SimpleNamespace\n",
    "import argparse\n",
    "\n",
    "from fetch_gbif_moth_data import prep_and_read_files"
   ]
  },
  {
   "cell_type": "code",
   "execution_count": 2,
   "metadata": {},
   "outputs": [],
   "source": [
    "# args = SimpleNamespace(\n",
    "#     write_directory=\"/Users/lbokeria/Documents/projects/gbif-species-trainer-data/gbif_images/sandbox\",\n",
    "#     occ_files=\"/Users/lbokeria/Documents/projects/gbif-species-trainer-data/occurrence_dataframes/\",\n",
    "#     media_file=\"/Users/lbokeria/Documents/projects/gbif-species-trainer-data/dwca_files/multimedia_lepidoptera.csv\",\n",
    "#     species_checklist=\"/Users/lbokeria/Documents/projects/gbif_download_standalone/species_checklists/uksi-moths-keys-nodup-small.csv\",\n",
    "#     use_parallel=True,\n",
    "#     use_multiproc=False,\n",
    "#     max_data_sp=2,\n",
    "#     skip_non_adults=True\n",
    "# )\n",
    "\n",
    "args = SimpleNamespace(\n",
    "    write_directory=\"/bask/homes/r/rybf4168/vjgo8416-amber/data/gbif_download_standalone/gbif_images/tests/\",\n",
    "    occ_files=\"/bask/homes/r/rybf4168/vjgo8416-amber/data/gbif_download_standalone/dwca_preprocessed/occurrence_dataframes_20231018/\",\n",
    "    media_file=\"/bask/homes/r/rybf4168/vjgo8416-amber/data/gbif_download_standalone/dwca_preprocessed/multimedia_lepidoptera_20231018.csv\",\n",
    "    species_checklist=\"/bask/homes/r/rybf4168/vjgo8416-amber/projects/gbif_download_standalone/species_checklists/singapore-moths-keys-nodup-small.csv\",\n",
    "    use_parallel=True,\n",
    "    use_multiproc=False,\n",
    "    max_data_sp=10,\n",
    "    skip_non_adults=True\n",
    ")"
   ]
  },
  {
   "cell_type": "code",
   "execution_count": 3,
   "metadata": {},
   "outputs": [
    {
     "name": "stdout",
     "output_type": "stream",
     "text": [
      "reading media\n",
      "done\n",
      "Calling download function...\n",
      "Downloading for Nemophora aurisparsella\n",
      "Downloading for Atteva fabriciella\n",
      "Creating metadata\n",
      "Downloading for Gunda subnotata\n",
      "Creating metadata\n",
      "Creating metadata\n",
      "Downloading for Nemophora decisella\n",
      "Creating metadata\n",
      "Downloading for Atteva wallengreni\n",
      "Creating metadata\n",
      "Downloading for Phycodes limata\n",
      "Creating metadataDownloading for Penicillifera apicalis\n",
      "Downloading for Ocinara albicollis\n",
      "\n",
      "Creating metadata\n",
      "Downloading for Trilocha varians\n",
      "Creating metadata\n",
      "Creating metadata\n",
      "Downloading for Tetragonus catamitus\n",
      "Creating metadata\n",
      "Downloading complete for Gunda subnotata with 0 images.\n",
      "Downloading complete for Nemophora aurisparsella with 0 images.\n",
      "Error downloading URL: 'http://mothimage.mauchiuan.com//images/twmoth001/twmoth003343.jpg'. Error: <urlopen error [Errno -2] Name or service not known>\n",
      "Error downloading URL: 'http://mothimage.mauchiuan.com//images/twmoth021/twmoth102028.jpg'. Error: <urlopen error [Errno -2] Name or service not known>\n",
      "Error downloading URL: 'http://mothimage.mauchiuan.com//images/twmoth031/twmoth150359.jpg'. Error: <urlopen error [Errno -2] Name or service not known>\n",
      "Error downloading URL: 'http://mothimage.mauchiuan.com//images/twmoth069/twmoth342881.jpg'. Error: <urlopen error [Errno -2] Name or service not known>\n",
      "Error downloading URL: 'http://mothimage.mauchiuan.com//images/twmoth070/twmoth345518.jpg'. Error: <urlopen error [Errno -2] Name or service not known>\n",
      "Error downloading URL: 'http://mothimage.mauchiuan.com//images/twmoth006/twmoth026262.jpg'. Error: <urlopen error [Errno -2] Name or service not known>\n",
      "Error downloading URL: 'http://mothimage.mauchiuan.com//images/twmoth006/twmoth028396.jpg'. Error: <urlopen error [Errno -2] Name or service not known>\n",
      "Error downloading URL: 'http://mothimage.mauchiuan.com//images/twmoth008/twmoth036684.jpg'. Error: <urlopen error [Errno -2] Name or service not known>\n",
      "Error downloading URL: 'http://mothimage.mauchiuan.com//images/twmoth020/twmoth096778.jpg'. Error: <urlopen error [Errno -2] Name or service not known>\n",
      "Error downloading URL: 'http://mothimage.mauchiuan.com//images/twmoth039/twmoth190241.jpg'. Error: <urlopen error [Errno -2] Name or service not known>\n",
      "Error downloading URL: 'http://mothimage.mauchiuan.com//images/twmoth018/twmoth089683.jpg'. Error: <urlopen error [Errno -2] Name or service not known>\n",
      "Error downloading URL: 'http://mothimage.mauchiuan.com//images/twmoth028/twmoth135906.jpg'. Error: <urlopen error [Errno -2] Name or service not known>\n",
      "Error downloading URL: 'http://mothimage.mauchiuan.com//images/twmoth028/twmoth135979.jpg'. Error: <urlopen error [Errno -2] Name or service not known>\n",
      "Error downloading URL: 'http://mothimage.mauchiuan.com//images/twmoth067/twmoth333224.jpg'. Error: <urlopen error [Errno -2] Name or service not known>\n",
      "Downloading complete for Penicillifera apicalis with 10 images.\n",
      "Downloading complete for Atteva fabriciella with 10 images.\n",
      "Downloading complete for Tetragonus catamitus with 10 images.\n",
      "Downloading complete for Nemophora decisella with 10 images.\n",
      "Downloading complete for Phycodes limata with 10 images.\n",
      "Downloading complete for Ocinara albicollis with 10 images.\n",
      "Downloading complete for Atteva wallengreni with 10 images.\n",
      "Downloading complete for Trilocha varians with 10 images.\n",
      "Finished downloading for the given list! Time taken: 15 seconds\n",
      "Done with the download function\n"
     ]
    }
   ],
   "source": [
    "prep_and_read_files(args)"
   ]
  },
  {
   "cell_type": "code",
   "execution_count": null,
   "metadata": {},
   "outputs": [],
   "source": []
  }
 ],
 "metadata": {
  "kernelspec": {
   "display_name": "gbif_download_standalone (Conda)",
   "language": "python",
   "name": "sys_gbif_download_standalone"
  },
  "language_info": {
   "codemirror_mode": {
    "name": "ipython",
    "version": 3
   },
   "file_extension": ".py",
   "mimetype": "text/x-python",
   "name": "python",
   "nbconvert_exporter": "python",
   "pygments_lexer": "ipython3",
   "version": "3.11.5"
  }
 },
 "nbformat": 4,
 "nbformat_minor": 4
}
