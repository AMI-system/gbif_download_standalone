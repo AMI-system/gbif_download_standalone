{
 "cells": [
  {
   "cell_type": "code",
   "execution_count": 9,
   "metadata": {},
   "outputs": [],
   "source": [
    "from types import SimpleNamespace\n",
    "import argparse\n",
    "import sys\n",
    "import os\n",
    "\n",
    "from fetch_gbif_moth_data import prep_and_read_files"
   ]
  },
  {
   "cell_type": "code",
   "execution_count": 10,
   "metadata": {},
   "outputs": [],
   "source": [
    "if sys.platform.startswith(\"linux\"):\n",
    "    data_dir = \"/bask/projects/v/vjgo8416-amber/data/gbif_download_standalone/\"\n",
    "    project_dir = \"\"\n",
    "elif sys.platform == \"darwin\":\n",
    "    data_dir = \"/Users/lbokeria/Documents/projects/gbif-species-trainer-data/\"\n",
    "    project_dir = \"/Users/lbokeria/Documents/projects/gbif_download_standalone/\"\n",
    "else:\n",
    "    print(\"Not linux or mac!\")\n",
    "    \n",
    "checklist_name = \"uksi-moths-keys-nodup-small\""
   ]
  },
  {
   "cell_type": "code",
   "execution_count": 11,
   "metadata": {},
   "outputs": [],
   "source": [
    "args = SimpleNamespace(\n",
    "    write_directory  =os.path.join(data_dir,\"gbif_images\",\"tests\"),\n",
    "    occ_files        =os.path.join(data_dir,\"dwca_preprocessed\",\n",
    "                                   \"occurrence_dataframes_20231018/\"),\n",
    "    media_file       =os.path.join(data_dir,\"dwca_preprocessed\",\n",
    "                                   \"multimedia_lepidoptera_20231018.csv\"),\n",
    "    species_checklist=os.path.join(project_dir,\"species_checklists\",\n",
    "                                   checklist_name+\".csv\"),\n",
    "    use_parallel=True,\n",
    "    use_multiproc=False,\n",
    "    max_data_sp=200,\n",
    "    skip_non_adults=True\n",
    ")\n",
    "\n",
    "# args = SimpleNamespace(\n",
    "#     write_directory=\"/bask/homes/r/rybf4168/vjgo8416-amber/data/gbif_download_standalone/gbif_images/tests/\",\n",
    "#     occ_files=\"/bask/homes/r/rybf4168/vjgo8416-amber/data/gbif_download_standalone/dwca_preprocessed/occurrence_dataframes_20231018/\",\n",
    "#     media_file=\"/bask/homes/r/rybf4168/vjgo8416-amber/data/gbif_download_standalone/dwca_preprocessed/multimedia_lepidoptera_20231018.csv\",\n",
    "#     species_checklist=\"/bask/homes/r/rybf4168/vjgo8416-amber/projects/gbif_download_standalone/species_checklists/singapore-moths-keys-nodup-small.csv\",\n",
    "#     use_parallel=True,\n",
    "#     use_multiproc=False,\n",
    "#     max_data_sp=10,\n",
    "#     skip_non_adults=True\n",
    "# )"
   ]
  },
  {
   "cell_type": "code",
   "execution_count": 12,
   "metadata": {},
   "outputs": [
    {
     "name": "stdout",
     "output_type": "stream",
     "text": [
      "reading media\n",
      "done\n",
      "Calling download function...\n",
      "Paranthrene tabaniformis already has 10 images downloaded\n",
      "Bembecia ichneumoniformis already has 10 images downloaded\n",
      "Downloading for Paranthrene tabaniformis\n",
      "Downloading for Bembecia ichneumoniformis\n",
      "Pennisetia hylaeiformis already has 10 images downloadedPyropteron chrysidiformis already has 0 images downloaded\n",
      "\n",
      "Downloading for Pennisetia hylaeiformis\n",
      "Sesia bembeciformis already has 10 images downloadedDownloading for Pyropteron chrysidiformis\n",
      "\n",
      "Downloading for Sesia bembeciformis\n",
      "Synanthedon andrenaeformis already has 10 images downloaded\n",
      "Downloading for Synanthedon andrenaeformis\n",
      "Synanthedon culiciformis already has 10 images downloaded\n",
      "Downloading for Synanthedon culiciformis\n",
      "Pyropteron muscaeformis already has 10 images downloaded\n",
      "Downloading for Pyropteron muscaeformis\n",
      "Synanthedon formicaeformis already has 10 images downloaded\n",
      "Downloading for Synanthedon formicaeformis\n",
      "Synanthedon spheciformis already has 10 images downloaded\n",
      "Downloading for Synanthedon spheciformis\n",
      "Synanthedon flaviventris already has 10 images downloaded\n",
      "Downloading for Synanthedon flaviventris\n",
      "Synanthedon scoliaeformis already has 10 images downloaded\n",
      "Downloading for Synanthedon scoliaeformis\n",
      "Sesia apiformis already has 10 images downloaded\n",
      "Synanthedon myopaeformis already has 10 images downloadedDownloading for Sesia apiformis\n",
      "\n",
      "Downloading for Synanthedon myopaeformis\n",
      "Downloading complete for Pyropteron chrysidiformis with 0 images.\n",
      "Synanthedon tipuliformis already has 10 images downloaded\n",
      "Downloading for Synanthedon tipuliformis\n",
      "Downloading complete for Pyropteron muscaeformis with 20 images.\n",
      "Synanthedon vespiformis already has 10 images downloaded\n",
      "Downloading for Synanthedon vespiformis\n",
      "Image download failed but corrupted file still createdDeleting /Users/lbokeria/Documents/projects/gbif-species-trainer-data/gbif_images/tests/Sesiidae/Synanthedon/Synanthedon scoliaeformis/3003689768.jpg\n",
      "Image download failed but corrupted file still createdDeleting /Users/lbokeria/Documents/projects/gbif-species-trainer-data/gbif_images/tests/Sesiidae/Synanthedon/Synanthedon myopaeformis/3003751315.jpg\n",
      "Downloading complete for Synanthedon flaviventris with 39 images.\n",
      "Image download failed but corrupted file still createdDeleting /Users/lbokeria/Documents/projects/gbif-species-trainer-data/gbif_images/tests/Sesiidae/Synanthedon/Synanthedon tipuliformis/3003658141.jpg\n",
      "Downloading complete for Synanthedon andrenaeformis with 73 images.\n",
      "Downloading complete for Sesia bembeciformis with 200 images.\n",
      "Downloading complete for Synanthedon spheciformis with 200 images.\n",
      "Downloading complete for Synanthedon formicaeformis with 200 images.\n",
      "Downloading complete for Paranthrene tabaniformis with 200 images.\n",
      "Downloading complete for Synanthedon culiciformis with 200 images.\n",
      "Downloading complete for Synanthedon vespiformis with 177 images.\n",
      "Downloading complete for Bembecia ichneumoniformis with 200 images.\n",
      "Downloading complete for Synanthedon scoliaeformis with 200 images.\n",
      "Downloading complete for Synanthedon myopaeformis with 200 images.\n",
      "Downloading complete for Sesia apiformis with 200 images.\n",
      "Downloading complete for Synanthedon tipuliformis with 200 images.\n",
      "Downloading complete for Pennisetia hylaeiformis with 200 images.\n",
      "Finished downloading for the given list! Time taken: 423 seconds\n",
      "Done with the download function\n"
     ]
    }
   ],
   "source": [
    "prep_and_read_files(args)"
   ]
  },
  {
   "cell_type": "code",
   "execution_count": null,
   "metadata": {},
   "outputs": [],
   "source": []
  }
 ],
 "metadata": {
  "kernelspec": {
   "display_name": "gbif_download_standalone",
   "language": "python",
   "name": "python3"
  },
  "language_info": {
   "codemirror_mode": {
    "name": "ipython",
    "version": 3
   },
   "file_extension": ".py",
   "mimetype": "text/x-python",
   "name": "python",
   "nbconvert_exporter": "python",
   "pygments_lexer": "ipython3",
   "version": "3.11.5"
  }
 },
 "nbformat": 4,
 "nbformat_minor": 4
}
