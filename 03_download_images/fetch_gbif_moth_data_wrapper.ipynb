{
 "cells": [
  {
   "cell_type": "code",
   "execution_count": 1,
   "metadata": {},
   "outputs": [],
   "source": [
    "from types import SimpleNamespace\n",
    "import argparse\n",
    "\n",
    "from fetch_gbif_moth_data import prep_and_read_files"
   ]
  },
  {
   "cell_type": "code",
   "execution_count": 2,
   "metadata": {},
   "outputs": [],
   "source": [
    "# args = SimpleNamespace(\n",
    "#     write_directory=\"/Users/lbokeria/Documents/projects/gbif-species-trainer-data/gbif_images/sandbox\",\n",
    "#     occ_files=\"/Users/lbokeria/Documents/projects/gbif-species-trainer-data/occurrence_dataframes/\",\n",
    "#     media_file=\"/Users/lbokeria/Documents/projects/gbif-species-trainer-data/dwca_files/multimedia_lepidoptera.csv\",\n",
    "#     species_checklist=\"/Users/lbokeria/Documents/projects/gbif_download_standalone/species_checklists/uksi-moths-keys-nodup-small.csv\",\n",
    "#     use_parallel=True,\n",
    "#     use_multiproc=False,\n",
    "#     max_data_sp=2,\n",
    "#     skip_non_adults=True\n",
    "# )\n",
    "\n",
    "args = SimpleNamespace(\n",
    "    write_directory=\"/bask/homes/r/rybf4168/vjgo8416-amber/data/gbif_download_standalone/gbif_images/sandbox\",\n",
    "    occ_files=\"/bask/homes/r/rybf4168/vjgo8416-amber/data/gbif-species-trainer-AMI-fork/occurrence_dataframes/\",\n",
    "    media_file=\"/bask/homes/r/rybf4168/vjgo8416-amber/data/gbif_download_standalone/dwca_preprocessed/multimedia_lepidoptera.csv\",\n",
    "    species_checklist=\"/bask/homes/r/rybf4168/vjgo8416-amber/projects/gbif_download_standalone/species_checklists/uksi-moths-keys-nodup.csv\",\n",
    "    use_parallel=True,\n",
    "    use_multiproc=False,\n",
    "    max_data_sp=1000,\n",
    "    skip_non_adults=True\n",
    ")"
   ]
  },
  {
   "cell_type": "code",
   "execution_count": 3,
   "metadata": {},
   "outputs": [
    {
     "name": "stdout",
     "output_type": "stream",
     "text": [
      "reading media\n",
      "done\n",
      "Calling download function...\n",
      "Downloading for Adela croesella\n",
      "No occurrence file\n",
      "Downloading for Nematopogon magna\n",
      "Downloading for Adela cuprella\n",
      "Downloading for Nemophora cupriacella\n",
      "Downloading for Cauchas fibulella\n",
      "Downloading for Nematopogon pilella\n",
      "Downloading for Nematopogon schwarziellus\n",
      "Downloading for Nemophora fasciella\n",
      "Downloading for Nemophora minimella\n",
      "No occurrence file\n",
      "Downloading for Nematopogon metaxella\n",
      "Downloading for Argyresthia arceuthina\n",
      "Downloading for Argyresthia abdominalis\n",
      "Downloading for Cauchas rufimitrella\n",
      "Downloading for Argyresthia albistria\n",
      "Downloading for Argyresthia aurulentella\n",
      "Downloading for Argyresthia bonnetella\n",
      "Downloading for Nematopogon swammerdamella\n",
      "Downloading for Argyresthia dilectella\n",
      "Downloading for Argyresthia cupressella\n",
      "Downloading for Argyresthia illuminatella\n",
      "Downloading for Argyresthia ivella\n",
      "Downloading for Argyresthia glabratella\n",
      "Downloading for Argyresthia curvella\n",
      "Downloading for Nemophora metallica\n",
      "Downloading for Argyresthia glaucinella\n",
      "Downloading for Argyresthia praecocella\n",
      "Downloading for Adela viridella\n",
      "Downloading for Argyresthia laevigatella\n",
      "Downloading for Argyresthia conjugella\n",
      "Downloading for Alucita hexadactyla\n",
      "Downloading for Nemophora degeerella\n",
      "Downloading for Argyresthia goedartella\n",
      "Downloading complete for Argyresthia illuminatella with 0 images.\n",
      "Downloading for Argyresthia pruniella\n",
      "Downloading complete for Nemophora fasciella with 38 images.\n",
      "Downloading for Argyresthia pygmaeella\n",
      "Downloading complete for Nemophora cupriacella with 28 images.\n",
      "Downloading for Argyresthia retinella\n",
      "Downloading complete for Argyresthia praecocella with 14 images.\n",
      "Downloading for Argyresthia semifusca\n",
      "Downloading complete for Nemophora minimella with 48 images.\n",
      "Downloading for Argyresthia semitestacella\n",
      "Downloading complete for Argyresthia glaucinella with 10 images.\n",
      "Downloading for Argyresthia sorbiella\n",
      "Downloading complete for Argyresthia ivella with 15 images.\n",
      "Downloading for Argyresthia spinosella\n",
      "Downloading complete for Nematopogon magna with 7 images.\n",
      "Downloading for Argyresthia trifasciata\n"
     ]
    },
    {
     "name": "stderr",
     "output_type": "stream",
     "text": [
      "\n",
      "KeyboardInterrupt\n",
      "\n"
     ]
    },
    {
     "name": "stdout",
     "output_type": "stream",
     "text": [
      "Downloading complete for Argyresthia laevigatella with 2 images.\n",
      "Downloading complete for Argyresthia arceuthina with 37 images.\n",
      "Downloading complete for Argyresthia cupressella with 13 images.\n"
     ]
    }
   ],
   "source": [
    "prep_and_read_files(args)"
   ]
  },
  {
   "cell_type": "code",
   "execution_count": null,
   "metadata": {},
   "outputs": [],
   "source": []
  }
 ],
 "metadata": {
  "kernelspec": {
   "display_name": "gbif_download_standalone (Conda)",
   "language": "python",
   "name": "sys_gbif_download_standalone"
  },
  "language_info": {
   "codemirror_mode": {
    "name": "ipython",
    "version": 3
   },
   "file_extension": ".py",
   "mimetype": "text/x-python",
   "name": "python",
   "nbconvert_exporter": "python",
   "pygments_lexer": "ipython3",
   "version": "3.11.5"
  }
 },
 "nbformat": 4,
 "nbformat_minor": 4
}
