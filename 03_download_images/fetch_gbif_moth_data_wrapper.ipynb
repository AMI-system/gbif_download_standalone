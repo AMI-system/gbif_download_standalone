{
 "cells": [
  {
   "cell_type": "code",
   "execution_count": null,
   "metadata": {},
   "outputs": [],
   "source": [
    "from types import SimpleNamespace\n",
    "import argparse\n",
    "\n",
    "from fetch_gbif_moth_data import prep_and_read_files"
   ]
  },
  {
   "cell_type": "code",
   "execution_count": null,
   "metadata": {},
   "outputs": [],
   "source": [
    "args = SimpleNamespace(\n",
    "    write_directory=\"/Users/lbokeria/Documents/projects/gbif-species-trainer-data/gbif_images/sandbox\",\n",
    "    occ_files=\"/Users/lbokeria/Documents/projects/gbif-species-trainer-data/occurrence_dataframes/\",\n",
    "    media_file=\"/Users/lbokeria/Documents/projects/gbif-species-trainer-data/dwca_files/multimedia_lepidoptera.csv\",\n",
    "    species_checklist=\"/Users/lbokeria/Documents/projects/gbif_download_standalone/species_checklists/uksi-moths-keys-nodup.csv\",\n",
    "    use_parallel=True,\n",
    "    use_multiproc=False,\n",
    "    max_data_sp=2,\n",
    "    skip_non_adults=True\n",
    ")"
   ]
  },
  {
   "cell_type": "code",
   "execution_count": null,
   "metadata": {},
   "outputs": [],
   "source": [
    "prep_and_read_files(args)"
   ]
  }
 ],
 "metadata": {
  "kernelspec": {
   "display_name": "gbif_download_standalone",
   "language": "python",
   "name": "python3"
  },
  "language_info": {
   "codemirror_mode": {
    "name": "ipython",
    "version": 3
   },
   "file_extension": ".py",
   "mimetype": "text/x-python",
   "name": "python",
   "nbconvert_exporter": "python",
   "pygments_lexer": "ipython3",
   "version": "3.11.5"
  }
 },
 "nbformat": 4,
 "nbformat_minor": 4
}
