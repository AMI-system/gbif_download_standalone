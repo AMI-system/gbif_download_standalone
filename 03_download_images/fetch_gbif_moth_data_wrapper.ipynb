{
 "cells": [
  {
   "cell_type": "code",
   "execution_count": 5,
   "metadata": {},
   "outputs": [],
   "source": [
    "from types import SimpleNamespace\n",
    "import argparse\n",
    "\n",
    "from fetch_gbif_moth_data import prep_and_read_files"
   ]
  },
  {
   "cell_type": "code",
   "execution_count": 8,
   "metadata": {},
   "outputs": [],
   "source": [
    "# args = SimpleNamespace(\n",
    "#     write_directory=\"/Users/lbokeria/Documents/projects/gbif-species-trainer-data/gbif_images/sandbox\",\n",
    "#     occ_files=\"/Users/lbokeria/Documents/projects/gbif-species-trainer-data/occurrence_dataframes/\",\n",
    "#     media_file=\"/Users/lbokeria/Documents/projects/gbif-species-trainer-data/dwca_files/multimedia_lepidoptera.csv\",\n",
    "#     species_checklist=\"/Users/lbokeria/Documents/projects/gbif_download_standalone/species_checklists/uksi-moths-keys-nodup-small.csv\",\n",
    "#     use_parallel=True,\n",
    "#     use_multiproc=False,\n",
    "#     max_data_sp=2,\n",
    "#     skip_non_adults=True\n",
    "# )\n",
    "\n",
    "args = SimpleNamespace(\n",
    "    write_directory=\"/bask/homes/r/rybf4168/vjgo8416-amber/data/gbif_download_standalone/gbif_images/sandbox\",\n",
    "    occ_files=\"/bask/homes/r/rybf4168/vjgo8416-amber/data/gbif-species-trainer-AMI-fork/occurrence_dataframes/\",\n",
    "    media_file=\"/bask/homes/r/rybf4168/vjgo8416-amber/data/gbif_download_standalone/dwca_preprocessed/multimedia_lepidoptera.csv\",\n",
    "    species_checklist=\"/bask/homes/r/rybf4168/vjgo8416-amber/projects/gbif_download_standalone/species_checklists/uksi-moths-keys-nodup-onerow.csv\",\n",
    "    use_parallel=False,\n",
    "    use_multiproc=False,\n",
    "    max_data_sp=5,\n",
    "    skip_non_adults=True\n",
    ")"
   ]
  },
  {
   "cell_type": "code",
   "execution_count": 9,
   "metadata": {},
   "outputs": [
    {
     "name": "stdout",
     "output_type": "stream",
     "text": [
      "reading media\n",
      "done\n",
      "Calling download function...\n",
      "Calling for 1940838\n",
      "Downloading for Bembecia ichneumoniformis\n",
      "Error downloading URL: 'https://www.ksib.pl/ipt-nadlsiewierz/034-20-Bembecia_ichneumoniformis_(3447).jpg'. Error: HTTP Error 403: Forbidden\n",
      "Error downloading URL: 'http://cettia-idf.fr/ajax/dldimg/img_user!2017!07!761!1500276269_761.jpg'. Error: HTTP Error 404: Not Found\n",
      "Error downloading URL: 'https://static.inaturalist.org/photos/151585774/original.jpg'. Error: HTTP Error 403: Forbidden\n",
      "Downloading complete for Bembecia ichneumoniformis with 5 images.\n",
      "Finished downloading for the given list! Time taken: 6 seconds\n",
      "Done with the download function\n"
     ]
    }
   ],
   "source": [
    "prep_and_read_files(args)"
   ]
  },
  {
   "cell_type": "code",
   "execution_count": null,
   "metadata": {},
   "outputs": [],
   "source": []
  }
 ],
 "metadata": {
  "kernelspec": {
   "display_name": "gbif_download_standalone (Conda)",
   "language": "python",
   "name": "sys_gbif_download_standalone"
  },
  "language_info": {
   "codemirror_mode": {
    "name": "ipython",
    "version": 3
   },
   "file_extension": ".py",
   "mimetype": "text/x-python",
   "name": "python",
   "nbconvert_exporter": "python",
   "pygments_lexer": "ipython3",
   "version": "3.11.5"
  }
 },
 "nbformat": 4,
 "nbformat_minor": 4
}
